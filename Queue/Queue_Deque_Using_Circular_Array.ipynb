{
 "cells": [
  {
   "cell_type": "markdown",
   "metadata": {},
   "source": [
    "# <HR> Implementation of Deque using circular array <HR>"
   ]
  },
  {
   "cell_type": "code",
   "execution_count": 1,
   "metadata": {},
   "outputs": [],
   "source": [
    "class My_Deque:\n",
    "    def __init__(self, mem_size):\n",
    "        self.mem_size = mem_size\n",
    "        self.mem = [None]*mem_size\n",
    "        self.front = self.rear = -1\n",
    "        \n",
    "    def insertFront(self, elem):\n",
    "        if not self.isFull():\n",
    "            if self.isEmpty():\n",
    "                self.front = self.rear = 0\n",
    "                self.mem[self.front] = elem\n",
    "            else:\n",
    "                self.front = (self.mem_size + self.front - 1) % self.mem_size\n",
    "                self.mem[self.front] = elem\n",
    "        else:\n",
    "            raise MemoryError(\"Deque is full....\")\n",
    "        \n",
    "    def insertRear(self, elem):\n",
    "        if not self.isFull():\n",
    "            if self.isEmpty():\n",
    "                self.rear = self.front = 0\n",
    "                self.mem[self.rear] = elem\n",
    "            else:\n",
    "                self.rear = (self.rear + 1) % self.mem_size\n",
    "                self.mem[self.rear] = elem\n",
    "        else:\n",
    "            raise MemoryError(\"Deque is full....\")\n",
    "        \n",
    "    def deleteFront(self):\n",
    "        if not self.isEmpty():\n",
    "            if self.front == 0:\n",
    "                self.front = self.rear = -1\n",
    "            else:\n",
    "                self.front = (self.front + 1) % self.mem_size\n",
    "        else:\n",
    "            raise  MemoryError(\"Deque is empty....\")\n",
    "        \n",
    "    def deleteRear(self):\n",
    "        if not self.isEmpty():\n",
    "            if self.rear == 0:\n",
    "                self.front = self.rear = -1\n",
    "            else:\n",
    "                self.rear = (self.mem_size + self.rear- 1) % self.mem_size\n",
    "        else:\n",
    "            MemoryError(\"Deque is empty....\")\n",
    "                \n",
    "    def isEmpty(self):\n",
    "        return self.front == -1\n",
    "    \n",
    "    def isFull(self):\n",
    "        return (self.front==0 and self.rear == self.mem_size) or (self.front - self.rear == 1)\n",
    "    \n",
    "    def getFront(self):\n",
    "        if self.isEmpty():\n",
    "            return float('inf')\n",
    "        return self.mem[self.front]\n",
    "    \n",
    "    def getRear(self):\n",
    "        if self.isEmpty():\n",
    "            return float('inf')\n",
    "        return self.mem[self.rear]\n",
    "            "
   ]
  },
  {
   "cell_type": "code",
   "execution_count": 2,
   "metadata": {},
   "outputs": [
    {
     "name": "stdout",
     "output_type": "stream",
     "text": [
      "Insert element at rear end  : 5\n",
      "Insert element at rear end  : 10\n",
      "Get rear element:  10\n",
      "After delete rear element new rear become  5\n",
      "inserting element at front end \n",
      "Get front element:  15\n",
      "After delete front element new front become  5\n"
     ]
    }
   ],
   "source": [
    "dq = My_Deque(mem_size=5)\n",
    "print(\"Insert element at rear end  : 5\")\n",
    "dq.insertRear(5)\n",
    "print(\"Insert element at rear end  : 10\")\n",
    "dq.insertRear(10)\n",
    "print(\"Get rear element: \", dq.getRear())\n",
    "dq.deleteRear()\n",
    "print(\"After delete rear element new rear become \", dq.getRear()) \n",
    "print(\"inserting element at front end \")\n",
    "dq.insertFront(15);\n",
    "print(\"Get front element: \", dq.getFront())\n",
    "dq.deleteFront(); \n",
    "print(\"After delete front element new front become \", dq.getFront())"
   ]
  },
  {
   "cell_type": "code",
   "execution_count": null,
   "metadata": {},
   "outputs": [],
   "source": []
  },
  {
   "cell_type": "code",
   "execution_count": null,
   "metadata": {},
   "outputs": [],
   "source": []
  }
 ],
 "metadata": {
  "kernelspec": {
   "display_name": "Python 3",
   "language": "python",
   "name": "python3"
  },
  "language_info": {
   "codemirror_mode": {
    "name": "ipython",
    "version": 3
   },
   "file_extension": ".py",
   "mimetype": "text/x-python",
   "name": "python",
   "nbconvert_exporter": "python",
   "pygments_lexer": "ipython3",
   "version": "3.6.4"
  }
 },
 "nbformat": 4,
 "nbformat_minor": 2
}
