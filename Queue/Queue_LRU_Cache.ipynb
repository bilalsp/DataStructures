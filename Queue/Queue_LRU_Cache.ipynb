{
 "cells": [
  {
   "cell_type": "markdown",
   "metadata": {},
   "source": [
    "# <HR> LRU Cache Implementation <HR>"
   ]
  },
  {
   "cell_type": "markdown",
   "metadata": {},
   "source": [
    "### 1. Implementation Using Queue(Implemented Using Double Linked List) and Hash\n",
    "    Time Complexity: get(key) is O(1) | set(key, value) is O(1)"
   ]
  },
  {
   "cell_type": "code",
   "execution_count": 1,
   "metadata": {},
   "outputs": [],
   "source": [
    "class Node:\n",
    "    def __init__(self,key,value):\n",
    "        self.key=key\n",
    "        self.value=value\n",
    "        self.next=self.pre=None"
   ]
  },
  {
   "cell_type": "code",
   "execution_count": 2,
   "metadata": {},
   "outputs": [],
   "source": [
    "class LRUCache:\n",
    "    \n",
    "    def __init__(self, cap):\n",
    "        self.capacity = cap\n",
    "        self.current_size = 0\n",
    "        self.hash_map = dict()\n",
    "        self.front = self.rear = None \n",
    "        \n",
    "    def get(self, key):\n",
    "        if key in self.hash_map:\n",
    "            node = self.hash_map[key]\n",
    "            self.__remove(node)\n",
    "            self.__putAtFront(node)\n",
    "            return node.value\n",
    "        return -1\n",
    "    \n",
    "    def set(self, key, value) -> None:\n",
    "        if key in self.hash_map:\n",
    "            node = self.hash_map[key]\n",
    "            node.value = value\n",
    "            self.__remove(node)\n",
    "            self.__putAtFront(node)\n",
    "        else:\n",
    "            new_node = Node(key, value)\n",
    "            if self.current_size == self.capacity:\n",
    "                self.hash_map.pop(self.rear.key)\n",
    "                self.__remove(self.rear)\n",
    "                self.__putAtFront(new_node)\n",
    "            else:\n",
    "                self.__putAtFront(new_node)\n",
    "                self.current_size += 1\n",
    "            self.hash_map[key] = new_node\n",
    "    \n",
    "    def __remove(self, node):\n",
    "        if node.pre is not None:\n",
    "            node.pre.next = node.next\n",
    "        else:\n",
    "            self.front = node.next\n",
    "        \n",
    "        if node.next is not None:\n",
    "            node.next.pre = node.pre\n",
    "        else:\n",
    "            self.rear = node.pre\n",
    "    \n",
    "    def __putAtFront(self, node):\n",
    "        node.pre, node.next = None, self.front\n",
    "        if self.front is not None:\n",
    "            self.front.pre = node\n",
    "        self.front = node\n",
    "        if self.rear is None:\n",
    "            self.rear = self.front\n",
    "            \n",
    "    def printLRUCache(self):\n",
    "        temp = self.front\n",
    "        print(\"Order: Most Recent to Least Recent\")\n",
    "        while temp:\n",
    "            print(\"({},{})\".format(temp.key, temp.value), end = \" \")\n",
    "            temp = temp.next\n",
    "        print()"
   ]
  },
  {
   "cell_type": "code",
   "execution_count": 3,
   "metadata": {},
   "outputs": [
    {
     "name": "stdout",
     "output_type": "stream",
     "text": [
      "Order: Most Recent to Least Recent\n",
      "\n",
      "Order: Most Recent to Least Recent\n",
      "(1,2) \n",
      "Order: Most Recent to Least Recent\n",
      "(2,3) (1,2) \n",
      "Order: Most Recent to Least Recent\n",
      "(1,5) (2,3) \n",
      "Order: Most Recent to Least Recent\n",
      "(4,5) (1,5) \n",
      "Order: Most Recent to Least Recent\n",
      "(4,5) (1,5) \n",
      "Order: Most Recent to Least Recent\n",
      "(1,5) (4,5) \n"
     ]
    }
   ],
   "source": [
    "lru_cache = LRUCache(2)\n",
    "lru_cache.printLRUCache()\n",
    "lru_cache.set(1,2)\n",
    "lru_cache.printLRUCache()\n",
    "lru_cache.set(2,3)\n",
    "lru_cache.printLRUCache()\n",
    "lru_cache.set(1,5)\n",
    "lru_cache.printLRUCache()\n",
    "lru_cache.set(4,5)\n",
    "lru_cache.printLRUCache()\n",
    "lru_cache.get(4)\n",
    "lru_cache.printLRUCache()\n",
    "lru_cache.get(1)\n",
    "lru_cache.printLRUCache()"
   ]
  },
  {
   "cell_type": "code",
   "execution_count": null,
   "metadata": {},
   "outputs": [],
   "source": []
  },
  {
   "cell_type": "code",
   "execution_count": null,
   "metadata": {},
   "outputs": [],
   "source": []
  },
  {
   "cell_type": "code",
   "execution_count": null,
   "metadata": {},
   "outputs": [],
   "source": []
  }
 ],
 "metadata": {
  "kernelspec": {
   "display_name": "Python 3",
   "language": "python",
   "name": "python3"
  },
  "language_info": {
   "codemirror_mode": {
    "name": "ipython",
    "version": 3
   },
   "file_extension": ".py",
   "mimetype": "text/x-python",
   "name": "python",
   "nbconvert_exporter": "python",
   "pygments_lexer": "ipython3",
   "version": "3.6.4"
  }
 },
 "nbformat": 4,
 "nbformat_minor": 2
}
