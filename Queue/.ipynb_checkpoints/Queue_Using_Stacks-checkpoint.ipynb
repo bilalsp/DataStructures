{
 "cells": [
  {
   "cell_type": "markdown",
   "metadata": {},
   "source": [
    "# <HR> Queue Using Stacks <HR>"
   ]
  },
  {
   "cell_type": "code",
   "execution_count": 1,
   "metadata": {},
   "outputs": [],
   "source": [
    "class Stack:\n",
    "    def __init__(self):\n",
    "        self.s = []\n",
    "        \n",
    "    def push(self, item):\n",
    "        self.s.append(item)\n",
    "        \n",
    "    def pop(self):\n",
    "        return self.s.pop()\n",
    "    \n",
    "    def isEmpty(self):\n",
    "        return self.s == []"
   ]
  },
  {
   "cell_type": "code",
   "execution_count": 2,
   "metadata": {},
   "outputs": [],
   "source": [
    "class Queue:\n",
    "    def __init__(self):\n",
    "        self.s1 = Stack()\n",
    "        self.s2 = Stack()\n",
    "        \n",
    "    def enQueue(self, item):\n",
    "        self.s1.push(item)\n",
    "        \n",
    "    def deQueue(self):\n",
    "        if self.s2.isEmpty() and self.s1.isEmpty():\n",
    "            return float('inf')\n",
    "        elif self.s2.isEmpty():\n",
    "            while not self.s1.isEmpty():\n",
    "                self.s2.push(self.s1.pop())\n",
    "            return self.s2.pop()\n",
    "        else:\n",
    "            return self.s2.pop()"
   ]
  },
  {
   "cell_type": "code",
   "execution_count": 3,
   "metadata": {},
   "outputs": [
    {
     "name": "stdout",
     "output_type": "stream",
     "text": [
      "34\n",
      "20\n",
      "35\n",
      "56\n",
      "inf\n"
     ]
    }
   ],
   "source": [
    "q = Queue()\n",
    "q.enQueue(34)\n",
    "q.enQueue(20)\n",
    "q.enQueue(35)\n",
    "q.enQueue(56)\n",
    "\n",
    "print(q.deQueue())\n",
    "print(q.deQueue())\n",
    "print(q.deQueue())\n",
    "print(q.deQueue())\n",
    "print(q.deQueue())"
   ]
  },
  {
   "cell_type": "code",
   "execution_count": null,
   "metadata": {},
   "outputs": [],
   "source": []
  },
  {
   "cell_type": "code",
   "execution_count": null,
   "metadata": {},
   "outputs": [],
   "source": []
  }
 ],
 "metadata": {
  "kernelspec": {
   "display_name": "Python 3",
   "language": "python",
   "name": "python3"
  },
  "language_info": {
   "codemirror_mode": {
    "name": "ipython",
    "version": 3
   },
   "file_extension": ".py",
   "mimetype": "text/x-python",
   "name": "python",
   "nbconvert_exporter": "python",
   "pygments_lexer": "ipython3",
   "version": "3.6.4"
  }
 },
 "nbformat": 4,
 "nbformat_minor": 2
}
