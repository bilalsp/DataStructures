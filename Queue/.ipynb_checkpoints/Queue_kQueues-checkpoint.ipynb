{
 "cells": [
  {
   "cell_type": "markdown",
   "metadata": {},
   "source": [
    "# <HR> Implement k Queues in a single array<HR>"
   ]
  },
  {
   "cell_type": "code",
   "execution_count": 1,
   "metadata": {},
   "outputs": [],
   "source": [
    "class KQueues:\n",
    "    \n",
    "    def __init__(self, capacity, k):\n",
    "        self.mem = [None]*capacity\n",
    "        self.next = list(range(1,capacity)) + [-1]\n",
    "        self.front = [-1]*k\n",
    "        self.rear = [-1]*k\n",
    "        self.available_at = 0\n",
    "        \n",
    "    def enQueue(self, q, value):\n",
    "        if self.isFull():\n",
    "            raise \"Queue Overflow\"\n",
    "            \n",
    "        free_slot = self.available_at\n",
    "        self.available_at = self.next[self.available_at]\n",
    "        \n",
    "        if self.isEmpty(q):\n",
    "            self.front[q] = free_slot\n",
    "        else:\n",
    "            self.next[self.rear[q]] = free_slot\n",
    "        \n",
    "        self.mem[free_slot] = value\n",
    "        self.rear[q] = free_slot\n",
    "        self.next[self.rear[q]] = -1\n",
    "            \n",
    "    def deQueue(self, q):\n",
    "        if self.isEmpty(q) is not True:\n",
    "            front_q = self.front[q]\n",
    "            self.front[q] = self.next[front_q]\n",
    "            self.next[front_q] = self.available_at\n",
    "            self.available_at = front_q\n",
    "            return self.mem[front_q]\n",
    "        return -1\n",
    "            \n",
    "    def isEmpty(self, q):\n",
    "        return self.rear[q] == -1\n",
    "    \n",
    "    def isFull(self):\n",
    "        \"\"\"Memory is FUll or not\"\"\"\n",
    "        return self.available_at == -1\n",
    "        "
   ]
  },
  {
   "cell_type": "code",
   "execution_count": 2,
   "metadata": {},
   "outputs": [
    {
     "name": "stdout",
     "output_type": "stream",
     "text": [
      "Dequeued element from queue 2 is  15\n",
      "Dequeued element from queue 1 is  17\n",
      "Dequeued element from queue 0 is  11\n"
     ]
    }
   ],
   "source": [
    "kq = KQueues(capacity=10, k=3)\n",
    "kq.enQueue(2,15) \n",
    "kq.enQueue(2,45) \n",
    "kq.enQueue(1,17) \n",
    "kq.enQueue(1,49) \n",
    "kq.enQueue(1,39) \n",
    "kq.enQueue(0,11) \n",
    "kq.enQueue(0,9) \n",
    "kq.enQueue(0,7) \n",
    "\n",
    "print(\"Dequeued element from queue 2 is \", kq.deQueue(2))\n",
    "print(\"Dequeued element from queue 1 is \", kq.deQueue(1))\n",
    "print(\"Dequeued element from queue 0 is \", kq.deQueue(0))"
   ]
  },
  {
   "cell_type": "code",
   "execution_count": null,
   "metadata": {},
   "outputs": [],
   "source": []
  },
  {
   "cell_type": "code",
   "execution_count": null,
   "metadata": {},
   "outputs": [],
   "source": []
  },
  {
   "cell_type": "code",
   "execution_count": null,
   "metadata": {},
   "outputs": [],
   "source": []
  }
 ],
 "metadata": {
  "kernelspec": {
   "display_name": "Python 3",
   "language": "python",
   "name": "python3"
  },
  "language_info": {
   "codemirror_mode": {
    "name": "ipython",
    "version": 3
   },
   "file_extension": ".py",
   "mimetype": "text/x-python",
   "name": "python",
   "nbconvert_exporter": "python",
   "pygments_lexer": "ipython3",
   "version": "3.6.4"
  }
 },
 "nbformat": 4,
 "nbformat_minor": 2
}
