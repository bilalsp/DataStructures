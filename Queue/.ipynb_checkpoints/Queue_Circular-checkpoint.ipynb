{
 "cells": [
  {
   "cell_type": "markdown",
   "metadata": {},
   "source": [
    "# <HR> Circular Queue <HR>"
   ]
  },
  {
   "cell_type": "code",
   "execution_count": 1,
   "metadata": {},
   "outputs": [],
   "source": [
    "class CircularQueue:\n",
    "    def __init__(self, size):\n",
    "        self.size = size\n",
    "        self.q = [None]*size\n",
    "        self.front = self.rear = -1\n",
    "        \n",
    "    def enQueue(self, item):        \n",
    "        if self.isFull():\n",
    "            print(\"Queue is Full...\\n\")\n",
    "        elif self.isEmpty():\n",
    "            self.front = self.rear = 0\n",
    "            self.q[self.rear] = item\n",
    "        else:\n",
    "            self.rear = (self.rear+1)%self.size\n",
    "            self.q[self.rear] = item\n",
    "            \n",
    "    def deQueue(self):\n",
    "        if self.isEmpty():\n",
    "            print(\"Queue is Empty\\n\")\n",
    "        \n",
    "        item = self.q[self.front]\n",
    "                      \n",
    "        if self.front == self.rear:#Only one element\n",
    "            self.front = self.rear = -1\n",
    "        elif self.front == self.size-1:\n",
    "            self.front = 0\n",
    "        else:\n",
    "            self.front += 1\n",
    "        \n",
    "        return item     \n",
    "                      \n",
    "    def display(self):\n",
    "        if self.isEmpty():\n",
    "            print(\"Queue is Empty..\\n\")\n",
    "        print(\"Elements of Circular Queue are: \")\n",
    "        if self.front <= self.rear:\n",
    "            print(*self.q[self.front:self.rear+1])\n",
    "        else:\n",
    "            print(*self.q[self.front:self.size],*self.q[0:self.rear+1])\n",
    "        print()\n",
    "        \n",
    "    def isEmpty(self):\n",
    "        return self.front==-1\n",
    "    \n",
    "    def isFull(self):\n",
    "        return (self.front == 0 and self.rear == self.size-1) or (self.rear == (self.front-1)%(self.size-1))\n",
    "    "
   ]
  },
  {
   "cell_type": "code",
   "execution_count": 2,
   "metadata": {},
   "outputs": [
    {
     "name": "stdout",
     "output_type": "stream",
     "text": [
      "Elements of Circular Queue are: \n",
      "14 22 13 -6\n",
      "\n",
      "Deleted value = 14\n",
      "\n",
      "Deleted value = 22\n",
      "\n",
      "Elements of Circular Queue are: \n",
      "13 -6\n",
      "\n",
      "Elements of Circular Queue are: \n",
      "13 -6 9 20 5\n",
      "\n",
      "Queue is Full...\n",
      "\n"
     ]
    }
   ],
   "source": [
    "q = CircularQueue(5)\n",
    "q.enQueue(14)\n",
    "q.enQueue(22)\n",
    "q.enQueue(13) \n",
    "q.enQueue(-6) \n",
    "\n",
    "q.display(); \n",
    "\n",
    "print(\"Deleted value =\", q.deQueue(), end=\"\\n\\n\")\n",
    "print(\"Deleted value =\", q.deQueue(), end=\"\\n\\n\") \n",
    "  \n",
    "q.display(); \n",
    "  \n",
    "q.enQueue(9)\n",
    "q.enQueue(20) \n",
    "q.enQueue(5) \n",
    "\n",
    "q.display()\n",
    "\n",
    "q.enQueue(20) "
   ]
  },
  {
   "cell_type": "code",
   "execution_count": null,
   "metadata": {},
   "outputs": [],
   "source": []
  }
 ],
 "metadata": {
  "kernelspec": {
   "display_name": "Python 3",
   "language": "python",
   "name": "python3"
  },
  "language_info": {
   "codemirror_mode": {
    "name": "ipython",
    "version": 3
   },
   "file_extension": ".py",
   "mimetype": "text/x-python",
   "name": "python",
   "nbconvert_exporter": "python",
   "pygments_lexer": "ipython3",
   "version": "3.6.4"
  }
 },
 "nbformat": 4,
 "nbformat_minor": 2
}
