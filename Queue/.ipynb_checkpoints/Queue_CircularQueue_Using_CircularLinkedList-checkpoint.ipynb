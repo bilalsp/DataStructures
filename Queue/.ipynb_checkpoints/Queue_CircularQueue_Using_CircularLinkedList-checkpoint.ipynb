{
 "cells": [
  {
   "cell_type": "markdown",
   "metadata": {},
   "source": [
    "# <HR> Circular Queue Using Circular Linked List<HR>"
   ]
  },
  {
   "cell_type": "code",
   "execution_count": 1,
   "metadata": {},
   "outputs": [],
   "source": [
    "class Node:\n",
    "    def __init__(self, value):\n",
    "        self.value = value\n",
    "        self.next = None"
   ]
  },
  {
   "cell_type": "code",
   "execution_count": 2,
   "metadata": {},
   "outputs": [],
   "source": [
    "class CircularQueue:\n",
    "    def __init__(self):\n",
    "        self.front = self.rear = None\n",
    "        \n",
    "    def enQueue(self, value):\n",
    "        if self.isEmpty():\n",
    "            new_node = Node(value)\n",
    "            new_node.next = new_node\n",
    "            self.front = self.rear = new_node\n",
    "        else:\n",
    "            new_node = Node(value)\n",
    "            self.rear.next = new_node\n",
    "            new_node.next = self.front \n",
    "            self.rear = new_node\n",
    "    \n",
    "    def deQueue(self):\n",
    "        if self.isEmpty():\n",
    "            raise MemoryError(\"Circular Queue is empty.\")\n",
    "            \n",
    "        if self.front == self.rear:\n",
    "            item = self.front.value\n",
    "            self.front = self.rear = None\n",
    "        else:\n",
    "            item = self.front.value\n",
    "            self.front = self.front.next\n",
    "            self.rear.next = self.front\n",
    "            \n",
    "        return item\n",
    "    \n",
    "    def isEmpty(self):\n",
    "        return self.front == None\n",
    "    \n",
    "    def displayQueue(self): \n",
    "        temp = self.front  \n",
    "        print(\"Elements in Circular Queue are: \", end = \" \")  \n",
    "        while (temp.next != self.front): \n",
    "            print(temp.value, end = \" \")  \n",
    "            temp = temp.next\n",
    "        print(temp.value) "
   ]
  },
  {
   "cell_type": "code",
   "execution_count": 3,
   "metadata": {},
   "outputs": [
    {
     "name": "stdout",
     "output_type": "stream",
     "text": [
      "Elements in Circular Queue are:  14 22 6\n",
      "Deleted value =  14\n",
      "Deleted value =  22\n",
      "Elements in Circular Queue are:  6\n",
      "Elements in Circular Queue are:  6 9 20\n"
     ]
    }
   ],
   "source": [
    "cq = CircularQueue()\n",
    "cq.enQueue(14)\n",
    "cq.enQueue(22)\n",
    "cq.enQueue(6)\n",
    "\n",
    "cq.displayQueue()\n",
    "\n",
    "print(\"Deleted value = \", cq.deQueue())  \n",
    "print(\"Deleted value = \", cq.deQueue())  \n",
    "\n",
    "cq.displayQueue()\n",
    "\n",
    "cq.enQueue(9)\n",
    "cq.enQueue(20)\n",
    "\n",
    "cq.displayQueue()"
   ]
  },
  {
   "cell_type": "code",
   "execution_count": null,
   "metadata": {},
   "outputs": [],
   "source": []
  }
 ],
 "metadata": {
  "kernelspec": {
   "display_name": "Python 3",
   "language": "python",
   "name": "python3"
  },
  "language_info": {
   "codemirror_mode": {
    "name": "ipython",
    "version": 3
   },
   "file_extension": ".py",
   "mimetype": "text/x-python",
   "name": "python",
   "nbconvert_exporter": "python",
   "pygments_lexer": "ipython3",
   "version": "3.6.4"
  }
 },
 "nbformat": 4,
 "nbformat_minor": 2
}
