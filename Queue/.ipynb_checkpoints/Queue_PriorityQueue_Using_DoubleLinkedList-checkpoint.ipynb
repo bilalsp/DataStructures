{
 "cells": [
  {
   "cell_type": "markdown",
   "metadata": {},
   "source": [
    "# <HR> Implement Priority Queue using doubly linked list <HR>"
   ]
  },
  {
   "cell_type": "code",
   "execution_count": 1,
   "metadata": {},
   "outputs": [],
   "source": [
    "class Node:\n",
    "    def __init__(self,v,p):\n",
    "        self.v = v\n",
    "        self.p = p\n",
    "        self.next = self.prev = None"
   ]
  },
  {
   "cell_type": "code",
   "execution_count": 2,
   "metadata": {},
   "outputs": [],
   "source": [
    "class PriorityQueue:\n",
    "    def __init__(self):\n",
    "        self.head = self.tail = None\n",
    "        \n",
    "    def push(self, value, priority):\n",
    "        new_node = Node(value, priority)\n",
    "        if self.isEmpty():\n",
    "            self.head = self.tail = new_node\n",
    "        else:\n",
    "            cur, prev = self.head, None\n",
    "            while cur and cur.p > priority:\n",
    "                prev = cur\n",
    "                cur = cur.next\n",
    "            if prev:\n",
    "                prev.next = new_node\n",
    "            else:\n",
    "                self.head = new_node\n",
    "            if cur:\n",
    "                cur.prev = new_node\n",
    "            else:\n",
    "                self.tail = new_node\n",
    "            new_node.prev = prev\n",
    "            new_node.next = cur\n",
    "            \n",
    "    def pop(self):\n",
    "        if self.isEmpty():\n",
    "            raise MemoryError(\"Priority Queue is empty...\")\n",
    "        item = self.head.v\n",
    "        if self.head == self.tail:\n",
    "            self.head = self.tail = None\n",
    "        else:\n",
    "            self.head = self.head.next\n",
    "        return item\n",
    "    \n",
    "    def peek(self):\n",
    "        if self.isEmpty():\n",
    "            raise MemoryError(\"Priority Queue is empty...\")\n",
    "        item = self.head.v\n",
    "        return item\n",
    "        \n",
    "    def isEmpty(self):\n",
    "        return self.head == None"
   ]
  },
  {
   "cell_type": "code",
   "execution_count": 3,
   "metadata": {},
   "outputs": [
    {
     "name": "stdout",
     "output_type": "stream",
     "text": [
      "POP:  6\n",
      "PEEK:  5\n"
     ]
    }
   ],
   "source": [
    "pq = PriorityQueue()\n",
    "pq.push(3, 4)\n",
    "pq.push(4, 5)\n",
    "pq.push(5, 6)\n",
    "pq.push(6, 7)\n",
    "pq.push(1, 2)\n",
    "print(\"POP: \",pq.pop())\n",
    "print(\"PEEK: \", pq.peek())"
   ]
  },
  {
   "cell_type": "code",
   "execution_count": null,
   "metadata": {},
   "outputs": [],
   "source": []
  },
  {
   "cell_type": "code",
   "execution_count": null,
   "metadata": {},
   "outputs": [],
   "source": []
  },
  {
   "cell_type": "code",
   "execution_count": null,
   "metadata": {},
   "outputs": [],
   "source": []
  }
 ],
 "metadata": {
  "kernelspec": {
   "display_name": "Python 3",
   "language": "python",
   "name": "python3"
  },
  "language_info": {
   "codemirror_mode": {
    "name": "ipython",
    "version": 3
   },
   "file_extension": ".py",
   "mimetype": "text/x-python",
   "name": "python",
   "nbconvert_exporter": "python",
   "pygments_lexer": "ipython3",
   "version": "3.6.4"
  }
 },
 "nbformat": 4,
 "nbformat_minor": 2
}
