{
 "cells": [
  {
   "cell_type": "markdown",
   "metadata": {},
   "source": [
    "# <HR> Queue in Python <HR>"
   ]
  },
  {
   "cell_type": "markdown",
   "metadata": {},
   "source": [
    "### 1. Implementation Using List \n",
    "    Time Complexity: deQueue is O(n) | enQueue is O(1)"
   ]
  },
  {
   "cell_type": "code",
   "execution_count": 1,
   "metadata": {},
   "outputs": [],
   "source": [
    "class Queue:\n",
    "    def __init__(self):\n",
    "        self.q = []\n",
    "        \n",
    "    def enQueue(self, item):\n",
    "        self.q.append(item)\n",
    "        \n",
    "    def deQueue(self):\n",
    "        if self.isEmpty():\n",
    "            print(\"Queue is Empty\")\n",
    "            return float('inf')\n",
    "        return self.q.pop(0)\n",
    "        \n",
    "    def isEmpty(self):\n",
    "        return self.q == []"
   ]
  },
  {
   "cell_type": "code",
   "execution_count": 2,
   "metadata": {},
   "outputs": [
    {
     "name": "stdout",
     "output_type": "stream",
     "text": [
      "Initial queue\n",
      "a b c\n",
      "\n",
      "Elements dequeued from queue\n",
      "a\n",
      "b\n",
      "c\n",
      "\n",
      "Queue after removing elements\n",
      "[]\n"
     ]
    }
   ],
   "source": [
    "q = Queue()\n",
    "q.enQueue('a')\n",
    "q.enQueue('b')\n",
    "q.enQueue('c')\n",
    "\n",
    "print(\"Initial queue\") \n",
    "print(*q.q) \n",
    "\n",
    "print(\"\\nElements dequeued from queue\") \n",
    "print(q.deQueue()) \n",
    "print(q.deQueue()) \n",
    "print(q.deQueue()) \n",
    "  \n",
    "print(\"\\nQueue after removing elements\") \n",
    "print(q.q) "
   ]
  },
  {
   "cell_type": "markdown",
   "metadata": {},
   "source": [
    "### 2. Implementation Using collection.deque\n",
    "    Time Complexity: deQueue is O(1) | enQueue is O(1)"
   ]
  },
  {
   "cell_type": "code",
   "execution_count": 3,
   "metadata": {},
   "outputs": [],
   "source": [
    "from collections import deque \n",
    "class Queue:\n",
    "    def __init__(self):\n",
    "        self.q = deque()\n",
    "        \n",
    "    def enQueue(self, item):\n",
    "        self.q.append(item)\n",
    "        \n",
    "    def deQueue(self):\n",
    "        if self.isEmpty():\n",
    "            print(\"Queue is Empty\")\n",
    "            return float('inf')\n",
    "        return self.q.popleft()\n",
    "    \n",
    "    def isEmpty(self):\n",
    "        return len(self.q) == 0"
   ]
  },
  {
   "cell_type": "code",
   "execution_count": 4,
   "metadata": {},
   "outputs": [
    {
     "name": "stdout",
     "output_type": "stream",
     "text": [
      "Initial queue\n",
      "a b c\n",
      "\n",
      "Elements dequeued from queue\n",
      "a\n",
      "b\n",
      "c\n",
      "\n",
      "Queue after removing elements\n",
      "deque([])\n",
      "\n",
      "Elements dequeued from queue\n",
      "Queue is Empty\n",
      "inf\n"
     ]
    }
   ],
   "source": [
    "q = Queue()\n",
    "q.enQueue('a')\n",
    "q.enQueue('b')\n",
    "q.enQueue('c')\n",
    "\n",
    "print(\"Initial queue\") \n",
    "print(*q.q) \n",
    "\n",
    "print(\"\\nElements dequeued from queue\") \n",
    "print(q.deQueue()) \n",
    "print(q.deQueue()) \n",
    "print(q.deQueue()) \n",
    "  \n",
    "print(\"\\nQueue after removing elements\") \n",
    "print(q.q)\n",
    "\n",
    "print(\"\\nElements dequeued from queue\") \n",
    "print(q.deQueue()) "
   ]
  },
  {
   "cell_type": "markdown",
   "metadata": {},
   "source": [
    "### 3. Implementation using queue.Queue \n",
    "    Time Complexity: deQueue is O(n) | enQueue is O(1)\n",
    "    Preferred in Multithreading program"
   ]
  },
  {
   "cell_type": "code",
   "execution_count": 5,
   "metadata": {},
   "outputs": [],
   "source": [
    "from queue import Queue \n",
    "class Queue_Q:\n",
    "    def __init__(self, maxsize):\n",
    "        self.maxsize = maxsize\n",
    "        self.q = Queue(maxsize=self.maxsize)\n",
    "        \n",
    "    def size(self):\n",
    "        return self.q.qsize()\n",
    "    \n",
    "    def enQueue(self, item):\n",
    "        if self.q.full():\n",
    "            print(\"Queue is Full\")\n",
    "        self.q.put(item)\n",
    "        \n",
    "    def deQueue(self):\n",
    "        if self.q.empty():\n",
    "            print(\"Queue is Empty\")\n",
    "            return float('inf')\n",
    "        return self.q.get()"
   ]
  },
  {
   "cell_type": "code",
   "execution_count": 6,
   "metadata": {},
   "outputs": [
    {
     "name": "stdout",
     "output_type": "stream",
     "text": [
      "Initial queue\n",
      "deque(['a', 'b', 'c'])\n",
      "\n",
      "Elements dequeued from queue\n",
      "a\n",
      "b\n",
      "c\n",
      "\n",
      "Queue after removing elements\n",
      "deque([])\n",
      "\n",
      "Elements dequeued from queue\n",
      "Queue is Empty\n",
      "inf\n"
     ]
    }
   ],
   "source": [
    "que = Queue_Q(maxsize = 3)\n",
    "que.enQueue('a')\n",
    "que.enQueue('b')\n",
    "que.enQueue('c')\n",
    "\n",
    "print(\"Initial queue\") \n",
    "print(que.q.queue) \n",
    "\n",
    "print(\"\\nElements dequeued from queue\") \n",
    "print(que.deQueue()) \n",
    "print(que.deQueue()) \n",
    "print(que.deQueue()) \n",
    "  \n",
    "print(\"\\nQueue after removing elements\") \n",
    "print(que.q.queue)\n",
    "\n",
    "print(\"\\nElements dequeued from queue\") \n",
    "print(que.deQueue()) "
   ]
  },
  {
   "cell_type": "code",
   "execution_count": null,
   "metadata": {},
   "outputs": [],
   "source": []
  },
  {
   "cell_type": "code",
   "execution_count": null,
   "metadata": {},
   "outputs": [],
   "source": []
  }
 ],
 "metadata": {
  "kernelspec": {
   "display_name": "Python 3",
   "language": "python",
   "name": "python3"
  },
  "language_info": {
   "codemirror_mode": {
    "name": "ipython",
    "version": 3
   },
   "file_extension": ".py",
   "mimetype": "text/x-python",
   "name": "python",
   "nbconvert_exporter": "python",
   "pygments_lexer": "ipython3",
   "version": "3.6.4"
  }
 },
 "nbformat": 4,
 "nbformat_minor": 2
}
