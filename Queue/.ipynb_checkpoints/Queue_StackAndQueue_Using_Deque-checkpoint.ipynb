{
 "cells": [
  {
   "cell_type": "markdown",
   "metadata": {},
   "source": [
    "# <HR> Implement Stack and Queue using Deque <HR>"
   ]
  },
  {
   "cell_type": "code",
   "execution_count": 1,
   "metadata": {},
   "outputs": [],
   "source": [
    "class Node:\n",
    "    def __init__(self, value):\n",
    "        self.value = value\n",
    "        self.next = self.prev = None"
   ]
  },
  {
   "cell_type": "code",
   "execution_count": 2,
   "metadata": {},
   "outputs": [],
   "source": [
    "class MyDeque:\n",
    "    \n",
    "    def __init__(self, name):\n",
    "        self.name = name\n",
    "        self.head = self.tail = None\n",
    "        \n",
    "    def insertFirst(self, value):\n",
    "        new_node = Node(value)\n",
    "        if self.isEmpty():\n",
    "            self.head = self.tail = new_node\n",
    "        else:\n",
    "            self.head.prev = new_node\n",
    "            new_node.next = self.head\n",
    "            self.head = new_node \n",
    "    \n",
    "    def insertLast(self, value):\n",
    "        new_node = Node(value)\n",
    "        if self.isEmpty():\n",
    "            self.head = self.tail = new_node\n",
    "        else:\n",
    "            self.tail.next = new_node\n",
    "            new_node.prev = self.tail\n",
    "            self.tail = new_node\n",
    "    \n",
    "    def deleteFirst(self):\n",
    "        if self.isEmpty():\n",
    "            raise MemoryError(self.name + \"is empty.\")\n",
    "        item = self.head.value\n",
    "        if self.head == self.tail:\n",
    "            self.head = self.tail = None\n",
    "        else:\n",
    "            self.head = self.head.next\n",
    "            self.head.prev = None\n",
    "        return item\n",
    "    \n",
    "    def deleteLast(self):\n",
    "        if self.isEmpty():\n",
    "            raise MemoryError(self.name + \"is empty.\")\n",
    "        item = self.tail.value\n",
    "        if self.head == self.tail:\n",
    "            self.head = self.tail = None\n",
    "        else:\n",
    "            self.tail = self.tail.prev\n",
    "            self.tail.next = None\n",
    "        return item\n",
    "    \n",
    "    def isEmpty(self):\n",
    "        return self.head == None\n",
    "    \n",
    "    def size(self):\n",
    "        temp = self.head\n",
    "        count = 0\n",
    "        while temp:\n",
    "            count += 1\n",
    "            temp = temp.next\n",
    "        return count\n",
    "    \n",
    "    def display(self):\n",
    "        if self.isEmpty():\n",
    "            print(self.name + \"is empty.\")\n",
    "            return    \n",
    "        temp = self.head\n",
    "        while temp:\n",
    "            print(temp.value, end=\" \")\n",
    "            temp = temp.next\n",
    "        print()"
   ]
  },
  {
   "cell_type": "code",
   "execution_count": 3,
   "metadata": {},
   "outputs": [],
   "source": [
    "class MyStack(MyDeque):\n",
    "    def __init__(self):\n",
    "        super().__init__(\"Stack\")\n",
    "        \n",
    "    def push(self, value):\n",
    "        self.insertLast(value)\n",
    "        \n",
    "    def pop(self):\n",
    "        return self.deleteLast()        "
   ]
  },
  {
   "cell_type": "code",
   "execution_count": 4,
   "metadata": {},
   "outputs": [],
   "source": [
    "class MyQueue(MyDeque):\n",
    "    def __init__(self):\n",
    "        super().__init__(\"Queue\")\n",
    "        \n",
    "    def enQueue(self, value):\n",
    "        self.insertLast(value)\n",
    "        \n",
    "    def deQueue(self):\n",
    "        return self.deleteFirst()    "
   ]
  },
  {
   "cell_type": "code",
   "execution_count": 5,
   "metadata": {},
   "outputs": [
    {
     "name": "stdout",
     "output_type": "stream",
     "text": [
      "Stack:\n",
      "7 8 \n",
      "Stack:\n",
      "7 \n",
      "Queue\n",
      "12 13 \n",
      "Queue\n",
      "13 \n",
      "Size of Stack is  1\n",
      "Size of Queue is  1\n"
     ]
    }
   ],
   "source": [
    "s = MyStack()\n",
    "s.push(7)\n",
    "s.push(8)\n",
    "print(\"Stack:\")\n",
    "s.display()\n",
    "item = s.pop()\n",
    "print(\"Stack:\")\n",
    "s.display()\n",
    "\n",
    "q = MyQueue()\n",
    "q.enQueue(12)\n",
    "q.enQueue(13)\n",
    "print(\"Queue\")\n",
    "q.display()\n",
    "q.deQueue()\n",
    "print(\"Queue\")\n",
    "q.display()\n",
    "\n",
    "print(\"Size of Stack is \", s.size())\n",
    "print(\"Size of Queue is \", q.size())\n"
   ]
  },
  {
   "cell_type": "code",
   "execution_count": null,
   "metadata": {},
   "outputs": [],
   "source": []
  },
  {
   "cell_type": "code",
   "execution_count": null,
   "metadata": {},
   "outputs": [],
   "source": []
  }
 ],
 "metadata": {
  "kernelspec": {
   "display_name": "Python 3",
   "language": "python",
   "name": "python3"
  },
  "language_info": {
   "codemirror_mode": {
    "name": "ipython",
    "version": 3
   },
   "file_extension": ".py",
   "mimetype": "text/x-python",
   "name": "python",
   "nbconvert_exporter": "python",
   "pygments_lexer": "ipython3",
   "version": "3.6.4"
  }
 },
 "nbformat": 4,
 "nbformat_minor": 2
}
