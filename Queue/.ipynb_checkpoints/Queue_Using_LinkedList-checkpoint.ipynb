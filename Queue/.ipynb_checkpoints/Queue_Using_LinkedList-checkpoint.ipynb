{
 "cells": [
  {
   "cell_type": "markdown",
   "metadata": {},
   "source": [
    "# <HR> Implement Queue using Linked List <HR> "
   ]
  },
  {
   "cell_type": "code",
   "execution_count": 1,
   "metadata": {},
   "outputs": [],
   "source": [
    "class Node:\n",
    "    def __init__(self, data):\n",
    "        self.data = data\n",
    "        self.next = None"
   ]
  },
  {
   "cell_type": "code",
   "execution_count": 2,
   "metadata": {},
   "outputs": [],
   "source": [
    "class Queue:\n",
    "    def __init__(self):\n",
    "        self.front = self.rear = None\n",
    "        \n",
    "    def isEmpty(self):\n",
    "        return self.front is None\n",
    "    \n",
    "    def enQueue(self, data):\n",
    "        new_node = Node(data)\n",
    "        if self.front is None:\n",
    "            self.front = self.rear = new_node\n",
    "        else:\n",
    "            self.rear.next = new_node\n",
    "            self.rear = new_node\n",
    "    \n",
    "    def deQueue(self):\n",
    "        if self.isEmpty():\n",
    "            return -1\n",
    "        item = self.front.data\n",
    "        if self.front == self.rear:\n",
    "            self.front = self.rear = None\n",
    "        else:\n",
    "            self.front = self.front.next\n",
    "        return item"
   ]
  },
  {
   "cell_type": "code",
   "execution_count": 3,
   "metadata": {},
   "outputs": [
    {
     "name": "stdout",
     "output_type": "stream",
     "text": [
      "Queue Front 30\n",
      "Queue Rear 50\n"
     ]
    }
   ],
   "source": [
    "q = Queue() \n",
    "q.enQueue(10) \n",
    "q.enQueue(20) \n",
    "q.deQueue() \n",
    "q.deQueue() \n",
    "q.enQueue(30) \n",
    "q.enQueue(40) \n",
    "q.enQueue(50)     \n",
    "print(\"Queue Front \" + str(q.front.data)) \n",
    "print(\"Queue Rear \" + str(q.rear.data)) "
   ]
  },
  {
   "cell_type": "code",
   "execution_count": null,
   "metadata": {},
   "outputs": [],
   "source": []
  },
  {
   "cell_type": "code",
   "execution_count": null,
   "metadata": {},
   "outputs": [],
   "source": []
  },
  {
   "cell_type": "code",
   "execution_count": null,
   "metadata": {},
   "outputs": [],
   "source": []
  }
 ],
 "metadata": {
  "kernelspec": {
   "display_name": "Python 3",
   "language": "python",
   "name": "python3"
  },
  "language_info": {
   "codemirror_mode": {
    "name": "ipython",
    "version": 3
   },
   "file_extension": ".py",
   "mimetype": "text/x-python",
   "name": "python",
   "nbconvert_exporter": "python",
   "pygments_lexer": "ipython3",
   "version": "3.6.4"
  }
 },
 "nbformat": 4,
 "nbformat_minor": 2
}
