{
 "cells": [
  {
   "cell_type": "markdown",
   "metadata": {},
   "source": [
    "# <HR> Implement Priority Queue using Linked List <HR>"
   ]
  },
  {
   "cell_type": "code",
   "execution_count": 1,
   "metadata": {},
   "outputs": [],
   "source": [
    "class Node:\n",
    "    def __init__(self, v, p):\n",
    "        self.v = v\n",
    "        self.p = p\n",
    "        self.next = None"
   ]
  },
  {
   "cell_type": "code",
   "execution_count": 2,
   "metadata": {},
   "outputs": [],
   "source": [
    "class PriorityQueue:\n",
    "    def __init__(self):\n",
    "        self.head = None\n",
    "        \n",
    "    def push(self, value, priority):\n",
    "        new_node = Node(value, priority)\n",
    "        if self.isEmpty() or self.head.p < priority:\n",
    "            new_node.next = self.head\n",
    "            self.head = new_node\n",
    "        else:\n",
    "            cur, prev = self.head, None\n",
    "            while cur and cur.p > priority:\n",
    "                prev = cur\n",
    "                cur = cur.next\n",
    "            prev.next = new_node\n",
    "            new_node.next = cur   \n",
    "    \n",
    "    def pop(self):\n",
    "        if self.isEmpty():\n",
    "            raise MemoryError(\"Priority Queue is empty.\")\n",
    "        item = self.head.v\n",
    "        self.head = self.head.next\n",
    "        return item\n",
    "    \n",
    "    def peek(self):\n",
    "        if self.isEmpty():\n",
    "            raise MemoryError(\"Priority Queue is empty.\")\n",
    "        return self.head.v\n",
    "    \n",
    "    def isEmpty(self):\n",
    "        return self.head == None"
   ]
  },
  {
   "cell_type": "code",
   "execution_count": 3,
   "metadata": {},
   "outputs": [
    {
     "name": "stdout",
     "output_type": "stream",
     "text": [
      "6 5 4 7 \n"
     ]
    }
   ],
   "source": [
    "pq = PriorityQueue()\n",
    "pq.push(4, 1)\n",
    "pq.push(5, 2)\n",
    "pq.push(6, 3)\n",
    "pq.push(7, 0)\n",
    "\n",
    "while not pq.isEmpty():\n",
    "    print(pq.peek(), end=\" \")\n",
    "    pq.pop()\n",
    "print()"
   ]
  },
  {
   "cell_type": "code",
   "execution_count": null,
   "metadata": {},
   "outputs": [],
   "source": []
  },
  {
   "cell_type": "code",
   "execution_count": null,
   "metadata": {},
   "outputs": [],
   "source": []
  },
  {
   "cell_type": "code",
   "execution_count": null,
   "metadata": {},
   "outputs": [],
   "source": []
  }
 ],
 "metadata": {
  "kernelspec": {
   "display_name": "Python 3",
   "language": "python",
   "name": "python3"
  },
  "language_info": {
   "codemirror_mode": {
    "name": "ipython",
    "version": 3
   },
   "file_extension": ".py",
   "mimetype": "text/x-python",
   "name": "python",
   "nbconvert_exporter": "python",
   "pygments_lexer": "ipython3",
   "version": "3.6.4"
  }
 },
 "nbformat": 4,
 "nbformat_minor": 2
}
