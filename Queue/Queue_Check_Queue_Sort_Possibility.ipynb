{
 "cells": [
  {
   "cell_type": "markdown",
   "metadata": {},
   "source": [
    "# <HR> Check if a queue can be sorted into another queue using a stack <HR>\n",
    "    Given a Queue consisting of first n natural numbers (in random order). The task is to check whether the given Queue elements can be arranged in increasing order in another Queue using a stack.\n",
    "     The operation allowed are:\n",
    "     1. Push and pop elements from the stack\n",
    "     2. Dequeue from the given Queue\n",
    "     3. Enqueue in the another Queue"
   ]
  },
  {
   "cell_type": "code",
   "execution_count": 1,
   "metadata": {},
   "outputs": [],
   "source": [
    "class Stack:\n",
    "    def __init__(self):\n",
    "        self.arr = []\n",
    "        \n",
    "    def push(self, value):\n",
    "        self.arr.append(value)\n",
    "        \n",
    "    def pop(self):\n",
    "        if self.isEmpty():\n",
    "            return -1\n",
    "        else:\n",
    "            return self.arr.pop()\n",
    "        \n",
    "    def isEmpty(self):\n",
    "        return self.arr == []\n",
    "    \n",
    "    def top(self):\n",
    "        return self.arr[-1]"
   ]
  },
  {
   "cell_type": "code",
   "execution_count": 2,
   "metadata": {},
   "outputs": [],
   "source": [
    "from collections import deque\n",
    "def checkSorted(arr):\n",
    "    q = deque(arr)\n",
    "    s = Stack()\n",
    "    expected_elm = 1\n",
    "    for elm in q:\n",
    "        if elm == expected_elm or (not s.isEmpty() and s.top() == expected_elm):\n",
    "            expected_elm += 1\n",
    "            if (not s.isEmpty() and s.top() == expected_elm):\n",
    "                s.pop()\n",
    "                s.push(elm)\n",
    "        elif not s.isEmpty() and elm > s.top():\n",
    "            return False\n",
    "        else:\n",
    "            s.push(elm)\n",
    "    return True        "
   ]
  },
  {
   "cell_type": "code",
   "execution_count": 3,
   "metadata": {},
   "outputs": [
    {
     "name": "stdout",
     "output_type": "stream",
     "text": [
      "True False\n"
     ]
    }
   ],
   "source": [
    "res1 = checkSorted([5,1,2,3,4])\n",
    "res2 = checkSorted([5, 1, 2, 6, 3, 4 ])\n",
    "print(res1, res2)"
   ]
  },
  {
   "cell_type": "code",
   "execution_count": null,
   "metadata": {},
   "outputs": [],
   "source": []
  },
  {
   "cell_type": "code",
   "execution_count": null,
   "metadata": {},
   "outputs": [],
   "source": []
  },
  {
   "cell_type": "code",
   "execution_count": null,
   "metadata": {},
   "outputs": [],
   "source": []
  }
 ],
 "metadata": {
  "kernelspec": {
   "display_name": "Python 3",
   "language": "python",
   "name": "python3"
  },
  "language_info": {
   "codemirror_mode": {
    "name": "ipython",
    "version": 3
   },
   "file_extension": ".py",
   "mimetype": "text/x-python",
   "name": "python",
   "nbconvert_exporter": "python",
   "pygments_lexer": "ipython3",
   "version": "3.6.4"
  }
 },
 "nbformat": 4,
 "nbformat_minor": 2
}
