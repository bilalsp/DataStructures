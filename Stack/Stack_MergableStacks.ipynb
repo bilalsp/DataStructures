{
 "cells": [
  {
   "cell_type": "markdown",
   "metadata": {},
   "source": [
    "# <HR> Create mergable stack<HR>\n",
    "    "
   ]
  },
  {
   "cell_type": "code",
   "execution_count": 1,
   "metadata": {},
   "outputs": [],
   "source": [
    "class Node:\n",
    "    \"\"\" To create the object as a new node for the stack\n",
    "    \"\"\"\n",
    "    def __init__(self, data):\n",
    "        self.data = data\n",
    "        self.next = None"
   ]
  },
  {
   "cell_type": "code",
   "execution_count": 2,
   "metadata": {},
   "outputs": [],
   "source": [
    "class Stack:\n",
    "    def __init__(self):\n",
    "        self.last = None\n",
    "        \n",
    "    def push(self, data):\n",
    "        if self.last is None:\n",
    "            self.last = Node(data)\n",
    "            self.last.next = self.last\n",
    "        else:\n",
    "            new_node = Node(data)\n",
    "            new_node.next = self.last.next\n",
    "            self.last.next = new_node\n",
    "    \n",
    "    def pop(self):\n",
    "        if self.last is None:\n",
    "            return \"Empty Stack\"\n",
    "        if self.last is self.last.next:\n",
    "            item = self.last.data\n",
    "            self.last = None\n",
    "            return item\n",
    "        item = self.top()\n",
    "        self.last.next = self.last.next.next\n",
    "        \n",
    "    def top(self):\n",
    "        return self.last.next.data if self.last else \"Empty Stack\"\n",
    "    \n",
    "    def display(self):\n",
    "        cur = self.last.next\n",
    "        while cur != self.last:\n",
    "            print(cur.data, end = \" \")\n",
    "            cur = cur.next\n",
    "        print(self.last.data)\n",
    "            \n",
    "def merge(s1, s2):\n",
    "    top1 = s1.last.next\n",
    "    s1.last.next = s2.last.next\n",
    "    s2.last.next = top1\n",
    "    return s2.last"
   ]
  },
  {
   "cell_type": "code",
   "execution_count": 3,
   "metadata": {},
   "outputs": [
    {
     "name": "stdout",
     "output_type": "stream",
     "text": [
      "55 33 22 11 505 303 202 101\n"
     ]
    }
   ],
   "source": [
    "s1 = Stack()\n",
    "s1.push(11)\n",
    "s1.push(22)\n",
    "s1.push(33)\n",
    "s1.push(44)\n",
    "s1.pop()\n",
    "s1.push(55)\n",
    "\n",
    "s2 = Stack()\n",
    "s2.push(101)\n",
    "s2.push(202)\n",
    "s2.push(303)\n",
    "s2.push(404)\n",
    "s2.pop()\n",
    "s2.push(505)\n",
    "\n",
    "s2.last = merge(s1, s2)\n",
    "\n",
    "s2.display()"
   ]
  },
  {
   "cell_type": "code",
   "execution_count": null,
   "metadata": {},
   "outputs": [],
   "source": []
  },
  {
   "cell_type": "code",
   "execution_count": null,
   "metadata": {},
   "outputs": [],
   "source": []
  }
 ],
 "metadata": {
  "kernelspec": {
   "display_name": "Python 3",
   "language": "python",
   "name": "python3"
  },
  "language_info": {
   "codemirror_mode": {
    "name": "ipython",
    "version": 3
   },
   "file_extension": ".py",
   "mimetype": "text/x-python",
   "name": "python",
   "nbconvert_exporter": "python",
   "pygments_lexer": "ipython3",
   "version": "3.6.4"
  }
 },
 "nbformat": 4,
 "nbformat_minor": 2
}
