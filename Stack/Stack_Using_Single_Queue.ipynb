{
 "cells": [
  {
   "cell_type": "markdown",
   "metadata": {},
   "source": [
    "# <HR> Implement a stack using single queue <HR>"
   ]
  },
  {
   "cell_type": "code",
   "execution_count": 1,
   "metadata": {},
   "outputs": [],
   "source": [
    "from collections import deque\n",
    "from queue import Queue\n",
    "\n",
    "class Stack:\n",
    "    def __init__(self):\n",
    "        self.arr = Queue()\n",
    "    \n",
    "    def push(self, data):\n",
    "        self.arr.put(data)\n",
    "        size = self.arr.qsize()\n",
    "        \n",
    "        for _ in range(size-1):\n",
    "            item = self.arr.get()\n",
    "            self.arr.put(item)\n",
    "    \n",
    "    def pop(self):\n",
    "        if self.arr.qsize() == 0:\n",
    "            return \"Empty Stack\"\n",
    "        return self.arr.get()\n",
    "    \n",
    "    def display(self):\n",
    "        return list(self.arr.queue)"
   ]
  },
  {
   "cell_type": "code",
   "execution_count": 2,
   "metadata": {},
   "outputs": [
    {
     "name": "stdout",
     "output_type": "stream",
     "text": [
      "[20, 10]\n",
      "[10]\n"
     ]
    }
   ],
   "source": [
    "s = Stack()\n",
    "s.push(10) \n",
    "s.push(20) \n",
    "print(s.display())\n",
    "s.pop()\n",
    "s.push(30) \n",
    "s.pop()\n",
    "print(s.display())"
   ]
  },
  {
   "cell_type": "code",
   "execution_count": null,
   "metadata": {},
   "outputs": [],
   "source": []
  },
  {
   "cell_type": "code",
   "execution_count": null,
   "metadata": {},
   "outputs": [],
   "source": []
  }
 ],
 "metadata": {
  "kernelspec": {
   "display_name": "Python 3",
   "language": "python",
   "name": "python3"
  },
  "language_info": {
   "codemirror_mode": {
    "name": "ipython",
    "version": 3
   },
   "file_extension": ".py",
   "mimetype": "text/x-python",
   "name": "python",
   "nbconvert_exporter": "python",
   "pygments_lexer": "ipython3",
   "version": "3.6.4"
  }
 },
 "nbformat": 4,
 "nbformat_minor": 2
}
