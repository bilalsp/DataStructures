{
 "cells": [
  {
   "cell_type": "markdown",
   "metadata": {},
   "source": [
    "# <HR> Prefix To Infix Conversion <HR>"
   ]
  },
  {
   "cell_type": "code",
   "execution_count": 1,
   "metadata": {},
   "outputs": [],
   "source": [
    "class Conversion:\n",
    "    def __init__(self):\n",
    "        self.stack = []\n",
    "      \n",
    "    def isOperator(self, ch):\n",
    "        operators = {\"+\", \"-\", \"*\", \"/\", \"^\"}\n",
    "        return ch in operators\n",
    "        \n",
    "    def convert(self, exp):\n",
    "        \n",
    "        for ch in exp[::-1]:\n",
    "            if self.isOperator(ch):\n",
    "                A = self.pop()\n",
    "                B = self.pop()\n",
    "                self.push(\"(\" + A + ch + B + \")\")\n",
    "            else:\n",
    "                self.push(ch)\n",
    "  \n",
    "        return self.pop()\n",
    "    \n",
    "    def pop(self):\n",
    "        return self.stack.pop()\n",
    "    \n",
    "    def push(self, ch):\n",
    "        self.stack.append(ch)\n",
    "        return \n",
    "             "
   ]
  },
  {
   "cell_type": "code",
   "execution_count": 2,
   "metadata": {},
   "outputs": [
    {
     "data": {
      "text/plain": [
       "'((A-(B/C))*((A/K)-L))'"
      ]
     },
     "execution_count": 2,
     "metadata": {},
     "output_type": "execute_result"
    }
   ],
   "source": [
    "prefix_To_infix = Conversion()\n",
    "prefix_To_infix.convert(\"*-A/BC-/AKL\")"
   ]
  },
  {
   "cell_type": "code",
   "execution_count": null,
   "metadata": {},
   "outputs": [],
   "source": []
  }
 ],
 "metadata": {
  "kernelspec": {
   "display_name": "Python 3",
   "language": "python",
   "name": "python3"
  },
  "language_info": {
   "codemirror_mode": {
    "name": "ipython",
    "version": 3
   },
   "file_extension": ".py",
   "mimetype": "text/x-python",
   "name": "python",
   "nbconvert_exporter": "python",
   "pygments_lexer": "ipython3",
   "version": "3.6.4"
  }
 },
 "nbformat": 4,
 "nbformat_minor": 2
}
