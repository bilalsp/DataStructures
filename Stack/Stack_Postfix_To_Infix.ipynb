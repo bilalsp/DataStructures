{
 "cells": [
  {
   "cell_type": "markdown",
   "metadata": {},
   "source": [
    "# <HR> Postfix To Infix <HR>"
   ]
  },
  {
   "cell_type": "code",
   "execution_count": 1,
   "metadata": {},
   "outputs": [],
   "source": [
    "class Conversion:\n",
    "    def __init__(self):\n",
    "        self.stack = []\n",
    "    \n",
    "    def isOperator(self, ch):\n",
    "        operators = {'+','-','*','/','^'}\n",
    "        return ch in operators\n",
    "        \n",
    "    def convert(self, exp):\n",
    "        for ch in exp:\n",
    "            if self.isOperator(ch):\n",
    "                A = self.pop()\n",
    "                B = self.pop()\n",
    "                self.push(\"(\"+B+ch+A+\")\")\n",
    "            else:\n",
    "                self.push(ch)\n",
    "        return self.pop()\n",
    "    \n",
    "    def push(self, ch):\n",
    "        self.stack.append(ch)\n",
    "        \n",
    "    def pop(self):\n",
    "        return self.stack.pop()"
   ]
  },
  {
   "cell_type": "code",
   "execution_count": 2,
   "metadata": {},
   "outputs": [
    {
     "data": {
      "text/plain": [
       "'((a*b)+c)'"
      ]
     },
     "execution_count": 2,
     "metadata": {},
     "output_type": "execute_result"
    }
   ],
   "source": [
    "postfix_To_infix = Conversion()\n",
    "postfix_To_infix.convert(\"ab*c+\")"
   ]
  },
  {
   "cell_type": "code",
   "execution_count": null,
   "metadata": {},
   "outputs": [],
   "source": []
  },
  {
   "cell_type": "code",
   "execution_count": null,
   "metadata": {},
   "outputs": [],
   "source": []
  }
 ],
 "metadata": {
  "kernelspec": {
   "display_name": "Python 3",
   "language": "python",
   "name": "python3"
  },
  "language_info": {
   "codemirror_mode": {
    "name": "ipython",
    "version": 3
   },
   "file_extension": ".py",
   "mimetype": "text/x-python",
   "name": "python",
   "nbconvert_exporter": "python",
   "pygments_lexer": "ipython3",
   "version": "3.6.4"
  }
 },
 "nbformat": 4,
 "nbformat_minor": 2
}
