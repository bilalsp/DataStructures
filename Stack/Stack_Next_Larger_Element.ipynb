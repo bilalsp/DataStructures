{
 "cells": [
  {
   "cell_type": "markdown",
   "metadata": {},
   "source": [
    "# <HR> Next Larger Element <HR>"
   ]
  },
  {
   "cell_type": "code",
   "execution_count": 11,
   "metadata": {},
   "outputs": [],
   "source": [
    "class Generator:\n",
    "    def __init__(self):\n",
    "        self.stack = []\n",
    "        \n",
    "    def push(self, elem):\n",
    "        self.stack.append(elem)\n",
    "        \n",
    "    def pop(self):\n",
    "        item = self.stack.pop()\n",
    "        return item\n",
    "\n",
    "    def isEmpty(self):\n",
    "        return True if len(self.stack)==0 else False \n",
    "    \n",
    "    def top(self):\n",
    "        if self.isEmpty():\n",
    "            return -1\n",
    "        return self.stack[-1]\n",
    "    \n",
    "    def nextG(self, arr):\n",
    "        result = {}\n",
    "        for i in arr:\n",
    "            if self.isEmpty() or self.top() > i:\n",
    "                self.push(i)\n",
    "            else:\n",
    "                while (not self.isEmpty()) and self.top() < i:\n",
    "                    result[self.pop()] = i\n",
    "                self.push(i)\n",
    "        \n",
    "        while not self.isEmpty():\n",
    "            result[self.pop()] = -1\n",
    "            \n",
    "        return result"
   ]
  },
  {
   "cell_type": "code",
   "execution_count": 12,
   "metadata": {},
   "outputs": [
    {
     "name": "stdout",
     "output_type": "stream",
     "text": [
      "4 ==> 5\n",
      "5 ==> 25\n",
      "2 ==> 25\n",
      "25 ==> -1\n"
     ]
    }
   ],
   "source": [
    "gen = Generator()\n",
    "inp = [4, 5, 2, 25]\n",
    "result = gen.nextG(inp)\n",
    "for i in inp:\n",
    "    print(i, \"==>\", result[i])"
   ]
  },
  {
   "cell_type": "code",
   "execution_count": null,
   "metadata": {},
   "outputs": [],
   "source": []
  },
  {
   "cell_type": "code",
   "execution_count": null,
   "metadata": {},
   "outputs": [],
   "source": []
  }
 ],
 "metadata": {
  "kernelspec": {
   "display_name": "Python 3",
   "language": "python",
   "name": "python3"
  },
  "language_info": {
   "codemirror_mode": {
    "name": "ipython",
    "version": 3
   },
   "file_extension": ".py",
   "mimetype": "text/x-python",
   "name": "python",
   "nbconvert_exporter": "python",
   "pygments_lexer": "ipython3",
   "version": "3.6.4"
  }
 },
 "nbformat": 4,
 "nbformat_minor": 2
}
