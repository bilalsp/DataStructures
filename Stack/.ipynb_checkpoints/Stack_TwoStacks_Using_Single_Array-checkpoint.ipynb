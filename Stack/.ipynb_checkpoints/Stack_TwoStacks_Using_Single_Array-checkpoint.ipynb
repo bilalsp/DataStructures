{
 "cells": [
  {
   "cell_type": "markdown",
   "metadata": {},
   "source": [
    "# <HR> Implement two stacks in a single array <HR>\n",
    "    "
   ]
  },
  {
   "cell_type": "markdown",
   "metadata": {},
   "source": [
    "## Using List"
   ]
  },
  {
   "cell_type": "code",
   "execution_count": 13,
   "metadata": {},
   "outputs": [],
   "source": [
    "class TwoStacks:\n",
    "    def __init__(self, n):\n",
    "        self.arr = [0]*n\n",
    "        self.size = n\n",
    "        self.top1 = -1\n",
    "        self.top2 = n\n",
    "    \n",
    "    def push1(self, data):\n",
    "        if self.top1 + 1 == self.top2:\n",
    "            return \"Stack Overflow\"\n",
    "        self.top1 += 1\n",
    "        self.arr[self.top1] = data\n",
    "    \n",
    "    def pop1(self):\n",
    "        if self.top1 == -1:\n",
    "            return \"Empty Stack\"\n",
    "        item = self.arr[self.top1]\n",
    "        self.top1 -= 1\n",
    "        return item\n",
    "    \n",
    "    def push2(self, data):\n",
    "        if self.top2 - 1 == self.top1:\n",
    "            return \"Stack Overflow\"\n",
    "        self.top2 -= 1\n",
    "        self.arr[self.top2] = data\n",
    "    \n",
    "    def pop2(self):\n",
    "        if self.top2 == self.size:\n",
    "            return \"Empty Stack\"\n",
    "        item = self.arr[self.top2]\n",
    "        self.top2 += 1\n",
    "        return item"
   ]
  },
  {
   "cell_type": "markdown",
   "metadata": {},
   "source": [
    "## Using Deque"
   ]
  },
  {
   "cell_type": "code",
   "execution_count": 18,
   "metadata": {},
   "outputs": [],
   "source": [
    "from collections import deque\n",
    "class TwoStacks_Q:\n",
    "    def __init__(self):\n",
    "        self.arr = deque()\n",
    "        self.top1, self.top2 = -1, -1\n",
    "    \n",
    "    def push1(self, data):\n",
    "        self.top1 += 1\n",
    "        self.arr.appendleft(data)\n",
    "    \n",
    "    def pop1(self):\n",
    "        if self.top1 >= 0:\n",
    "            self.top1 -= 1\n",
    "            return self.arr.popleft()\n",
    "        else:\n",
    "            return \"Empty Stack\"\n",
    "    \n",
    "    def push2(self, data):\n",
    "        self.top2 += 1\n",
    "        self.arr.append(data)\n",
    "    \n",
    "    def pop2(self):\n",
    "        if self.top2 >= 0:\n",
    "            self.top2 -= 1\n",
    "            return self.arr.pop()\n",
    "        else:\n",
    "            return \"Empty Stack\""
   ]
  },
  {
   "cell_type": "markdown",
   "metadata": {},
   "source": [
    "## Testing"
   ]
  },
  {
   "cell_type": "code",
   "execution_count": 21,
   "metadata": {},
   "outputs": [
    {
     "name": "stdout",
     "output_type": "stream",
     "text": [
      "Popped element from stack1 is 11\n",
      "Popped element from stack2 is 40\n"
     ]
    }
   ],
   "source": [
    "ts = TwoStacks(5) # Implement using List \n",
    "ts.push1(5) \n",
    "ts.push2(10) \n",
    "ts.push2(15) \n",
    "ts.push1(11) \n",
    "ts.push2(7) \n",
    "  \n",
    "print(\"Popped element from stack1 is \" + str(ts.pop1())) \n",
    "ts.push2(40) \n",
    "print(\"Popped element from stack2 is \" + str(ts.pop2())) \n",
    "  "
   ]
  },
  {
   "cell_type": "code",
   "execution_count": 22,
   "metadata": {},
   "outputs": [
    {
     "name": "stdout",
     "output_type": "stream",
     "text": [
      "Popped element from stack1 is 11\n",
      "Popped element from stack2 is 40\n"
     ]
    }
   ],
   "source": [
    "ts = TwoStacks_Q() #Implemented Using Deque\n",
    "ts.push1(5) \n",
    "ts.push2(10) \n",
    "ts.push2(15) \n",
    "ts.push1(11) \n",
    "ts.push2(7) \n",
    "  \n",
    "print(\"Popped element from stack1 is \" + str(ts.pop1())) \n",
    "ts.push2(40) \n",
    "print(\"Popped element from stack2 is \" + str(ts.pop2())) \n",
    "  "
   ]
  },
  {
   "cell_type": "code",
   "execution_count": null,
   "metadata": {},
   "outputs": [],
   "source": []
  },
  {
   "cell_type": "code",
   "execution_count": null,
   "metadata": {},
   "outputs": [],
   "source": []
  }
 ],
 "metadata": {
  "kernelspec": {
   "display_name": "Python 3",
   "language": "python",
   "name": "python3"
  },
  "language_info": {
   "codemirror_mode": {
    "name": "ipython",
    "version": 3
   },
   "file_extension": ".py",
   "mimetype": "text/x-python",
   "name": "python",
   "nbconvert_exporter": "python",
   "pygments_lexer": "ipython3",
   "version": "3.6.4"
  }
 },
 "nbformat": 4,
 "nbformat_minor": 2
}
