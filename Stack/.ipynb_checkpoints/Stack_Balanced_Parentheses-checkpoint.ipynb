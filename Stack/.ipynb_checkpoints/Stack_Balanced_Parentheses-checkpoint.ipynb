{
 "cells": [
  {
   "cell_type": "markdown",
   "metadata": {},
   "source": [
    "# <HR> Check for balanced parentheses in an expression <HR>"
   ]
  },
  {
   "cell_type": "code",
   "execution_count": 1,
   "metadata": {},
   "outputs": [],
   "source": [
    "class Test:\n",
    "    def __init__(self):\n",
    "        self.stack = []\n",
    "    \n",
    "    def areParanthesesBalanced(self, exp):\n",
    "        \"\"\" To test that whether parentheses are balanced or not in the expression \"\"\"\n",
    "        for parn in exp:\n",
    "            if parn in ('{','(', '['):\n",
    "                self.stack.append(parn) #Push\n",
    "            elif self.flip(parn) == self.top():\n",
    "                self.stack.pop()   #Pop\n",
    "            else:\n",
    "                return False\n",
    "        return True if len(self.stack) == 0 else False\n",
    "    \n",
    "    def flip(self, parn):\n",
    "        parantheses = {')':'(', '}':'{', ']':'['}\n",
    "        return parantheses[parn]\n",
    "    \n",
    "    def top(self):\n",
    "        return -1 if len(self.stack)==0 else self.stack[-1]"
   ]
  },
  {
   "cell_type": "code",
   "execution_count": 2,
   "metadata": {},
   "outputs": [
    {
     "name": "stdout",
     "output_type": "stream",
     "text": [
      "True\n",
      "False\n"
     ]
    }
   ],
   "source": [
    "test = Test()\n",
    "res = test.areParanthesesBalanced('{()}[]')\n",
    "print(res)\n",
    "res = test.areParanthesesBalanced('{()[(]}')\n",
    "print(res)"
   ]
  },
  {
   "cell_type": "code",
   "execution_count": null,
   "metadata": {},
   "outputs": [],
   "source": []
  }
 ],
 "metadata": {
  "kernelspec": {
   "display_name": "Python 3",
   "language": "python",
   "name": "python3"
  },
  "language_info": {
   "codemirror_mode": {
    "name": "ipython",
    "version": 3
   },
   "file_extension": ".py",
   "mimetype": "text/x-python",
   "name": "python",
   "nbconvert_exporter": "python",
   "pygments_lexer": "ipython3",
   "version": "3.6.4"
  }
 },
 "nbformat": 4,
 "nbformat_minor": 2
}
