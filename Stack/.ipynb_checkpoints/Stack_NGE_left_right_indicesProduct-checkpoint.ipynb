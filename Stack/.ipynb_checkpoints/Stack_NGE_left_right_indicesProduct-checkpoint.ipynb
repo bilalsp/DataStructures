{
 "cells": [
  {
   "cell_type": "markdown",
   "metadata": {},
   "source": [
    "# <HR>  Maximum product of indices of next greater element on left and right <HR>\n",
    "    \n",
    "   Given an sequence $S(a_0, a_1, . . ., a_n)$. \n",
    "   \n",
    "   Next greater element index on left, $L(i) = j if j<i & S[j] > S[i]$\n",
    "   Next greater element index on right, $R(i) = k if k>i & S[k] > S[i]$\n",
    "   \n",
    "   Note: If L(i) or R(i) doesn't exists then consider them as zero.\n",
    "   \n",
    "   Compute the $ max((L(i)+1)*(R(i)+1)) $"
   ]
  },
  {
   "cell_type": "code",
   "execution_count": 1,
   "metadata": {},
   "outputs": [],
   "source": [
    "class Stack:\n",
    "    def __init__(self):\n",
    "        self.s = []\n",
    "    \n",
    "    def push(self, item):\n",
    "        self.s.append(item)\n",
    "        \n",
    "    def pop(self):\n",
    "        return self.s.pop()\n",
    "    \n",
    "    def top(self):\n",
    "        return self.s[-1]\n",
    "    \n",
    "    def isEmpty(self):\n",
    "        return True if len(self.s)==0 else False"
   ]
  },
  {
   "cell_type": "code",
   "execution_count": 2,
   "metadata": {},
   "outputs": [],
   "source": [
    "class Generator:\n",
    "    \n",
    "    def __init__(self):\n",
    "        pass\n",
    "    \n",
    "    def nextGE_right(self, arr):\n",
    "        \"\"\"generate the indices for next greater element on the right\"\"\"\n",
    "        stack = Stack()\n",
    "        nextGE_rightIndex = [0]*len(arr)\n",
    "        for i in range(len(arr)):\n",
    "            while not stack.isEmpty() and arr[stack.top()] < arr[i]:\n",
    "                nextGE_rightIndex[stack.top()] = i\n",
    "                stack.pop()\n",
    "            stack.push(i)\n",
    "        return nextGE_rightIndex\n",
    "    \n",
    "    def nextGE_left(self, arr):\n",
    "        \"\"\"generate the indices for next greater element on the left\"\"\"\n",
    "        stack = Stack()\n",
    "        nextGE_leftIndex = [0]*len(arr)\n",
    "        for i in range(len(arr)-1,-1,-1):\n",
    "            while not stack.isEmpty() and arr[stack.top()] < arr[i]:\n",
    "                nextGE_leftIndex[stack.top()] = i\n",
    "                stack.pop()\n",
    "            stack.push(i)\n",
    "        return nextGE_leftIndex\n",
    "    \n",
    "    def LR_Product(self, arr):\n",
    "        \"\"\"return maximum product of positions of left & right next greater element\"\"\"\n",
    "        res = -1\n",
    "        left, right = self.nextGE_left(arr), self.nextGE_right(arr)\n",
    "        for i in range(len(arr)):\n",
    "            res = max(res, (left[i]+1)*(right[i]+1))\n",
    "        return res"
   ]
  },
  {
   "cell_type": "code",
   "execution_count": 3,
   "metadata": {},
   "outputs": [
    {
     "name": "stdout",
     "output_type": "stream",
     "text": [
      "8\n"
     ]
    }
   ],
   "source": [
    "gen = Generator()\n",
    "res = gen.LR_Product([5, 4, 3, 4, 5])\n",
    "print(res)"
   ]
  },
  {
   "cell_type": "code",
   "execution_count": null,
   "metadata": {},
   "outputs": [],
   "source": []
  },
  {
   "cell_type": "code",
   "execution_count": null,
   "metadata": {},
   "outputs": [],
   "source": []
  },
  {
   "cell_type": "code",
   "execution_count": null,
   "metadata": {},
   "outputs": [],
   "source": []
  }
 ],
 "metadata": {
  "kernelspec": {
   "display_name": "Python 3",
   "language": "python",
   "name": "python3"
  },
  "language_info": {
   "codemirror_mode": {
    "name": "ipython",
    "version": 3
   },
   "file_extension": ".py",
   "mimetype": "text/x-python",
   "name": "python",
   "nbconvert_exporter": "python",
   "pygments_lexer": "ipython3",
   "version": "3.6.4"
  }
 },
 "nbformat": 4,
 "nbformat_minor": 2
}
