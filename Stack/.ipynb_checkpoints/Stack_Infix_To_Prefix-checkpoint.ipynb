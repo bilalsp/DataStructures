{
 "cells": [
  {
   "cell_type": "markdown",
   "metadata": {},
   "source": [
    "# <HR> Infix To Prefix <HR>"
   ]
  },
  {
   "cell_type": "code",
   "execution_count": 1,
   "metadata": {},
   "outputs": [],
   "source": [
    "class Conversion:\n",
    "    def __init__(self):\n",
    "        self.postfix = []\n",
    "        self.stack = []\n",
    "        self.top = -1\n",
    "       \n",
    "    def precedence(self, operator):\n",
    "        op_precedence = {'^':3, '*':2, '/':2, '+':1, '-': 1}\n",
    "        return op_precedence.get(operator, -1)\n",
    "    \n",
    "    def convert_infixToPostfix(self, exp):\n",
    "        \n",
    "        for ch in exp:\n",
    "            if ch.isalpha():\n",
    "                self.postfix.append(ch)\n",
    "            elif ch == '(':\n",
    "                self.stack.append('(') #Push\n",
    "                self.top += 1\n",
    "            elif ch == ')':\n",
    "                while self.top != -1 and self.stack[self.top] != '(':\n",
    "                    self.postfix.append(self.stack.pop())\n",
    "                    self.top -= 1\n",
    "                if self.top == -1 :#or self.stack[self.top] != '(':   # Invalid Expression\n",
    "                    return -1  \n",
    "                self.stack.pop()\n",
    "                self.top -= 1\n",
    "            else:\n",
    "                while self.top != -1 and self.precedence(ch) <= self.precedence(self.stack[self.top]):\n",
    "                    self.postfix.append(self.stack.pop())\n",
    "                    self.top -= 1\n",
    "                    \n",
    "                self.stack.append(ch)\n",
    "                self.top += 1\n",
    "                \n",
    "        while self.top != -1:\n",
    "            self.postfix.append(self.stack.pop())\n",
    "            self.top -= 1\n",
    "        \n",
    "        return \"\".join(self.postfix)\n",
    "    \n",
    "    def convert_infixToPrefix(self, exp):\n",
    "\n",
    "        exp = \"\".join( ')' if ch=='(' else '(' if ch==')' else ch for ch in exp[::-1])\n",
    "        infix = self.convert_infixToPostfix(exp)[::-1]\n",
    "        \n",
    "        return infix"
   ]
  },
  {
   "cell_type": "code",
   "execution_count": 2,
   "metadata": {},
   "outputs": [
    {
     "data": {
      "text/plain": [
       "'*-a/bc-/akl'"
      ]
     },
     "execution_count": 2,
     "metadata": {},
     "output_type": "execute_result"
    }
   ],
   "source": [
    "con = Conversion()\n",
    "con.convert_infixToPrefix(\"(a-b/c)*(a/k-l)\")"
   ]
  },
  {
   "cell_type": "code",
   "execution_count": null,
   "metadata": {},
   "outputs": [],
   "source": []
  },
  {
   "cell_type": "code",
   "execution_count": null,
   "metadata": {},
   "outputs": [],
   "source": []
  },
  {
   "cell_type": "code",
   "execution_count": null,
   "metadata": {},
   "outputs": [],
   "source": []
  }
 ],
 "metadata": {
  "kernelspec": {
   "display_name": "Python 3",
   "language": "python",
   "name": "python3"
  },
  "language_info": {
   "codemirror_mode": {
    "name": "ipython",
    "version": 3
   },
   "file_extension": ".py",
   "mimetype": "text/x-python",
   "name": "python",
   "nbconvert_exporter": "python",
   "pygments_lexer": "ipython3",
   "version": "3.6.4"
  }
 },
 "nbformat": 4,
 "nbformat_minor": 2
}
