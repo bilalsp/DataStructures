{
 "cells": [
  {
   "cell_type": "code",
   "execution_count": 1,
   "metadata": {},
   "outputs": [],
   "source": [
    "https://stackoverflow.com/questions/18279775/implementing-stack-with-python"
   ]
  },
  {
   "cell_type": "code",
   "execution_count": 13,
   "metadata": {},
   "outputs": [],
   "source": [
    "from queue import LifoQueue\n",
    "\n",
    "class Stack:\n",
    "    \"\"\"Thread-Safe Implementation of Stack. LifoQueue is designed to be fully thread-safe. \n",
    "    All of its methods are safe to use in a threaded environment. \n",
    "    It also adds optional time-outs to its operations which can frequently be a must-have feature in threaded programs.\n",
    "    \"\"\"\n",
    "    \n",
    "    def __init__(self):\n",
    "        self.stack = LifoQueue(maxsize=100) # If maxsize is less than or equal to zero, the queue size is infinite.\n",
    "    \n",
    "    def push(self, data):\n",
    "        self.stack.put(data, block = False, timeout=None) # if block = False raises the Full exception if no free slot available\n",
    "        \n",
    "    def pop(self):\n",
    "        return self.stack.get(block = False, timeout=None) #if block = False raises the Empty exception if no free slot available\n",
    " \n",
    "    def size(self):\n",
    "        return self.stack.qsize()\n",
    "    \n",
    "    def isEmpty(self):\n",
    "        return self.stack.empty()\n",
    "        \n",
    "    def isFull(self):\n",
    "        return self.stack.full()\n",
    "    \n",
    "    def __str__(self):\n",
    "        return \"Thread-Safe Implementation of Stack Using LifoQueue module of Python\""
   ]
  },
  {
   "cell_type": "code",
   "execution_count": 14,
   "metadata": {},
   "outputs": [
    {
     "ename": "SyntaxError",
     "evalue": "invalid syntax (<ipython-input-14-b91edcca67c3>, line 1)",
     "output_type": "error",
     "traceback": [
      "\u001b[1;36m  File \u001b[1;32m\"<ipython-input-14-b91edcca67c3>\"\u001b[1;36m, line \u001b[1;32m1\u001b[0m\n\u001b[1;33m    https://realpython.com/how-to-implement-python-stack/\u001b[0m\n\u001b[1;37m           ^\u001b[0m\n\u001b[1;31mSyntaxError\u001b[0m\u001b[1;31m:\u001b[0m invalid syntax\n"
     ]
    }
   ],
   "source": [
    "https://realpython.com/how-to-implement-python-stack/"
   ]
  },
  {
   "cell_type": "code",
   "execution_count": null,
   "metadata": {},
   "outputs": [],
   "source": []
  },
  {
   "cell_type": "code",
   "execution_count": 8,
   "metadata": {},
   "outputs": [],
   "source": [
    "s = LifoQueue()\n",
    "s.put(343)\n",
    "s.put(23)\n",
    "    \n",
    "    def __iter__(self):\n",
    "        return reversed(self._a)\n",
    "\n",
    "    def __str__(self):\n",
    "        return str(list(iter(self)))"
   ]
  },
  {
   "cell_type": "code",
   "execution_count": 11,
   "metadata": {},
   "outputs": [
    {
     "data": {
      "text/plain": [
       "False"
      ]
     },
     "execution_count": 11,
     "metadata": {},
     "output_type": "execute_result"
    }
   ],
   "source": [
    "s.empty()"
   ]
  },
  {
   "cell_type": "code",
   "execution_count": null,
   "metadata": {},
   "outputs": [],
   "source": []
  }
 ],
 "metadata": {
  "kernelspec": {
   "display_name": "Python 3",
   "language": "python",
   "name": "python3"
  },
  "language_info": {
   "codemirror_mode": {
    "name": "ipython",
    "version": 3
   },
   "file_extension": ".py",
   "mimetype": "text/x-python",
   "name": "python",
   "nbconvert_exporter": "python",
   "pygments_lexer": "ipython3",
   "version": "3.6.4"
  }
 },
 "nbformat": 4,
 "nbformat_minor": 2
}
