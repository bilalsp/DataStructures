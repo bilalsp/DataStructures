{
 "cells": [
  {
   "cell_type": "markdown",
   "metadata": {},
   "source": [
    "# <HR> Design a stack that supports getMin() in O(1) time and O(1) extra space <HR>"
   ]
  },
  {
   "cell_type": "code",
   "execution_count": 1,
   "metadata": {},
   "outputs": [],
   "source": [
    "class Stack:\n",
    "    def __init__(self):\n",
    "        self.arr = []\n",
    "        self.min = None\n",
    "        \n",
    "    def push(self, data):\n",
    "        if self.isEmpty():\n",
    "            self.min = data\n",
    "            self.arr.append(data)\n",
    "        elif data < self.getMin():\n",
    "            new_data = 2*data - self.getMin()\n",
    "            self.min = data\n",
    "            self.arr.append(new_data)\n",
    "        else:\n",
    "            self.arr.append(data)\n",
    "            \n",
    "    def pop(self):\n",
    "        if self.isEmpty():\n",
    "            return \"Stack is Empty\"\n",
    "        \n",
    "        item = self.arr.pop()\n",
    "\n",
    "        if item < self.getMin():\n",
    "            data = self.getMin()\n",
    "            self.min = 2*self.min - item\n",
    "            return data\n",
    "        return item\n",
    "        \n",
    "    def getMin(self):\n",
    "        return self.min\n",
    "        \n",
    "    def isEmpty(self):\n",
    "        return 1 if len(self.arr) == 0 else 0\n",
    "    \n",
    "    def peek(self):\n",
    "        if self.isEmpty():\n",
    "            return \"Stack is Empty\"\n",
    "        \n",
    "        item = self.arr[-1]\n",
    "\n",
    "        if item < self.getMin():\n",
    "            data = self.getMin()\n",
    "            self.min = 2*self.min - item\n",
    "            return data\n",
    "        return item"
   ]
  },
  {
   "cell_type": "code",
   "execution_count": 2,
   "metadata": {},
   "outputs": [
    {
     "name": "stdout",
     "output_type": "stream",
     "text": [
      "Min:  3\n",
      "Min:  1\n",
      "Popped Element:  1\n",
      "Min:  2\n",
      "Popped Element:  2\n",
      "Top Element:  5\n"
     ]
    }
   ],
   "source": [
    "s = Stack()\n",
    "s.push(3)\n",
    "s.push(5) \n",
    "print(\"Min: \", s.getMin()) \n",
    "s.push(2) \n",
    "s.push(1) \n",
    "print(\"Min: \", s.getMin())\n",
    "print(\"Popped Element: \", s.pop())\n",
    "print(\"Min: \", s.getMin())\n",
    "print(\"Popped Element: \", s.pop())\n",
    "print(\"Top Element: \", s.peek()) "
   ]
  },
  {
   "cell_type": "code",
   "execution_count": null,
   "metadata": {},
   "outputs": [],
   "source": []
  },
  {
   "cell_type": "code",
   "execution_count": null,
   "metadata": {},
   "outputs": [],
   "source": []
  },
  {
   "cell_type": "code",
   "execution_count": null,
   "metadata": {},
   "outputs": [],
   "source": []
  }
 ],
 "metadata": {
  "kernelspec": {
   "display_name": "Python 3",
   "language": "python",
   "name": "python3"
  },
  "language_info": {
   "codemirror_mode": {
    "name": "ipython",
    "version": 3
   },
   "file_extension": ".py",
   "mimetype": "text/x-python",
   "name": "python",
   "nbconvert_exporter": "python",
   "pygments_lexer": "ipython3",
   "version": "3.6.4"
  }
 },
 "nbformat": 4,
 "nbformat_minor": 2
}
