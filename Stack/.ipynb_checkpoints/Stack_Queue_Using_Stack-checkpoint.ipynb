{
 "cells": [
  {
   "cell_type": "markdown",
   "metadata": {},
   "source": [
    "# <HR> Implement the Queue Using Stack <HR>\n",
    "    "
   ]
  },
  {
   "cell_type": "code",
   "execution_count": 1,
   "metadata": {},
   "outputs": [],
   "source": [
    "class Stack:\n",
    "    def __init__(self):\n",
    "        self.arr = []\n",
    "    \n",
    "    def push(self, data):\n",
    "        self.arr.append(data)\n",
    "    \n",
    "    def pop(self):\n",
    "        if self.isEmpty():\n",
    "            return \"Empty Stack\"\n",
    "        return self.arr.pop()\n",
    "    \n",
    "    def isEmpty(self):\n",
    "        return True if len(self.arr)==0 else False\n",
    "    \n",
    "    def top(self):\n",
    "        return -1 if len(self.arr)==0 else self.arr[-1]"
   ]
  },
  {
   "cell_type": "markdown",
   "metadata": {},
   "source": [
    "## Using Two Stacks"
   ]
  },
  {
   "cell_type": "code",
   "execution_count": 2,
   "metadata": {},
   "outputs": [],
   "source": [
    "class Queue1:\n",
    "    def __init__(self):\n",
    "        self.stack1 = Stack()\n",
    "        self.stack2 = Stack()\n",
    "    \n",
    "    def enQueue(self, data):\n",
    "        self.stack1.push(data)\n",
    "    \n",
    "    def deQueue(self):\n",
    "        if self.stack1.isEmpty() is True and self.stack2.isEmpty() is True:\n",
    "            return \"Empty Queue\"\n",
    "        \n",
    "        if self.stack2.isEmpty():  #If stack2 is empty then move all the elements from stack1 to stack2\n",
    "            while not self.stack1.isEmpty():\n",
    "                self.stack2.push(self.stack1.pop())\n",
    "        \n",
    "        return self.stack2.pop()   "
   ]
  },
  {
   "cell_type": "markdown",
   "metadata": {},
   "source": [
    "## Using Stack and Function Call"
   ]
  },
  {
   "cell_type": "code",
   "execution_count": 3,
   "metadata": {},
   "outputs": [],
   "source": [
    "class Queue2:\n",
    "    def __init__(self):\n",
    "        self.stack1 = Stack()\n",
    "    \n",
    "    def enQueue(self, data):\n",
    "        self.stack1.push(data)\n",
    "    \n",
    "    def deQueue(self):\n",
    "        \n",
    "        if self.stack1.isEmpty():\n",
    "            return \"Empty Queue\"\n",
    "    \n",
    "        x = self.stack1.pop()\n",
    "        \n",
    "        if self.stack1.isEmpty():\n",
    "            return x\n",
    "        \n",
    "        item = self.deQueue()\n",
    "        \n",
    "        self.stack1.push(x)\n",
    "        \n",
    "        return item"
   ]
  },
  {
   "cell_type": "markdown",
   "metadata": {},
   "source": [
    "## Testing"
   ]
  },
  {
   "cell_type": "code",
   "execution_count": 4,
   "metadata": {},
   "outputs": [
    {
     "name": "stdout",
     "output_type": "stream",
     "text": [
      "1\n",
      "2\n"
     ]
    }
   ],
   "source": [
    "q = Queue1()\n",
    "\n",
    "q.enQueue(1)\n",
    "q.enQueue(2)\n",
    "q.enQueue(3)\n",
    "q.enQueue(4)\n",
    "\n",
    "print(q.deQueue())\n",
    "\n",
    "q.enQueue(5)\n",
    "\n",
    "print(q.deQueue())"
   ]
  },
  {
   "cell_type": "code",
   "execution_count": 5,
   "metadata": {},
   "outputs": [
    {
     "name": "stdout",
     "output_type": "stream",
     "text": [
      "1\n",
      "2\n"
     ]
    }
   ],
   "source": [
    "q = Queue2()\n",
    "\n",
    "q.enQueue(1)\n",
    "q.enQueue(2)\n",
    "q.enQueue(3)\n",
    "q.enQueue(4)\n",
    "\n",
    "print(q.deQueue())\n",
    "\n",
    "q.enQueue(5)\n",
    "\n",
    "print(q.deQueue())"
   ]
  },
  {
   "cell_type": "code",
   "execution_count": null,
   "metadata": {},
   "outputs": [],
   "source": []
  },
  {
   "cell_type": "code",
   "execution_count": null,
   "metadata": {},
   "outputs": [],
   "source": []
  }
 ],
 "metadata": {
  "kernelspec": {
   "display_name": "Python 3",
   "language": "python",
   "name": "python3"
  },
  "language_info": {
   "codemirror_mode": {
    "name": "ipython",
    "version": 3
   },
   "file_extension": ".py",
   "mimetype": "text/x-python",
   "name": "python",
   "nbconvert_exporter": "python",
   "pygments_lexer": "ipython3",
   "version": "3.6.4"
  }
 },
 "nbformat": 4,
 "nbformat_minor": 2
}
