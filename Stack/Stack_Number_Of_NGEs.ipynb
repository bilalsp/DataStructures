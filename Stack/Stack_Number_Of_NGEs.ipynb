{
 "cells": [
  {
   "cell_type": "markdown",
   "metadata": {},
   "source": [
    "# <HR> Number of Next Larger Element to the right <HR>"
   ]
  },
  {
   "cell_type": "code",
   "execution_count": 1,
   "metadata": {},
   "outputs": [],
   "source": [
    "class Stack:\n",
    "    def __init__(self):\n",
    "        self.s = []\n",
    "    \n",
    "    def push(self, item):\n",
    "        self.s.append(item)\n",
    "        \n",
    "    def pop(self):\n",
    "        return self.s.pop()\n",
    "        \n",
    "    def top(self):\n",
    "        return self.s[-1]\n",
    "    \n",
    "    def isEmpty(self):\n",
    "        return True if len(self.s) == 0 else False "
   ]
  },
  {
   "cell_type": "code",
   "execution_count": 2,
   "metadata": {},
   "outputs": [],
   "source": [
    "\n",
    "class Generator:\n",
    "    def __init__(self):\n",
    "        self.dp = None\n",
    "    \n",
    "    def getNextGElement(self, arr):\n",
    "        stack = Stack()\n",
    "        next = [0]*len(arr)\n",
    "        for i in range(len(arr)):\n",
    "            \n",
    "            while not stack.isEmpty() and arr[stack.top()] < arr[i]:\n",
    "                next[stack.top()] = i\n",
    "                stack.pop()\n",
    "                \n",
    "            stack.push(i)\n",
    "            \n",
    "        while not stack.isEmpty():\n",
    "            next[stack.top()] = -1\n",
    "            stack.pop()\n",
    "        \n",
    "        return next\n",
    "    \n",
    "    def fillCount(self, arr):\n",
    "        self.dp = [0]*len(arr)\n",
    "        next = self.getNextGElement(arr)\n",
    "        for i in range(len(arr)-2,-1,-1):\n",
    "            if next[i] != -1:\n",
    "                self.dp[i] = 1 + self.dp[next[i]]\n",
    "    \n",
    "    def query(self, index):\n",
    "        return self.dp[index]"
   ]
  },
  {
   "cell_type": "code",
   "execution_count": 3,
   "metadata": {},
   "outputs": [
    {
     "name": "stdout",
     "output_type": "stream",
     "text": [
      "2\n",
      "0\n",
      "3\n"
     ]
    }
   ],
   "source": [
    "gen = Generator()\n",
    "gen.fillCount([3, 4, 2, 7, 5, 8, 10, 6 ])\n",
    "response = gen.query(3)\n",
    "print(response)\n",
    "response = gen.query(6)\n",
    "print(response)\n",
    "response = gen.query(1)\n",
    "print(response)"
   ]
  },
  {
   "cell_type": "code",
   "execution_count": null,
   "metadata": {},
   "outputs": [],
   "source": []
  },
  {
   "cell_type": "code",
   "execution_count": null,
   "metadata": {},
   "outputs": [],
   "source": []
  }
 ],
 "metadata": {
  "kernelspec": {
   "display_name": "Python 3",
   "language": "python",
   "name": "python3"
  },
  "language_info": {
   "codemirror_mode": {
    "name": "ipython",
    "version": 3
   },
   "file_extension": ".py",
   "mimetype": "text/x-python",
   "name": "python",
   "nbconvert_exporter": "python",
   "pygments_lexer": "ipython3",
   "version": "3.6.4"
  }
 },
 "nbformat": 4,
 "nbformat_minor": 2
}
