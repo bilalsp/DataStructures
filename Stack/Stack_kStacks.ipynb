{
 "cells": [
  {
   "cell_type": "markdown",
   "metadata": {},
   "source": [
    "# <HR> Efficiently implement k stacks in a single array <HR>\n",
    "    "
   ]
  },
  {
   "cell_type": "code",
   "execution_count": 1,
   "metadata": {},
   "outputs": [],
   "source": [
    "class KStacks:\n",
    "    def __init__(self, k, max_size):\n",
    "        self.k = k\n",
    "        self.max_size = max_size\n",
    "        \n",
    "        self.arr = [0]*max_size\n",
    "        self.top = [-1]*k\n",
    "        self.next = list(range(1,max_size)) + [-1]\n",
    "        self.free = 0\n",
    "        \n",
    "    def push(self, data, s_i):\n",
    "        if self.free != -1:\n",
    "            insert_at = self.free\n",
    "            self.free = self.next[self.free]\n",
    "            \n",
    "            self.arr[insert_at] = data\n",
    "            self.next[insert_at] = self.top[s_i]\n",
    "            self.top[s_i] = insert_at\n",
    "        else:\n",
    "            return \"Stack Overflow\"\n",
    "            \n",
    "    def pop(self, s_i):\n",
    "        if self.top[s_i] != -1:\n",
    "            top_of_stack = self.top[s_i]\n",
    "            \n",
    "            self.top[s_i] = self.next[top_of_stack]\n",
    "            self.next[top_of_stack] = self.free\n",
    "            self.free = top_of_stack\n",
    "            \n",
    "            return self.arr[top_of_stack]\n",
    "        return \"Stack Empty\"\n",
    "    \n",
    "    def printStack(self, s_i):\n",
    "        top_index = self.top[s_i]\n",
    "        print(\"Stack \",s_i,\":\")\n",
    "        while top_index != -1:\n",
    "            print(self.arr[top_index],end=' ')\n",
    "            top_index = self.next[top_index]\n",
    "        print()"
   ]
  },
  {
   "cell_type": "code",
   "execution_count": 2,
   "metadata": {},
   "outputs": [
    {
     "name": "stdout",
     "output_type": "stream",
     "text": [
      "Popped element from stack 2 is 45\n",
      "Popped element from stack 1 is 39\n",
      "Popped element from stack 0 is 7\n",
      "Stack  0 :\n",
      "9 11 \n",
      "Stack  1 :\n",
      "49 17 \n",
      "Stack  2 :\n",
      "15 \n"
     ]
    }
   ],
   "source": [
    "kstacks = KStacks(3, 10) \n",
    "  \n",
    "kstacks.push(15, 2) \n",
    "kstacks.push(45, 2) \n",
    "\n",
    "kstacks.push(17, 1) \n",
    "kstacks.push(49, 1) \n",
    "kstacks.push(39, 1) \n",
    "  \n",
    "kstacks.push(11, 0) \n",
    "kstacks.push(9, 0) \n",
    "kstacks.push(7, 0) \n",
    "  \n",
    "print(\"Popped element from stack 2 is \" + str(kstacks.pop(2))) \n",
    "print(\"Popped element from stack 1 is \" + str(kstacks.pop(1))) \n",
    "print(\"Popped element from stack 0 is \" + str(kstacks.pop(0))) \n",
    "  \n",
    "kstacks.printStack(0) \n",
    "kstacks.printStack(1) \n",
    "kstacks.printStack(2) "
   ]
  },
  {
   "cell_type": "code",
   "execution_count": null,
   "metadata": {},
   "outputs": [],
   "source": []
  },
  {
   "cell_type": "code",
   "execution_count": null,
   "metadata": {},
   "outputs": [],
   "source": []
  }
 ],
 "metadata": {
  "kernelspec": {
   "display_name": "Python 3",
   "language": "python",
   "name": "python3"
  },
  "language_info": {
   "codemirror_mode": {
    "name": "ipython",
    "version": 3
   },
   "file_extension": ".py",
   "mimetype": "text/x-python",
   "name": "python",
   "nbconvert_exporter": "python",
   "pygments_lexer": "ipython3",
   "version": "3.6.4"
  }
 },
 "nbformat": 4,
 "nbformat_minor": 2
}
