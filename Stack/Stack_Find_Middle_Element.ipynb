{
 "cells": [
  {
   "cell_type": "markdown",
   "metadata": {},
   "source": [
    "# <HR> Design a stack with operations on middle element in O(1) <HR>\n",
    "    "
   ]
  },
  {
   "cell_type": "code",
   "execution_count": 1,
   "metadata": {},
   "outputs": [],
   "source": [
    "class Node:\n",
    "    \"\"\" To create the object as a new node for the stack\n",
    "    \"\"\"\n",
    "    def __init__(self, data):q\n",
    "        self.data = data\n",
    "        self.next = None\n",
    "        self.prev = None"
   ]
  },
  {
   "cell_type": "code",
   "execution_count": 2,
   "metadata": {},
   "outputs": [],
   "source": [
    "class Stack:\n",
    "    \"\"\" To create the stack object and methods to perform the operation on it\n",
    "    \"\"\"\n",
    "    def __init__(self):\n",
    "        self.head = None\n",
    "        self.mid = None\n",
    "        self.count = 0\n",
    "        \n",
    "    def push(self, data):\n",
    "        if self.head is None:\n",
    "            self.head = Node(data)\n",
    "            self.mid = self.head\n",
    "            self.count += 1\n",
    "        else:\n",
    "            new_node = Node(data)\n",
    "            self.head.prev = new_node\n",
    "            new_node.next = self.head\n",
    "            self.head = new_node\n",
    "            \n",
    "            if not self.count & 1: #Even number of node\n",
    "                self.mid = self.mid.prev\n",
    "            self.count += 1\n",
    "    \n",
    "    def pop(self):\n",
    "        if self.head is None:\n",
    "            return \"Empty Stack\"\n",
    "        \n",
    "        item = self.head.data\n",
    "        self.head = self.head.next\n",
    "        self.head.prev = None\n",
    "        \n",
    "        if self.count & 1: #Odd number of node\n",
    "            self.mid = self.mid.next\n",
    "            \n",
    "        self.count -= 1\n",
    "    \n",
    "        return item\n",
    "    \n",
    "    def findMiddle(self):\n",
    "        if self.head is None:\n",
    "            return \"Empty Stack\"\n",
    "        \n",
    "        return self.mid.data"
   ]
  },
  {
   "cell_type": "markdown",
   "metadata": {},
   "source": [
    "## Testing"
   ]
  },
  {
   "cell_type": "code",
   "execution_count": 3,
   "metadata": {},
   "outputs": [
    {
     "name": "stdout",
     "output_type": "stream",
     "text": [
      "Item popped is  77\n",
      "Item popped is  66\n",
      "Middle Element is  33\n"
     ]
    }
   ],
   "source": [
    "s = Stack()\n",
    "s.push(11)\n",
    "s.push(22)\n",
    "s.push(33)\n",
    "s.push(44)\n",
    "s.push(55)\n",
    "s.push(66)\n",
    "s.push(77)\n",
    "\n",
    "print(\"Item popped is \", s.pop())\n",
    "print(\"Item popped is \", s.pop())\n",
    "print(\"Middle Element is \", s.findMiddle())"
   ]
  },
  {
   "cell_type": "code",
   "execution_count": null,
   "metadata": {},
   "outputs": [],
   "source": []
  },
  {
   "cell_type": "code",
   "execution_count": null,
   "metadata": {},
   "outputs": [],
   "source": []
  }
 ],
 "metadata": {
  "kernelspec": {
   "display_name": "Python 3",
   "language": "python",
   "name": "python3"
  },
  "language_info": {
   "codemirror_mode": {
    "name": "ipython",
    "version": 3
   },
   "file_extension": ".py",
   "mimetype": "text/x-python",
   "name": "python",
   "nbconvert_exporter": "python",
   "pygments_lexer": "ipython3",
   "version": "3.6.4"
  }
 },
 "nbformat": 4,
 "nbformat_minor": 2
}
