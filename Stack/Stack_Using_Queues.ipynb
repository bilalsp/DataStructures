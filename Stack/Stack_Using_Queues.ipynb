{
 "cells": [
  {
   "cell_type": "markdown",
   "metadata": {},
   "source": [
    "# <HR> Implement Stack using Queues <HR>"
   ]
  },
  {
   "cell_type": "markdown",
   "metadata": {},
   "source": [
    "## Using Queue"
   ]
  },
  {
   "cell_type": "code",
   "execution_count": 1,
   "metadata": {},
   "outputs": [],
   "source": [
    "from queue import Queue\n",
    "\n",
    "class Stack_1:\n",
    "    def __init__(self):\n",
    "        self.Q1 = Queue()\n",
    "        self.Q2 = Queue()\n",
    "        \n",
    "    def push(self, data):\n",
    "        self.Q1.put(data)\n",
    "        \n",
    "    def pop(self):\n",
    "        size = self.Q1.qsize()\n",
    "        if size == 0:\n",
    "            return \"Empty Stack\"\n",
    "        \n",
    "        while size > 1:\n",
    "            self.Q2.put(self.Q1.get())\n",
    "            size -= 1\n",
    "        peek = self.Q1.get()\n",
    "        \n",
    "        self.Q1, self.Q2 = self.Q2, self.Q1\n",
    "        \n",
    "        return peek\n",
    "    \n",
    "    def top(self):\n",
    "        if self.Q1.empty():\n",
    "            return \"Empty Stack\"\n",
    "        \n",
    "        size = self.Q1.qsize()\n",
    "        while size > 1:\n",
    "            self.Q2.put(self.Q1.get())\n",
    "            size -= 1\n",
    "            \n",
    "        peek = self.Q1.get()\n",
    "        \n",
    "        self.Q2.put(peek)\n",
    "        \n",
    "        self.Q1, self.Q2 = self.Q2, self.Q1\n",
    "        \n",
    "        return peek\n",
    "\n",
    "    def size(self):\n",
    "        return self.Q1.qsize()"
   ]
  },
  {
   "cell_type": "markdown",
   "metadata": {},
   "source": [
    "## Using Deque"
   ]
  },
  {
   "cell_type": "code",
   "execution_count": 2,
   "metadata": {},
   "outputs": [],
   "source": [
    "from collections import deque\n",
    "\n",
    "class Stack_2:\n",
    "    def __init__(self):\n",
    "        self.Q1 = deque()\n",
    "        self.Q2 = deque()\n",
    "        self.stack_size = 0\n",
    "        \n",
    "    def push(self, data):\n",
    "        self.Q1.append(data)\n",
    "        self.stack_size += 1\n",
    "        \n",
    "    def pop(self):\n",
    "        if self.stack_size == 0:\n",
    "            return \"Empty Stack\"\n",
    "        \n",
    "        size = self.stack_size\n",
    "        while size > 1:\n",
    "            self.Q2.append(self.Q1.popleft())\n",
    "            size -= 1\n",
    "            \n",
    "        peek = self.Q1.popleft()\n",
    "        \n",
    "        self.Q1, self.Q2 = self.Q2, self.Q1\n",
    "        \n",
    "        self.stack_size -= 1\n",
    "        \n",
    "        return peek\n",
    "    \n",
    "    def top(self):\n",
    "        if self.stack_size == 0:\n",
    "            return \"Empty Stack\"\n",
    "        \n",
    "        size = self.stack_size\n",
    "        while size > 1:\n",
    "            self.Q2.append(self.Q1.popleft())\n",
    "            size -= 1\n",
    "            \n",
    "        peek = self.Q1.popleft()\n",
    "        \n",
    "        self.Q2.append(peek)\n",
    "        \n",
    "        self.Q1, self.Q2 = self.Q2, self.Q1\n",
    "        \n",
    "        return peek\n",
    "    \n",
    "    def size(self):\n",
    "        return self.stack_size"
   ]
  },
  {
   "cell_type": "markdown",
   "metadata": {},
   "source": [
    "## Testing"
   ]
  },
  {
   "cell_type": "code",
   "execution_count": 3,
   "metadata": {},
   "outputs": [
    {
     "name": "stdout",
     "output_type": "stream",
     "text": [
      "current size:  3\n",
      "3\n",
      "2\n",
      "1\n",
      "current size:  1\n"
     ]
    }
   ],
   "source": [
    "s = Stack_2() \n",
    "s.push(1)  \n",
    "s.push(2)  \n",
    "s.push(3)  \n",
    "\n",
    "print(\"current size: \", s.size()) \n",
    "print(s.top())  \n",
    "s.pop()  \n",
    "print(s.top())  \n",
    "s.pop()  \n",
    "print(s.top())  \n",
    "\n",
    "print(\"current size: \", s.size()) "
   ]
  },
  {
   "cell_type": "code",
   "execution_count": null,
   "metadata": {},
   "outputs": [],
   "source": []
  },
  {
   "cell_type": "code",
   "execution_count": null,
   "metadata": {},
   "outputs": [],
   "source": []
  },
  {
   "cell_type": "code",
   "execution_count": null,
   "metadata": {},
   "outputs": [],
   "source": []
  },
  {
   "cell_type": "code",
   "execution_count": null,
   "metadata": {},
   "outputs": [],
   "source": []
  }
 ],
 "metadata": {
  "kernelspec": {
   "display_name": "Python 3",
   "language": "python",
   "name": "python3"
  },
  "language_info": {
   "codemirror_mode": {
    "name": "ipython",
    "version": 3
   },
   "file_extension": ".py",
   "mimetype": "text/x-python",
   "name": "python",
   "nbconvert_exporter": "python",
   "pygments_lexer": "ipython3",
   "version": "3.6.4"
  }
 },
 "nbformat": 4,
 "nbformat_minor": 2
}
