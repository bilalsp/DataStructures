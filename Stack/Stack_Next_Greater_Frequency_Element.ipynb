{
 "cells": [
  {
   "cell_type": "markdown",
   "metadata": {},
   "source": [
    "# <HR> Next Greater Frequency Element <HR>"
   ]
  },
  {
   "cell_type": "code",
   "execution_count": 1,
   "metadata": {},
   "outputs": [],
   "source": [
    "class Stack:\n",
    "    def __init__(self):\n",
    "        self.memory = []\n",
    "    \n",
    "    def push(self, item):\n",
    "        self.memory.append(item)\n",
    "        \n",
    "    def pop(self):\n",
    "        return self.memory.pop()\n",
    "    \n",
    "    def isEmpty(self):\n",
    "        return True if len(self.memory)==0 else False\n",
    "    \n",
    "    def top(self):\n",
    "        return self.memory[-1]"
   ]
  },
  {
   "cell_type": "code",
   "execution_count": 2,
   "metadata": {},
   "outputs": [],
   "source": [
    "from collections import Counter\n",
    "\n",
    "class Generator:\n",
    "    \n",
    "    def __init__(self):\n",
    "        pass\n",
    "    \n",
    "    def getNextGreaterFrequencyElement(self, arr):\n",
    "        \n",
    "        stack = Stack()\n",
    "        freq = Counter(arr) ;\n",
    "        result = [0]*len(arr)\n",
    "        \n",
    "        for i,elem in enumerate(arr):\n",
    "            if stack.isEmpty() or freq[stack.top()] > freq[elem]:\n",
    "                stack.push(i)\n",
    "            else:\n",
    "                while not stack.isEmpty() and freq[arr[stack.top()]] < freq[elem]:\n",
    "                    result[stack.top()] = elem\n",
    "                    stack.pop()\n",
    "                stack.push(i)\n",
    "            \n",
    "        while not stack.isEmpty():\n",
    "            result[stack.top()] = -1\n",
    "            stack.pop()\n",
    "            \n",
    "        return result"
   ]
  },
  {
   "cell_type": "code",
   "execution_count": 3,
   "metadata": {},
   "outputs": [
    {
     "data": {
      "text/plain": [
       "[-1, -1, 1, 2, 2, 1, -1]"
      ]
     },
     "execution_count": 3,
     "metadata": {},
     "output_type": "execute_result"
    }
   ],
   "source": [
    "gen = Generator()\n",
    "gen.getNextGreaterFrequencyElement([1, 1, 2, 3, 4, 2, 1])"
   ]
  },
  {
   "cell_type": "code",
   "execution_count": null,
   "metadata": {},
   "outputs": [],
   "source": []
  },
  {
   "cell_type": "code",
   "execution_count": null,
   "metadata": {},
   "outputs": [],
   "source": []
  },
  {
   "cell_type": "code",
   "execution_count": null,
   "metadata": {},
   "outputs": [],
   "source": []
  },
  {
   "cell_type": "code",
   "execution_count": null,
   "metadata": {},
   "outputs": [],
   "source": []
  },
  {
   "cell_type": "code",
   "execution_count": null,
   "metadata": {},
   "outputs": [],
   "source": []
  },
  {
   "cell_type": "code",
   "execution_count": null,
   "metadata": {},
   "outputs": [],
   "source": []
  }
 ],
 "metadata": {
  "kernelspec": {
   "display_name": "Python 3",
   "language": "python",
   "name": "python3"
  },
  "language_info": {
   "codemirror_mode": {
    "name": "ipython",
    "version": 3
   },
   "file_extension": ".py",
   "mimetype": "text/x-python",
   "name": "python",
   "nbconvert_exporter": "python",
   "pygments_lexer": "ipython3",
   "version": "3.6.4"
  }
 },
 "nbformat": 4,
 "nbformat_minor": 2
}
