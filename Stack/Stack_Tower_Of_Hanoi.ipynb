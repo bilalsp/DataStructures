{
 "cells": [
  {
   "cell_type": "markdown",
   "metadata": {},
   "source": [
    "# <HR> Iterative Approach to solve Tower of Hanoi <HR>"
   ]
  },
  {
   "cell_type": "code",
   "execution_count": 1,
   "metadata": {},
   "outputs": [],
   "source": [
    "class Stack:\n",
    "    def __init__(self, name):\n",
    "        self.contain = []\n",
    "        self.name = name\n",
    "        \n",
    "    def push(self, item):\n",
    "        self.contain.append(item)\n",
    "        \n",
    "    def pop(self):\n",
    "        return self.contain.pop()\n",
    "    \n",
    "    def isEmpty(self):\n",
    "        return True if len(self.contain) == 0 else False\n",
    "    \n",
    "    def top(self):\n",
    "        return self.contain[-1]"
   ]
  },
  {
   "cell_type": "code",
   "execution_count": 2,
   "metadata": {},
   "outputs": [],
   "source": [
    "class TowerOfHanoi:\n",
    "    def __init__(self, num_of_disks):\n",
    "        self.num_of_disks = num_of_disks\n",
    "        self.peg_src = Stack('Source')\n",
    "        self.peg_aux = Stack('Auxiliary')\n",
    "        self.peg_dst = Stack('Destination')\n",
    "        for desk_num in range(num_of_disks, 0, -1):\n",
    "            self.peg_src.push(desk_num)\n",
    "    \n",
    "    def solve(self):\n",
    "        num_of_disks = self.num_of_disks\n",
    "        peg_src, peg_aux, peg_dst = self.peg_src, self.peg_aux, self.peg_dst\n",
    "        \n",
    "        total_no_moves = 2**num_of_disks - 1\n",
    "        \n",
    "        if not num_of_disks&1: #if number of disks are even then first move will be from source to Auxiliary\n",
    "            peg_dst.name, peg_aux.name = ('Auxiliary','Destination')\n",
    "        \n",
    "        for move_i in range(1, total_no_moves+1):\n",
    "            peg_A, peg_B = {1:(peg_src, peg_dst), 2:(peg_src, peg_aux), 0:(peg_aux, peg_dst)}[move_i % 3]\n",
    "            self.move_between(peg_A, peg_B)\n",
    "    \n",
    "    def move_between(self, peg_A, peg_B):\n",
    "        if peg_A.isEmpty():\n",
    "            disk = peg_B.pop()\n",
    "            peg_A.push(disk)\n",
    "            print(\"Move the disk {} from {} to {}\\n\".format(disk, peg_B.name, peg_A.name))\n",
    "        elif peg_B.isEmpty():\n",
    "            disk = peg_A.pop()\n",
    "            peg_B.push(disk)\n",
    "            print(\"Move the disk {} from {} to {}\\n\".format(disk, peg_A.name, peg_B.name))\n",
    "        elif peg_A.top() > peg_B.top():\n",
    "            disk = peg_B.pop()\n",
    "            peg_A.push(disk)\n",
    "            print(\"Move the disk {} from {} to {}\\n\".format(disk, peg_B.name, peg_A.name))\n",
    "        else:\n",
    "            disk = peg_A.pop()\n",
    "            peg_B.push(disk)\n",
    "            print(\"Move the disk {} from {} to {}\\n\".format(disk, peg_A.name, peg_B.name))"
   ]
  },
  {
   "cell_type": "code",
   "execution_count": 4,
   "metadata": {},
   "outputs": [
    {
     "name": "stdout",
     "output_type": "stream",
     "text": [
      "Source:[3, 2, 1]\n",
      "Auxiliary:[]\n",
      "Destination:[]\n",
      "\n",
      "Move the disk 1 from Source to Destination\n",
      "\n",
      "Move the disk 2 from Source to Auxiliary\n",
      "\n",
      "Move the disk 1 from Destination to Auxiliary\n",
      "\n",
      "Move the disk 3 from Source to Destination\n",
      "\n",
      "Move the disk 1 from Auxiliary to Source\n",
      "\n",
      "Move the disk 2 from Auxiliary to Destination\n",
      "\n",
      "Move the disk 1 from Source to Destination\n",
      "\n",
      "Source:[]\n",
      "Auxiliary:[]\n",
      "Destination:[3, 2, 1]\n",
      "\n"
     ]
    }
   ],
   "source": [
    "toh = TowerOfHanoi(3)\n",
    "print(toh.peg_src.name,\":\",toh.peg_src.contain,\"\\n\",\\\n",
    "      toh.peg_aux.name,\":\",toh.peg_aux.contain,\"\\n\",\\\n",
    "      toh.peg_dst.name,\":\",toh.peg_dst.contain,\"\\n\", sep=\"\")\n",
    "toh.solve()\n",
    "print(toh.peg_src.name,\":\",toh.peg_src.contain,\"\\n\",\\\n",
    "      toh.peg_aux.name,\":\",toh.peg_aux.contain,\"\\n\",\\\n",
    "      toh.peg_dst.name,\":\",toh.peg_dst.contain,\"\\n\", sep=\"\")"
   ]
  },
  {
   "cell_type": "code",
   "execution_count": null,
   "metadata": {},
   "outputs": [],
   "source": []
  },
  {
   "cell_type": "code",
   "execution_count": null,
   "metadata": {},
   "outputs": [],
   "source": []
  }
 ],
 "metadata": {
  "kernelspec": {
   "display_name": "Python 3",
   "language": "python",
   "name": "python3"
  },
  "language_info": {
   "codemirror_mode": {
    "name": "ipython",
    "version": 3
   },
   "file_extension": ".py",
   "mimetype": "text/x-python",
   "name": "python",
   "nbconvert_exporter": "python",
   "pygments_lexer": "ipython3",
   "version": "3.6.4"
  }
 },
 "nbformat": 4,
 "nbformat_minor": 2
}
