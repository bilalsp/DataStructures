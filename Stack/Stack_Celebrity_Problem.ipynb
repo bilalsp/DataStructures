{
 "cells": [
  {
   "cell_type": "markdown",
   "metadata": {},
   "source": [
    "# <HR> The Celebrity Problem <HR>\n",
    " In a party of N people, only one person is known to everyone and (s)he doesn’t know anyone in the party. Such a person will be called as 'Celebrity'.\n",
    "    "
   ]
  },
  {
   "cell_type": "code",
   "execution_count": 1,
   "metadata": {},
   "outputs": [],
   "source": [
    "class Stack:\n",
    "    def __init__(self):\n",
    "        self.s = []\n",
    "        \n",
    "    def push(self, item):\n",
    "        self.s.append(item)\n",
    "        \n",
    "    def pop(self):\n",
    "        return self.s.pop()\n",
    "    \n",
    "    def isEmpty(self):\n",
    "        return True if len(self.s) == 0 else False\n",
    "    \n",
    "    def size(self):\n",
    "        return len(self.s)"
   ]
  },
  {
   "cell_type": "code",
   "execution_count": 2,
   "metadata": {},
   "outputs": [],
   "source": [
    "class Celebrity:\n",
    "    def __init__(self, matrix):\n",
    "        self.matrix = matrix\n",
    "    \n",
    "    def knows(self, A, B):\n",
    "        return self.matrix[A][B]\n",
    "    \n",
    "    def find(self,size):\n",
    "        stack = Stack()\n",
    "        for i in range(size):\n",
    "            stack.push(i)\n",
    "        while stack.size() > 1:\n",
    "            person_1 = stack.pop()\n",
    "            person_2 = stack.pop()\n",
    "            person_celb = person_2 if self.knows(person_1,person_2) else person_1  # This might be a celebrity\n",
    "            stack.push(person_celb)\n",
    "        celb = stack.pop()\n",
    "        for i in range(size):\n",
    "            if celb!=i and (self.knows(celb,i) or not self.knows(i,celb)):\n",
    "                print(i)\n",
    "                return -1\n",
    "        return celb"
   ]
  },
  {
   "cell_type": "code",
   "execution_count": 3,
   "metadata": {},
   "outputs": [
    {
     "name": "stdout",
     "output_type": "stream",
     "text": [
      "3\n",
      "0 1 0 0 0 0 0 1 0\n",
      "Celebrity ID:  1\n"
     ]
    }
   ],
   "source": [
    "size = int(input())\n",
    "inp = list(map(int,input().strip().split()))\n",
    "matrix = []\n",
    "for i in range(size):\n",
    "    matrix.append(inp[i*size:(i+1)*size])\n",
    "celeb = Celebrity(matrix)\n",
    "print(\"Celebrity ID: \",celeb.find(size))"
   ]
  },
  {
   "cell_type": "code",
   "execution_count": null,
   "metadata": {},
   "outputs": [],
   "source": []
  }
 ],
 "metadata": {
  "kernelspec": {
   "display_name": "Python 3",
   "language": "python",
   "name": "python3"
  },
  "language_info": {
   "codemirror_mode": {
    "name": "ipython",
    "version": 3
   },
   "file_extension": ".py",
   "mimetype": "text/x-python",
   "name": "python",
   "nbconvert_exporter": "python",
   "pygments_lexer": "ipython3",
   "version": "3.6.4"
  }
 },
 "nbformat": 4,
 "nbformat_minor": 2
}
