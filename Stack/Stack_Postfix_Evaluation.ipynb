{
 "cells": [
  {
   "cell_type": "markdown",
   "metadata": {},
   "source": [
    "# <HR> Postfix Evaluation <HR>"
   ]
  },
  {
   "cell_type": "code",
   "execution_count": 1,
   "metadata": {},
   "outputs": [],
   "source": [
    "class Stack:\n",
    "    def __init__(self):\n",
    "        self.s = []\n",
    "    \n",
    "    def push(self, item):\n",
    "        self.s.append(item)\n",
    "        \n",
    "    def pop(self):\n",
    "        return self.s.pop()\n",
    "    \n",
    "    def isEmpty(self):\n",
    "        return True if len(self.s)==0 else False\n",
    "    \n",
    "    def top(self):\n",
    "        return self.s[-1]"
   ]
  },
  {
   "cell_type": "code",
   "execution_count": 2,
   "metadata": {},
   "outputs": [],
   "source": [
    "class Conversion:\n",
    "    def __init__(self):\n",
    "        pass\n",
    "    \n",
    "    def applyOperation(self, A, op, B):\n",
    "        operations = {'+': lambda x,y: x+y, '-': lambda x,y: x-y,\n",
    "                      '*': lambda x,y: x*y, '/': lambda x,y: x//y,}\n",
    "        return operations[op](A,B)\n",
    "        \n",
    "    def convert(self, exp):\n",
    "        stack = Stack()\n",
    "        for tok in exp.split():\n",
    "            if tok.isdigit():\n",
    "                stack.push(0 if tok=='0' else int(tok))\n",
    "            else:\n",
    "                B = stack.pop()\n",
    "                A = stack.pop()\n",
    "                result = self.applyOperation(A, tok, B)\n",
    "                stack.push(result)\n",
    "        result = stack.pop()\n",
    "        return result"
   ]
  },
  {
   "cell_type": "code",
   "execution_count": 3,
   "metadata": {},
   "outputs": [
    {
     "name": "stdout",
     "output_type": "stream",
     "text": [
      "60\n",
      "757\n"
     ]
    }
   ],
   "source": [
    "con = Conversion()\n",
    "result = con.convert('2 4 + 4 6 + *')\n",
    "print(result)\n",
    "result = con.convert('100 200 + 2 / 5 * 7 +')\n",
    "print(result)"
   ]
  },
  {
   "cell_type": "code",
   "execution_count": null,
   "metadata": {},
   "outputs": [],
   "source": []
  },
  {
   "cell_type": "code",
   "execution_count": null,
   "metadata": {},
   "outputs": [],
   "source": []
  },
  {
   "cell_type": "code",
   "execution_count": null,
   "metadata": {},
   "outputs": [],
   "source": []
  }
 ],
 "metadata": {
  "kernelspec": {
   "display_name": "Python 3",
   "language": "python",
   "name": "python3"
  },
  "language_info": {
   "codemirror_mode": {
    "name": "ipython",
    "version": 3
   },
   "file_extension": ".py",
   "mimetype": "text/x-python",
   "name": "python",
   "nbconvert_exporter": "python",
   "pygments_lexer": "ipython3",
   "version": "3.6.4"
  }
 },
 "nbformat": 4,
 "nbformat_minor": 2
}
