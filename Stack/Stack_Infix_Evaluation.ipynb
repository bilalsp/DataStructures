{
 "cells": [
  {
   "cell_type": "markdown",
   "metadata": {},
   "source": [
    "# <HR> Infix Expression Evaluation <HR>"
   ]
  },
  {
   "cell_type": "code",
   "execution_count": 1,
   "metadata": {},
   "outputs": [],
   "source": [
    "class Stack:\n",
    "    def __init__(self):\n",
    "        self.s = []\n",
    "        \n",
    "    def push(self, item):\n",
    "        self.s.append(item)\n",
    "        \n",
    "    def pop(self):\n",
    "        return self.s.pop()\n",
    "    \n",
    "    def isEmpty(self):\n",
    "        return True if len(self.s)==0 else 0\n",
    "    \n",
    "    def top(self):\n",
    "        return self.s[-1]"
   ]
  },
  {
   "cell_type": "code",
   "execution_count": 2,
   "metadata": {},
   "outputs": [],
   "source": [
    "class Evaluation:\n",
    "    def __init__(self):\n",
    "        pass\n",
    "    \n",
    "    def precedence(self, operator):\n",
    "        op_precedence = {'^':3, '*':2, '/':2, '+':1, '-': 1}\n",
    "        return op_precedence.get(operator, -1)\n",
    "    \n",
    "    def evaluate(self, exp):\n",
    "        stack_val = Stack()\n",
    "        stack_op = Stack()\n",
    "        \n",
    "        i = 0\n",
    "        while i < len(exp):\n",
    "            tok = exp[i]\n",
    "            if tok == ' ':\n",
    "                pass\n",
    "            elif tok.isdigit():\n",
    "                operand = 0\n",
    "                while i < len(exp) and exp[i].isdigit():\n",
    "                    operand = operand*10 + int(exp[i])\n",
    "                    i += 1\n",
    "                i -= 1\n",
    "                stack_val.push(operand)\n",
    "            elif tok == '(':\n",
    "                stack_op.push('(')\n",
    "            elif tok == ')':\n",
    "                while not stack_op.isEmpty() and stack_op.top() != '(':\n",
    "                    op = stack_op.pop()\n",
    "                    b = stack_val.pop()\n",
    "                    a = stack_val.pop()\n",
    "                    res = self.compute(a,op,b)\n",
    "                    stack_val.push(res)\n",
    "                stack_op.pop()\n",
    "            else:\n",
    "                while not stack_op.isEmpty() and self.precedence(tok) <= self.precedence(stack_op.top()):\n",
    "                    op = stack_op.pop()\n",
    "                    b = stack_val.pop()\n",
    "                    a = stack_val.pop()\n",
    "                    res = self.compute(a,op,b)\n",
    "                    stack_val.push(res)\n",
    "                stack_op.push(tok)\n",
    "            i += 1\n",
    "            \n",
    "        while not stack_op.isEmpty():\n",
    "            op = stack_op.pop()\n",
    "            b = stack_val.pop()\n",
    "            a = stack_val.pop()\n",
    "            res = self.compute(a,op,b)\n",
    "            stack_val.push(res)\n",
    "            \n",
    "        return stack_val.pop()\n",
    "                    \n",
    "    def compute(self, a, op, b):\n",
    "        operator = {'^': lambda x,y: x**y, \n",
    "                    '*': lambda x,y: x*y, \n",
    "                    '/': lambda x,y: x/y, \n",
    "                    '+': lambda x,y: x+y, \n",
    "                    '-': lambda x,y: x-y}\n",
    "        return operator[op](a,b)"
   ]
  },
  {
   "cell_type": "code",
   "execution_count": 3,
   "metadata": {},
   "outputs": [
    {
     "name": "stdout",
     "output_type": "stream",
     "text": [
      "100.0\n",
      "212\n"
     ]
    }
   ],
   "source": [
    "evl = Evaluation()\n",
    "result = evl.evaluate('100 * (2+12)/14')\n",
    "print(result)\n",
    "result = evl.evaluate(\"100 * 2 + 12\")\n",
    "print(result)"
   ]
  },
  {
   "cell_type": "code",
   "execution_count": null,
   "metadata": {},
   "outputs": [],
   "source": []
  }
 ],
 "metadata": {
  "kernelspec": {
   "display_name": "Python 3",
   "language": "python",
   "name": "python3"
  },
  "language_info": {
   "codemirror_mode": {
    "name": "ipython",
    "version": 3
   },
   "file_extension": ".py",
   "mimetype": "text/x-python",
   "name": "python",
   "nbconvert_exporter": "python",
   "pygments_lexer": "ipython3",
   "version": "3.6.4"
  }
 },
 "nbformat": 4,
 "nbformat_minor": 2
}
