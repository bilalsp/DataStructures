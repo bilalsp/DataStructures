{
 "cells": [
  {
   "cell_type": "markdown",
   "metadata": {},
   "source": [
    "# <HR> Inorder Tree Traversal without Recursion <HR>"
   ]
  },
  {
   "cell_type": "code",
   "execution_count": 1,
   "metadata": {},
   "outputs": [],
   "source": [
    "class Stack:\n",
    "    def __init__(self):\n",
    "        self.arr = []\n",
    "        \n",
    "    def push(self, node):\n",
    "        self.arr.append(node)\n",
    "        \n",
    "    def pop(self):\n",
    "        return self.arr.pop()\n",
    "    \n",
    "    def isEmpty(self):\n",
    "        return self.arr == []"
   ]
  },
  {
   "cell_type": "code",
   "execution_count": 2,
   "metadata": {},
   "outputs": [],
   "source": [
    "class Node:\n",
    "    def __init__(self, value):\n",
    "        self.value = value\n",
    "        self.left = None\n",
    "        self.right = None"
   ]
  },
  {
   "cell_type": "code",
   "execution_count": 3,
   "metadata": {},
   "outputs": [],
   "source": [
    "class BinaryTree:\n",
    "    def __init__(self, arr):\n",
    "        self.root = self._buildTree(arr, None, 0, len(arr))\n",
    "        \n",
    "    def _buildTree(self, arr, root, i, n):\n",
    "        \"\"\"Build the complete binary tree from a given array in level order fashion.\"\"\"\n",
    "        if i < n:\n",
    "            root = Node(arr[i])\n",
    "            root.left = self._buildTree(arr, root.left, 2*i+1, n)\n",
    "            root.right = self._buildTree(arr, root.right, 2*i+2, n)\n",
    "        return root\n",
    "    \n",
    "    def inOrder(self, root):\n",
    "        s = Stack()\n",
    "        cur_node = root\n",
    "        while cur_node or not s.isEmpty():\n",
    "            if cur_node:\n",
    "                s.push(cur_node)\n",
    "                cur_node = cur_node.left\n",
    "            else:\n",
    "                popped_node = s.pop()\n",
    "                print(popped_node.value, end=\" \")\n",
    "                cur_node = popped_node.right"
   ]
  },
  {
   "cell_type": "code",
   "execution_count": 4,
   "metadata": {},
   "outputs": [
    {
     "name": "stdout",
     "output_type": "stream",
     "text": [
      "==== In-Order Traversal ====\n",
      "8 4 2 2 3 0 9 6 7 8 "
     ]
    }
   ],
   "source": [
    "bt = BinaryTree([9, 2, 7, 4, 0, 6, 8, 8, 2, 3])\n",
    "print(\"==== In-Order Traversal ====\")\n",
    "bt.inOrder(bt.root)"
   ]
  },
  {
   "cell_type": "code",
   "execution_count": null,
   "metadata": {},
   "outputs": [],
   "source": []
  },
  {
   "cell_type": "code",
   "execution_count": null,
   "metadata": {},
   "outputs": [],
   "source": []
  },
  {
   "cell_type": "code",
   "execution_count": null,
   "metadata": {},
   "outputs": [],
   "source": []
  },
  {
   "cell_type": "code",
   "execution_count": null,
   "metadata": {},
   "outputs": [],
   "source": []
  },
  {
   "cell_type": "code",
   "execution_count": null,
   "metadata": {},
   "outputs": [],
   "source": []
  },
  {
   "cell_type": "code",
   "execution_count": null,
   "metadata": {},
   "outputs": [],
   "source": []
  }
 ],
 "metadata": {
  "kernelspec": {
   "display_name": "Python 3",
   "language": "python",
   "name": "python3"
  },
  "language_info": {
   "codemirror_mode": {
    "name": "ipython",
    "version": 3
   },
   "file_extension": ".py",
   "mimetype": "text/x-python",
   "name": "python",
   "nbconvert_exporter": "python",
   "pygments_lexer": "ipython3",
   "version": "3.6.4"
  }
 },
 "nbformat": 4,
 "nbformat_minor": 2
}
