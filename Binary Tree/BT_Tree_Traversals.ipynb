{
 "cells": [
  {
   "cell_type": "markdown",
   "metadata": {},
   "source": [
    "# <HR> Tree Traversals (Inorder, Preorder and Postorder) <HR>"
   ]
  },
  {
   "cell_type": "code",
   "execution_count": 1,
   "metadata": {},
   "outputs": [],
   "source": [
    "class Node:\n",
    "    def __init__(self, value):\n",
    "        self.value = value\n",
    "        self.left = None\n",
    "        self.right = None"
   ]
  },
  {
   "cell_type": "code",
   "execution_count": 2,
   "metadata": {},
   "outputs": [],
   "source": [
    "class BinaryTree:\n",
    "    def __init__(self, arr):\n",
    "        self.root = self._buildTree(arr, None, 0, len(arr))\n",
    "        \n",
    "    def _buildTree(self, arr, root, i, n):\n",
    "        \"\"\"Build the complete binary tree from a given array in level order fashion.\"\"\"\n",
    "        if i < n:\n",
    "            root = Node(arr[i])\n",
    "            root.left = self._buildTree(arr, root.left, 2*i+1, n)\n",
    "            root.right = self._buildTree(arr, root.right, 2*i+2, n)\n",
    "        return root\n",
    "    \n",
    "    def preOrder(self, root):\n",
    "        if root:\n",
    "            print(root.value, end=\" \")\n",
    "            self.preOrder(root.left)\n",
    "            self.preOrder(root.right)\n",
    "            \n",
    "    def inOrder(self, root):\n",
    "        if root:\n",
    "            self.inOrder(root.left)\n",
    "            print(root.value, end=\" \")\n",
    "            self.inOrder(root.right)\n",
    "            \n",
    "    def postOrder(self, root):\n",
    "        if root:\n",
    "            self.postOrder(root.left)\n",
    "            self.postOrder(root.right)\n",
    "            print(root.value, end=\" \")"
   ]
  },
  {
   "cell_type": "code",
   "execution_count": 3,
   "metadata": {},
   "outputs": [
    {
     "name": "stdout",
     "output_type": "stream",
     "text": [
      "==== Pre-Order Traversal ====\n",
      "9 2 4 8 2 0 3 7 6 8 \n",
      "==== In-Order Traversal ====\n",
      "8 4 2 2 3 0 9 6 7 8 \n",
      "===== Post-Order Traversal ====\n",
      "8 2 4 3 0 2 6 8 7 9 "
     ]
    }
   ],
   "source": [
    "bt = BinaryTree([9, 2, 7, 4, 0, 6, 8, 8, 2, 3])\n",
    "print(\"==== Pre-Order Traversal ====\")\n",
    "bt.preOrder(bt.root)\n",
    "print(\"\\n==== In-Order Traversal ====\")\n",
    "bt.inOrder(bt.root)\n",
    "print(\"\\n===== Post-Order Traversal ====\")\n",
    "bt.postOrder(bt.root)"
   ]
  },
  {
   "cell_type": "code",
   "execution_count": null,
   "metadata": {},
   "outputs": [],
   "source": []
  },
  {
   "cell_type": "code",
   "execution_count": null,
   "metadata": {},
   "outputs": [],
   "source": []
  }
 ],
 "metadata": {
  "kernelspec": {
   "display_name": "Python 3",
   "language": "python",
   "name": "python3"
  },
  "language_info": {
   "codemirror_mode": {
    "name": "ipython",
    "version": 3
   },
   "file_extension": ".py",
   "mimetype": "text/x-python",
   "name": "python",
   "nbconvert_exporter": "python",
   "pygments_lexer": "ipython3",
   "version": "3.6.4"
  }
 },
 "nbformat": 4,
 "nbformat_minor": 2
}
