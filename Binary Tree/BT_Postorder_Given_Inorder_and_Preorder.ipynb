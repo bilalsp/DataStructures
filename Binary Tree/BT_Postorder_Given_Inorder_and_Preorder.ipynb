{
 "cells": [
  {
   "cell_type": "markdown",
   "metadata": {},
   "source": [
    "# <HR>Postorder traversal from given Inorder and Preorder traversals<HR>"
   ]
  },
  {
   "cell_type": "markdown",
   "metadata": {},
   "source": [
    "### 1. Using Recursion \n",
    "    Time Complexity: O(n^2) | Space Complexity: O(1)"
   ]
  },
  {
   "cell_type": "code",
   "execution_count": 1,
   "metadata": {},
   "outputs": [],
   "source": [
    "def print_postorder(inorder,preorder):\n",
    "    num_nodes = len(inorder)  #Number of nodes in tree\n",
    "    root = preorder[0]\n",
    "    root_i = inorder.index(root) #Index of Root in inorder\n",
    "    \n",
    "    if root_i != 0: #Left Subtree exist\n",
    "        print_postorder(inorder[:root_i], preorder[1:root_i+1])\n",
    "    \n",
    "    if root_i != num_nodes-1: #Right Subtree exist\n",
    "        print_postorder(inorder[root_i+1:], preorder[root_i+1:])\n",
    "    \n",
    "    print(root, end=\" \")"
   ]
  },
  {
   "cell_type": "code",
   "execution_count": 2,
   "metadata": {},
   "outputs": [
    {
     "name": "stdout",
     "output_type": "stream",
     "text": [
      "4 5 2 6 3 1 "
     ]
    }
   ],
   "source": [
    "inorder = [4, 2, 5, 1, 3, 6]\n",
    "preorder = [1, 2, 4, 5, 3, 6]\n",
    "print_postorder(inorder, preorder)"
   ]
  },
  {
   "cell_type": "markdown",
   "metadata": {},
   "source": [
    "### 2. Using Recursion and Hash \n",
    "    Time Complexity: O(n) | Space Complexity: O(n)"
   ]
  },
  {
   "cell_type": "code",
   "execution_count": 3,
   "metadata": {},
   "outputs": [],
   "source": [
    "pre_index = 0\n",
    "def print_postorder_2(inorder, preorder, in_start, in_end, hash_map):\n",
    "    global pre_index\n",
    "    if in_start <= in_end:\n",
    "        root = preorder[pre_index]\n",
    "        pre_index += 1\n",
    "        root_i = hash_map[root] #Index of Root in inorder\n",
    "        \n",
    "        print_postorder_2(inorder, preorder, in_start, root_i-1, hash_map)\n",
    "        print_postorder_2(inorder, preorder, root_i+1, in_end, hash_map)\n",
    "        \n",
    "        print(root, end=\" \")"
   ]
  },
  {
   "cell_type": "code",
   "execution_count": 4,
   "metadata": {},
   "outputs": [
    {
     "name": "stdout",
     "output_type": "stream",
     "text": [
      "4 5 2 6 3 1 "
     ]
    }
   ],
   "source": [
    "inorder = [4, 2, 5, 1, 3, 6]; \n",
    "preorder = [1, 2, 4, 5, 3, 6]; \n",
    "n = len(inorder)\n",
    "hash_map = dict((k,v) for k,v  in zip(inorder, range(n)))\n",
    "print_postorder_2(inorder, preorder, 0, n-1, hash_map)"
   ]
  },
  {
   "cell_type": "code",
   "execution_count": null,
   "metadata": {},
   "outputs": [],
   "source": []
  },
  {
   "cell_type": "code",
   "execution_count": null,
   "metadata": {},
   "outputs": [],
   "source": []
  },
  {
   "cell_type": "code",
   "execution_count": null,
   "metadata": {},
   "outputs": [],
   "source": []
  }
 ],
 "metadata": {
  "kernelspec": {
   "display_name": "Python 3",
   "language": "python",
   "name": "python3"
  },
  "language_info": {
   "codemirror_mode": {
    "name": "ipython",
    "version": 3
   },
   "file_extension": ".py",
   "mimetype": "text/x-python",
   "name": "python",
   "nbconvert_exporter": "python",
   "pygments_lexer": "ipython3",
   "version": "3.6.4"
  }
 },
 "nbformat": 4,
 "nbformat_minor": 2
}
