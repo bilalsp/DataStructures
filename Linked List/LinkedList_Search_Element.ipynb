{
 "cells": [
  {
   "cell_type": "markdown",
   "metadata": {},
   "source": [
    "## <HR> Search an element in a Linked List <HR>\n",
    "    Create a linked list and design a methods to search an element in it"
   ]
  },
  {
   "cell_type": "code",
   "execution_count": 1,
   "metadata": {},
   "outputs": [],
   "source": [
    "class Node:\n",
    "    \"\"\" To create the object as a new node for the linked list\n",
    "    \"\"\"\n",
    "    def __init__(self, data):\n",
    "        self.data = data\n",
    "        self.next = None"
   ]
  },
  {
   "cell_type": "code",
   "execution_count": 2,
   "metadata": {},
   "outputs": [],
   "source": [
    "class LinkedList:\n",
    "    \"\"\" To create the linked list object and methods to perform the operation on it\n",
    "    \"\"\"\n",
    "    def __init__(self):\n",
    "        self.head = None\n",
    "        \n",
    "    def insertAtEnd(self, value):\n",
    "        newNode = Node(value)\n",
    "        \n",
    "        if self.head is None:\n",
    "            self.head = newNode\n",
    "            return \n",
    "        \n",
    "        lastNode = self.head\n",
    "        while lastNode.next:\n",
    "            lastNode = lastNode.next\n",
    "        \n",
    "        lastNode.next = newNode\n",
    "        \n",
    "    def searchKey(self, key):\n",
    "        #Iterative Approach\n",
    "        cur = self.head\n",
    "        while cur:\n",
    "            if cur.data == key:\n",
    "                return True\n",
    "            cur = cur.next\n",
    "        \n",
    "        return False\n",
    "    \n",
    "    def searchKey_rec(self, node, key):\n",
    "        #Recursive Approach\n",
    "        if node is None:\n",
    "            return False\n",
    "        \n",
    "        if node.data == key:\n",
    "            return True\n",
    "        \n",
    "        return self.searchKey_rec(node.next, key)\n",
    "        \n",
    "    def printList(self):\n",
    "        temp = self.head\n",
    "        while temp:\n",
    "            print(temp.data, end=\" \")\n",
    "            temp = temp.next"
   ]
  },
  {
   "cell_type": "markdown",
   "metadata": {},
   "source": [
    "## Testing"
   ]
  },
  {
   "cell_type": "code",
   "execution_count": 4,
   "metadata": {},
   "outputs": [
    {
     "name": "stdout",
     "output_type": "stream",
     "text": [
      "True\n",
      "False\n"
     ]
    }
   ],
   "source": [
    "llist = LinkedList() \n",
    "llist.insertAtEnd(1)     \n",
    "llist.insertAtEnd(2) \n",
    "llist.insertAtEnd(3) \n",
    "llist.insertAtEnd(4) \n",
    "llist.insertAtEnd(5) \n",
    "\n",
    "key = 4 \n",
    "\n",
    "result = llist.searchKey(key) #Iterative Approach\n",
    "print(result)\n",
    "\n",
    "key = 10\n",
    "\n",
    "result = llist.searchKey_rec(llist.head, key) #Recursive Approach\n",
    "print(result)"
   ]
  },
  {
   "cell_type": "code",
   "execution_count": null,
   "metadata": {},
   "outputs": [],
   "source": []
  }
 ],
 "metadata": {
  "kernelspec": {
   "display_name": "Python 3",
   "language": "python",
   "name": "python3"
  },
  "language_info": {
   "codemirror_mode": {
    "name": "ipython",
    "version": 3
   },
   "file_extension": ".py",
   "mimetype": "text/x-python",
   "name": "python",
   "nbconvert_exporter": "python",
   "pygments_lexer": "ipython3",
   "version": "3.6.4"
  }
 },
 "nbformat": 4,
 "nbformat_minor": 2
}
