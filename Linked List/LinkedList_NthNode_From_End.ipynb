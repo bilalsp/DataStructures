{
 "cells": [
  {
   "cell_type": "markdown",
   "metadata": {},
   "source": [
    "# <HR> Nth node from end of linked list <HR>\n",
    "    Create a linked list and design a methods to find the nth node from the end"
   ]
  },
  {
   "cell_type": "code",
   "execution_count": 1,
   "metadata": {},
   "outputs": [],
   "source": [
    "class Node:\n",
    "    \"\"\" To create the object as a new node for the linked list\n",
    "    \"\"\"\n",
    "    def __init__(self, data):\n",
    "        self.data = data\n",
    "        self.next = None"
   ]
  },
  {
   "cell_type": "code",
   "execution_count": 2,
   "metadata": {},
   "outputs": [],
   "source": [
    "class LinkedList:\n",
    "    \"\"\" To create the linked list object and methods to perform the operation on it\n",
    "    \"\"\"\n",
    "    def __init__(self):\n",
    "        self.head = None\n",
    "        \n",
    "    def insertAtEnd(self, value):\n",
    "        newNode = Node(value)\n",
    "        \n",
    "        if self.head is None:\n",
    "            self.head = newNode\n",
    "            return \n",
    "        \n",
    "        lastNode = self.head\n",
    "        while lastNode.next:\n",
    "            lastNode = lastNode.next\n",
    "        \n",
    "        lastNode.next = newNode\n",
    "        \n",
    "    def getNthFromEnd(self, n):\n",
    "        ref1 = self.head\n",
    "        ref2 = self.head\n",
    "        \n",
    "        while n:\n",
    "            if ref1 is None:\n",
    "                return -1\n",
    "            ref1 = ref1.next\n",
    "            n -= 1\n",
    "        \n",
    "        while ref1:\n",
    "            ref1 = ref1.next\n",
    "            ref2 = ref2.next\n",
    "\n",
    "        return ref2.data        \n",
    "        \n",
    "    def printList(self):\n",
    "        temp = self.head\n",
    "        while temp:\n",
    "            print(temp.data, end=\" \")\n",
    "            temp = temp.next"
   ]
  },
  {
   "cell_type": "markdown",
   "metadata": {},
   "source": [
    "## Testing"
   ]
  },
  {
   "cell_type": "code",
   "execution_count": 4,
   "metadata": {},
   "outputs": [
    {
     "name": "stdout",
     "output_type": "stream",
     "text": [
      "10 14 12 16 23 89 "
     ]
    },
    {
     "data": {
      "text/plain": [
       "12"
      ]
     },
     "execution_count": 4,
     "metadata": {},
     "output_type": "execute_result"
    }
   ],
   "source": [
    "llist = LinkedList() \n",
    "\n",
    "llist.insertAtEnd(10)\n",
    "llist.insertAtEnd(14)\n",
    "llist.insertAtEnd(12)\n",
    "llist.insertAtEnd(16)\n",
    "llist.insertAtEnd(23)\n",
    "llist.insertAtEnd(89)\n",
    "\n",
    "llist.printList()\n",
    "n = 4    \n",
    "llist.getNthFromEnd(4) "
   ]
  },
  {
   "cell_type": "code",
   "execution_count": null,
   "metadata": {},
   "outputs": [],
   "source": []
  },
  {
   "cell_type": "code",
   "execution_count": null,
   "metadata": {},
   "outputs": [],
   "source": []
  }
 ],
 "metadata": {
  "kernelspec": {
   "display_name": "Python 3",
   "language": "python",
   "name": "python3"
  },
  "language_info": {
   "codemirror_mode": {
    "name": "ipython",
    "version": 3
   },
   "file_extension": ".py",
   "mimetype": "text/x-python",
   "name": "python",
   "nbconvert_exporter": "python",
   "pygments_lexer": "ipython3",
   "version": "3.6.4"
  }
 },
 "nbformat": 4,
 "nbformat_minor": 2
}
