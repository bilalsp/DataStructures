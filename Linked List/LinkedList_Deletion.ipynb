{
 "cells": [
  {
   "cell_type": "markdown",
   "metadata": {},
   "source": [
    "## <HR> Node Deletion in a Linked List <HR>\n",
    "    Create a linked list and design a methods to perform the deletion operations on it"
   ]
  },
  {
   "cell_type": "code",
   "execution_count": 1,
   "metadata": {},
   "outputs": [],
   "source": [
    "class Node:\n",
    "    \"\"\" To create the object as a new node for the linked list\n",
    "    \"\"\"\n",
    "    def __init__(self, data):\n",
    "        self.data = data\n",
    "        self.next = None"
   ]
  },
  {
   "cell_type": "code",
   "execution_count": 2,
   "metadata": {},
   "outputs": [],
   "source": [
    "class LinkedList:\n",
    "    \"\"\" To create the linked list object and methods to perform the operation on it\n",
    "    \"\"\"\n",
    "    def __init__(self):\n",
    "        self.head = None\n",
    "        \n",
    "    def insertAtBegining(self, data):\n",
    "        newNode = Node(data)\n",
    "        newNode.next = self.head\n",
    "        self.head = newNode\n",
    "        \n",
    "    def deleteNode(self, key):\n",
    "        temp = self.head\n",
    "        if temp is None:\n",
    "            return \"Linked List is empty\"\n",
    "        \n",
    "        if temp and temp.data == key:\n",
    "            self.head = temp.next\n",
    "            return \n",
    "        \n",
    "        prev = temp\n",
    "        while prev.next:\n",
    "            if prev.next.data == key:\n",
    "                prev.next = prev.next.next\n",
    "                return \n",
    "            prev = prev.next\n",
    "        \n",
    "        if prev.next is None:\n",
    "            return \"Key doesn't exist in the linked list.\"\n",
    "            \n",
    "    def printList(self):\n",
    "        temp = self.head\n",
    "        while temp:\n",
    "            print(temp.data, end=\" \")\n",
    "            temp = temp.next"
   ]
  },
  {
   "cell_type": "markdown",
   "metadata": {},
   "source": [
    "## Testing "
   ]
  },
  {
   "cell_type": "code",
   "execution_count": 3,
   "metadata": {},
   "outputs": [
    {
     "name": "stdout",
     "output_type": "stream",
     "text": [
      "Created Linked List: \n",
      "2 3 1 7 \n",
      "Linked List after Deletion of 1:\n",
      "2 3 7 "
     ]
    }
   ],
   "source": [
    "llist = LinkedList() \n",
    "llist.insertAtBegining(7) \n",
    "llist.insertAtBegining(1) \n",
    "llist.insertAtBegining(3) \n",
    "llist.insertAtBegining(2) \n",
    "  \n",
    "print(\"Created Linked List: \")\n",
    "llist.printList() \n",
    "\n",
    "llist.deleteNode(1)  \n",
    "print(\"\\nLinked List after Deletion of 1:\")\n",
    "llist.printList() "
   ]
  },
  {
   "cell_type": "code",
   "execution_count": null,
   "metadata": {},
   "outputs": [],
   "source": []
  },
  {
   "cell_type": "code",
   "execution_count": null,
   "metadata": {},
   "outputs": [],
   "source": []
  },
  {
   "cell_type": "code",
   "execution_count": null,
   "metadata": {},
   "outputs": [],
   "source": []
  }
 ],
 "metadata": {
  "kernelspec": {
   "display_name": "Python 3",
   "language": "python",
   "name": "python3"
  },
  "language_info": {
   "codemirror_mode": {
    "name": "ipython",
    "version": 3
   },
   "file_extension": ".py",
   "mimetype": "text/x-python",
   "name": "python",
   "nbconvert_exporter": "python",
   "pygments_lexer": "ipython3",
   "version": "3.6.4"
  }
 },
 "nbformat": 4,
 "nbformat_minor": 2
}
