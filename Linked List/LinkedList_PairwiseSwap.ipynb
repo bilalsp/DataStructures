{
 "cells": [
  {
   "cell_type": "markdown",
   "metadata": {},
   "source": [
    "# <HR> Pairwise swap elements of a given Linked List <HR>\n",
    "    Create a linked list and design a methods to perform the pairwise swap"
   ]
  },
  {
   "cell_type": "code",
   "execution_count": 1,
   "metadata": {},
   "outputs": [],
   "source": [
    "class Node:\n",
    "    \"\"\" To create the object as a new node for the linked list\n",
    "    \"\"\"\n",
    "    def __init__(self, data):\n",
    "        self.data = data\n",
    "        self.next = None"
   ]
  },
  {
   "cell_type": "code",
   "execution_count": 2,
   "metadata": {},
   "outputs": [],
   "source": [
    "class LinkedList:\n",
    "    \"\"\" To create the linked list object and methods to perform the operation on it\n",
    "    \"\"\"\n",
    "    def __init__(self):\n",
    "        self.head = None\n",
    "\n",
    "    def insertAtEnd(self, value):\n",
    "        newNode = Node(value)\n",
    "        \n",
    "        if self.head is None:\n",
    "            self.head = newNode\n",
    "            return \n",
    "        \n",
    "        lastNode = self.head\n",
    "        while lastNode.next:\n",
    "            lastNode = lastNode.next\n",
    "        \n",
    "        lastNode.next = newNode\n",
    "        \n",
    "    def pairWiseSwap(self):\n",
    "        # Iterative Approach and without swaping data\n",
    "        cur = self.head\n",
    "        prev = None\n",
    "        while cur and cur.next:\n",
    "            if prev is not None:\n",
    "                prev.next = cur.next\n",
    "            else:\n",
    "                self.head = cur.next\n",
    "\n",
    "            temp = cur.next.next\n",
    "            cur.next.next = cur\n",
    "            cur.next = temp\n",
    "\n",
    "            prev = cur\n",
    "            cur = cur.next\n",
    "            \n",
    "    def pairWiseSwap_rec(self, head):\n",
    "        #Recursive Approach and data swaping\n",
    "        if head is None or head.next is None:\n",
    "            return \n",
    "    \n",
    "        head.data, head.next.data = head.next.data, head.data  #Swap data \n",
    "        \n",
    "        self.pairWiseSwap_rec(head.next.next)\n",
    " \n",
    "    def printList(self):\n",
    "        temp = self.head\n",
    "        while temp:\n",
    "            print(temp.data, end=\" \")\n",
    "            temp = temp.next"
   ]
  },
  {
   "cell_type": "markdown",
   "metadata": {},
   "source": [
    "## Testing"
   ]
  },
  {
   "cell_type": "code",
   "execution_count": 3,
   "metadata": {},
   "outputs": [
    {
     "name": "stdout",
     "output_type": "stream",
     "text": [
      "19 20 21 23 25 67 90 \n",
      "20 19 23 21 67 25 90 \n",
      "19 20 21 23 25 67 90 "
     ]
    }
   ],
   "source": [
    "llist = LinkedList() \n",
    "llist.insertAtEnd(19)\n",
    "llist.insertAtEnd(20)\n",
    "llist.insertAtEnd(21)\n",
    "llist.insertAtEnd(23)\n",
    "llist.insertAtEnd(25)\n",
    "llist.insertAtEnd(67)\n",
    "llist.insertAtEnd(90)\n",
    "\n",
    "llist.printList()\n",
    "\n",
    "llist.pairWiseSwap()\n",
    "print()\n",
    "llist.printList()\n",
    "\n",
    "llist.pairWiseSwap_rec(llist.head)\n",
    "print()\n",
    "llist.printList()"
   ]
  },
  {
   "cell_type": "code",
   "execution_count": null,
   "metadata": {},
   "outputs": [],
   "source": []
  },
  {
   "cell_type": "code",
   "execution_count": null,
   "metadata": {},
   "outputs": [],
   "source": []
  }
 ],
 "metadata": {
  "kernelspec": {
   "display_name": "Python 3",
   "language": "python",
   "name": "python3"
  },
  "language_info": {
   "codemirror_mode": {
    "name": "ipython",
    "version": 3
   },
   "file_extension": ".py",
   "mimetype": "text/x-python",
   "name": "python",
   "nbconvert_exporter": "python",
   "pygments_lexer": "ipython3",
   "version": "3.6.4"
  }
 },
 "nbformat": 4,
 "nbformat_minor": 2
}
