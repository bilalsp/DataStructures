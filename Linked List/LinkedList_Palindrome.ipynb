{
 "cells": [
  {
   "cell_type": "markdown",
   "metadata": {},
   "source": [
    "# <HR> Validate Singly linked list is palindrome <HR>\n",
    "    Create a linked list and design a methods to check it is palindrome or not."
   ]
  },
  {
   "cell_type": "code",
   "execution_count": 1,
   "metadata": {},
   "outputs": [],
   "source": [
    "class Node:\n",
    "    \"\"\" To create the object as a new node for the linked list\n",
    "    \"\"\"\n",
    "    def __init__(self, data):\n",
    "        self.data = data\n",
    "        self.next = None"
   ]
  },
  {
   "cell_type": "code",
   "execution_count": 2,
   "metadata": {},
   "outputs": [],
   "source": [
    "class LinkedList:\n",
    "    \"\"\" To create the linked list object and methods to perform the operation on it\n",
    "    \"\"\"\n",
    "    def __init__(self):\n",
    "        self.head = None\n",
    "\n",
    "    def insertAtEnd(self, value):\n",
    "        newNode = Node(value)\n",
    "        \n",
    "        if self.head is None:\n",
    "            self.head = newNode\n",
    "            return \n",
    "        \n",
    "        lastNode = self.head\n",
    "        while lastNode.next:\n",
    "            lastNode = lastNode.next\n",
    "        \n",
    "        lastNode.next = newNode\n",
    "    \n",
    "    def isPalindrome_1(self):\n",
    "        #Using Stack \n",
    "        stack = []\n",
    "        cur = self.head\n",
    "        while cur:\n",
    "            stack.append(cur.data)\n",
    "            cur = cur.next\n",
    "\n",
    "        cur = self.head\n",
    "        while cur:\n",
    "            if cur.data != stack.pop():\n",
    "                return False\n",
    "            cur = cur.next\n",
    "        return True\n",
    "    \n",
    "    def isPalindrome_2(self):\n",
    "        #Using Reverse Concept\n",
    "        ref1, ref2 = self.head, self.head\n",
    "\n",
    "        while ref2 and ref2.next:\n",
    "            ref1 = ref1.next\n",
    "            ref2 = ref2.next.next\n",
    "\n",
    "        mid_node = ref1\n",
    "\n",
    "        head_secondHalf = self.reverse(mid_node)\n",
    "\n",
    "        res = True\n",
    "        cur1, cur2 = self.head, head_secondHalf\n",
    "        while cur1.next:\n",
    "            if cur1.data != cur2.data:\n",
    "                res = False\n",
    "                break\n",
    "            cur1 = cur1.next\n",
    "            cur2 = cur2.next\n",
    "\n",
    "        mid_node = self.reverse(head_secondHalf)\n",
    "\n",
    "        return res\n",
    "    \n",
    "    def reverse(self, head):\n",
    "        prev = None\n",
    "        while head:\n",
    "            temp = head.next\n",
    "            head.next = prev\n",
    "            prev = head\n",
    "            head = temp\n",
    "        return prev\n",
    "       \n",
    "    def printList(self):\n",
    "        temp = self.head\n",
    "        while temp:\n",
    "            print(temp.data, end=\" \")\n",
    "            temp = temp.next"
   ]
  },
  {
   "cell_type": "markdown",
   "metadata": {},
   "source": [
    "## Testing"
   ]
  },
  {
   "cell_type": "code",
   "execution_count": 4,
   "metadata": {},
   "outputs": [
    {
     "name": "stdout",
     "output_type": "stream",
     "text": [
      "19 20 13 50 13 20 19 True\n",
      "19 20 13 50 13 20 19 25 False\n"
     ]
    }
   ],
   "source": [
    "llist = LinkedList() \n",
    "llist.insertAtEnd(19)\n",
    "llist.insertAtEnd(20)\n",
    "llist.insertAtEnd(13)\n",
    "llist.insertAtEnd(50)\n",
    "llist.insertAtEnd(13)\n",
    "llist.insertAtEnd(20)\n",
    "llist.insertAtEnd(19)\n",
    "\n",
    "llist.printList()\n",
    "res = llist.isPalindrome_1()\n",
    "print(res)\n",
    "\n",
    "llist.insertAtEnd(25)\n",
    "llist.printList()\n",
    "res = llist.isPalindrome_1()\n",
    "print(res)"
   ]
  },
  {
   "cell_type": "code",
   "execution_count": null,
   "metadata": {},
   "outputs": [],
   "source": []
  },
  {
   "cell_type": "code",
   "execution_count": null,
   "metadata": {},
   "outputs": [],
   "source": []
  }
 ],
 "metadata": {
  "kernelspec": {
   "display_name": "Python 3",
   "language": "python",
   "name": "python3"
  },
  "language_info": {
   "codemirror_mode": {
    "name": "ipython",
    "version": 3
   },
   "file_extension": ".py",
   "mimetype": "text/x-python",
   "name": "python",
   "nbconvert_exporter": "python",
   "pygments_lexer": "ipython3",
   "version": "3.6.4"
  }
 },
 "nbformat": 4,
 "nbformat_minor": 2
}
