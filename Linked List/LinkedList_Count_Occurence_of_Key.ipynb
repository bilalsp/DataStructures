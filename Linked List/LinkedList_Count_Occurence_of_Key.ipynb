{
 "cells": [
  {
   "cell_type": "markdown",
   "metadata": {},
   "source": [
    "# <HR> Count the occurence of given key <HR>\n",
    "    Create a linked list and design a method to counts the number of times a given key occurs in a Linked List."
   ]
  },
  {
   "cell_type": "code",
   "execution_count": 1,
   "metadata": {},
   "outputs": [],
   "source": [
    "class Node:\n",
    "    \"\"\" To create the object as a new node for the linked list\n",
    "    \"\"\"\n",
    "    def __init__(self, data):\n",
    "        self.data = data\n",
    "        self.next = None"
   ]
  },
  {
   "cell_type": "code",
   "execution_count": 2,
   "metadata": {},
   "outputs": [],
   "source": [
    "class LinkedList:\n",
    "    \"\"\" To create the linked list object and methods to perform the operation on it\n",
    "    \"\"\"\n",
    "    def __init__(self):\n",
    "        self.head = None\n",
    "        \n",
    "    def insertAtEnd(self, value):\n",
    "        newNode = Node(value)\n",
    "        \n",
    "        if self.head is None:\n",
    "            self.head = newNode\n",
    "            return \n",
    "        \n",
    "        lastNode = self.head\n",
    "        while lastNode.next:\n",
    "            lastNode = lastNode.next\n",
    "        \n",
    "        lastNode.next = newNode\n",
    "    \n",
    "    def count(self, key):\n",
    "        count = 0\n",
    "        cur = self.head\n",
    "        \n",
    "        while cur:\n",
    "            if cur.data == key:\n",
    "                count += 1\n",
    "            cur = cur.next\n",
    "\n",
    "        return count\n",
    "    \n",
    "    def count_rec(self, node, key):\n",
    "        if node is None:\n",
    "            return 0\n",
    "        \n",
    "        if node.data == key:\n",
    "            return 1 + self.count_rec(node.next, key)\n",
    "        \n",
    "        return self.count_rec(node.next, key)\n",
    "\n",
    "    def printList(self):\n",
    "        temp = self.head\n",
    "        while temp:\n",
    "            print(temp.data, end=\" \")\n",
    "            temp = temp.next"
   ]
  },
  {
   "cell_type": "markdown",
   "metadata": {},
   "source": [
    "## Testing "
   ]
  },
  {
   "cell_type": "code",
   "execution_count": 3,
   "metadata": {},
   "outputs": [
    {
     "name": "stdout",
     "output_type": "stream",
     "text": [
      "10 11 13 11 19 11 \n",
      "Middle Element is : 3\n",
      "\n",
      "Middle Element is : 3\n"
     ]
    }
   ],
   "source": [
    "llist = LinkedList() \n",
    "llist.insertAtEnd(10)\n",
    "llist.insertAtEnd(11)\n",
    "llist.insertAtEnd(13)\n",
    "llist.insertAtEnd(11)\n",
    "llist.insertAtEnd(19)\n",
    "llist.insertAtEnd(11)\n",
    "\n",
    "llist.printList()\n",
    "print (\"\\nMiddle Element is :\", llist.count(11)) \n",
    "\n",
    "\n",
    "print (\"\\nMiddle Element is :\", llist.count_rec(llist.head, 11)) "
   ]
  },
  {
   "cell_type": "code",
   "execution_count": null,
   "metadata": {},
   "outputs": [],
   "source": []
  }
 ],
 "metadata": {
  "kernelspec": {
   "display_name": "Python 3",
   "language": "python",
   "name": "python3"
  },
  "language_info": {
   "codemirror_mode": {
    "name": "ipython",
    "version": 3
   },
   "file_extension": ".py",
   "mimetype": "text/x-python",
   "name": "python",
   "nbconvert_exporter": "python",
   "pygments_lexer": "ipython3",
   "version": "3.6.4"
  }
 },
 "nbformat": 4,
 "nbformat_minor": 2
}
