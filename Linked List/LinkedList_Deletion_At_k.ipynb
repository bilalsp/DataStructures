{
 "cells": [
  {
   "cell_type": "markdown",
   "metadata": {},
   "source": [
    "# <HR> Delete a Linked List node at a given position <HR>\n",
    "    Create a linked list and design a methods to delete the node at a given position"
   ]
  },
  {
   "cell_type": "code",
   "execution_count": 1,
   "metadata": {},
   "outputs": [],
   "source": [
    "class Node:\n",
    "    \"\"\" To create the object as a new node for the linked list\n",
    "    \"\"\"\n",
    "    def __init__(self, data):\n",
    "        self.data = data\n",
    "        self.next = None"
   ]
  },
  {
   "cell_type": "code",
   "execution_count": 2,
   "metadata": {},
   "outputs": [],
   "source": [
    "class LinkedList:\n",
    "    \"\"\" To create the linked list object and methods to perform the operation on it\n",
    "    \"\"\"\n",
    "    def __init__(self):\n",
    "        self.head = None\n",
    "        \n",
    "    def insertAtEnd(self, value):\n",
    "        newNode = Node(value)\n",
    "        \n",
    "        if self.head is None:\n",
    "            self.head = newNode\n",
    "            return \n",
    "        \n",
    "        lastNode = self.head\n",
    "        while lastNode.next:\n",
    "            lastNode = lastNode.next\n",
    "        \n",
    "        lastNode.next = newNode\n",
    "        \n",
    "    def deleteNodeAt_k(self, k):\n",
    "        temp = self.head\n",
    "        if k == 1 and temp:\n",
    "            self.head = temp.next\n",
    "            return\n",
    "        \n",
    "        k -= 2\n",
    "        prev = temp\n",
    "        \n",
    "        while k:\n",
    "            prev = prev.next\n",
    "            k -= 1    \n",
    "        prev.next = prev.next.next\n",
    "        \n",
    "    def printList(self):\n",
    "        temp = self.head\n",
    "        while temp:\n",
    "            print(temp.data, end=\" \")\n",
    "            temp = temp.next"
   ]
  },
  {
   "cell_type": "markdown",
   "metadata": {},
   "source": [
    "## Testing"
   ]
  },
  {
   "cell_type": "code",
   "execution_count": 3,
   "metadata": {},
   "outputs": [
    {
     "name": "stdout",
     "output_type": "stream",
     "text": [
      "4\n",
      "1 5 2 9\n",
      "2\n",
      "1 2 9 "
     ]
    }
   ],
   "source": [
    "n = int(input())\n",
    "values = list(map(int, input().strip().split()))\n",
    "k = int(input())\n",
    "\n",
    "list1 = LinkedList()\n",
    "for i in values:\n",
    "    list1.insertAtEnd(i)\n",
    "list1.deleteNodeAt_k(k)\n",
    "list1.printList()"
   ]
  },
  {
   "cell_type": "raw",
   "metadata": {},
   "source": [
    "Expected Input:\n",
    "    4\n",
    "    1 5 2 9\n",
    "    2\n",
    "Expected Output:\n",
    "    1 2 9"
   ]
  },
  {
   "cell_type": "code",
   "execution_count": null,
   "metadata": {},
   "outputs": [],
   "source": []
  },
  {
   "cell_type": "code",
   "execution_count": null,
   "metadata": {},
   "outputs": [],
   "source": []
  }
 ],
 "metadata": {
  "kernelspec": {
   "display_name": "Python 3",
   "language": "python",
   "name": "python3"
  },
  "language_info": {
   "codemirror_mode": {
    "name": "ipython",
    "version": 3
   },
   "file_extension": ".py",
   "mimetype": "text/x-python",
   "name": "python",
   "nbconvert_exporter": "python",
   "pygments_lexer": "ipython3",
   "version": "3.6.4"
  }
 },
 "nbformat": 4,
 "nbformat_minor": 2
}
