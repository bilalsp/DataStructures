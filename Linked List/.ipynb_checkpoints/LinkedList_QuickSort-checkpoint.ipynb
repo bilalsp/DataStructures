{
 "cells": [
  {
   "cell_type": "markdown",
   "metadata": {},
   "source": [
    "# <HR> QuickSort on Singly Linked List  <HR>\n",
    "    Create a linked list and design a methods to sort the linked list"
   ]
  },
  {
   "cell_type": "code",
   "execution_count": 1,
   "metadata": {},
   "outputs": [],
   "source": [
    "class Node:\n",
    "    \"\"\" To create the object as a new node for the linked list\n",
    "    \"\"\"\n",
    "    def __init__(self, data):\n",
    "        self.data = data\n",
    "        self.next = None"
   ]
  },
  {
   "cell_type": "code",
   "execution_count": 2,
   "metadata": {},
   "outputs": [],
   "source": [
    "class Sort:\n",
    "    def __init__(self, head):\n",
    "        self.head = head\n",
    "        \n",
    "    def getTail(self, head):\n",
    "        while head and head.next:\n",
    "            head = head.next\n",
    "        return head\n",
    "    \n",
    "    def partition(self, head, tail):\n",
    "        \n",
    "        pivot = tail\n",
    "        new_head, new_tail = None, tail\n",
    "        prev, cur = None, head\n",
    "        \n",
    "        while cur != pivot:\n",
    "            if cur.data > pivot.data:\n",
    "                if prev:\n",
    "                    prev.next = cur.next\n",
    "                temp = cur.next\n",
    "                new_tail.next = cur\n",
    "                cur.next = None\n",
    "                new_tail = cur\n",
    "                cur = temp\n",
    "            else:\n",
    "                if new_head is None:\n",
    "                    new_head = cur\n",
    "                prev = cur\n",
    "                cur = cur.next\n",
    "                \n",
    "        if new_head is None:  #If pivot is the smallest element in the list\n",
    "            new_head = pivot\n",
    "\n",
    "        return [new_head, pivot, new_tail]\n",
    "\n",
    "    def quickSort_rec(self, head, tail):\n",
    "        \n",
    "        if head is None or head == tail:\n",
    "            return head\n",
    "        \n",
    "        new_head, pivot, new_tail = self.partition(head, tail)\n",
    "        \n",
    "        if new_head != pivot:\n",
    "            cur = new_head\n",
    "            while cur.next != pivot:\n",
    "                cur = cur.next\n",
    "            cur.next = None\n",
    "            \n",
    "            new_head = self.quickSort_rec(new_head, cur)\n",
    "            \n",
    "            cur = self.getTail(new_head)\n",
    "            \n",
    "            cur.next = pivot\n",
    "        \n",
    "        pivot.next = self.quickSort_rec(pivot.next, new_tail)\n",
    "        \n",
    "        return new_head\n",
    "        \n",
    "    def quickSort(self):\n",
    "        return self.quickSort_rec(self.head, self.getTail(self.head))"
   ]
  },
  {
   "cell_type": "code",
   "execution_count": 3,
   "metadata": {},
   "outputs": [],
   "source": [
    "class LinkedList:\n",
    "    \"\"\" To create the linked list object and methods to perform the operation on it\n",
    "    \"\"\"\n",
    "    def __init__(self):\n",
    "        self.head = None\n",
    "\n",
    "    def insertAtEnd(self, value):\n",
    "        newNode = Node(value)\n",
    "        \n",
    "        if self.head is None:\n",
    "            self.head = newNode\n",
    "            return \n",
    "        \n",
    "        lastNode = self.head\n",
    "        while lastNode.next:\n",
    "            lastNode = lastNode.next\n",
    "        \n",
    "        lastNode.next = newNode\n",
    "    \n",
    "    def quickSort(self):\n",
    "        self.head = Sort(self.head).quickSort()\n",
    "  \n",
    "    def printList(self):\n",
    "        temp = self.head\n",
    "        while temp:\n",
    "            print(temp.data, end=\" \")\n",
    "            temp = temp.next\n",
    "        print()"
   ]
  },
  {
   "cell_type": "markdown",
   "metadata": {},
   "source": [
    "## Testing"
   ]
  },
  {
   "cell_type": "code",
   "execution_count": 4,
   "metadata": {},
   "outputs": [
    {
     "name": "stdout",
     "output_type": "stream",
     "text": [
      "Orignal Linked List\n",
      "23 14 14 14 178 1 \n",
      "Sorted Linked List\n",
      "1 14 14 14 23 178 \n"
     ]
    }
   ],
   "source": [
    "llist = LinkedList() \n",
    "llist.insertAtEnd(23)\n",
    "llist.insertAtEnd(14)\n",
    "llist.insertAtEnd(14)\n",
    "llist.insertAtEnd(14)\n",
    "llist.insertAtEnd(178)\n",
    "llist.insertAtEnd(1)\n",
    "\n",
    "print(\"Orignal Linked List\")\n",
    "llist.printList()\n",
    "llist.quickSort()\n",
    "print(\"Sorted Linked List\")\n",
    "llist.printList()"
   ]
  },
  {
   "cell_type": "code",
   "execution_count": null,
   "metadata": {},
   "outputs": [],
   "source": []
  }
 ],
 "metadata": {
  "kernelspec": {
   "display_name": "Python 3",
   "language": "python",
   "name": "python3"
  },
  "language_info": {
   "codemirror_mode": {
    "name": "ipython",
    "version": 3
   },
   "file_extension": ".py",
   "mimetype": "text/x-python",
   "name": "python",
   "nbconvert_exporter": "python",
   "pygments_lexer": "ipython3",
   "version": "3.6.4"
  }
 },
 "nbformat": 4,
 "nbformat_minor": 2
}
