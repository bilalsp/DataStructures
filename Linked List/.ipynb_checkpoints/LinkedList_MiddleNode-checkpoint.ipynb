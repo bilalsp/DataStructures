{
 "cells": [
  {
   "cell_type": "markdown",
   "metadata": {},
   "source": [
    "## <HR> Middle Node of a given linked list <HR>\n",
    "    Create a linked list and design a method to find the Middle Node of it. "
   ]
  },
  {
   "cell_type": "code",
   "execution_count": 1,
   "metadata": {},
   "outputs": [],
   "source": [
    "class Node:\n",
    "    \"\"\" To create the object as a new node for the linked list\n",
    "    \"\"\"\n",
    "    def __init__(self, data):\n",
    "        self.data = data\n",
    "        self.next = None"
   ]
  },
  {
   "cell_type": "code",
   "execution_count": 2,
   "metadata": {},
   "outputs": [],
   "source": [
    "class LinkedList:\n",
    "    \"\"\" To create the linked list object and methods to perform the operation on it\n",
    "    \"\"\"\n",
    "    def __init__(self):\n",
    "        self.head = None\n",
    "        \n",
    "    def insertAtEnd(self, value):\n",
    "        newNode = Node(value)\n",
    "        \n",
    "        if self.head is None:\n",
    "            self.head = newNode\n",
    "            return \n",
    "        \n",
    "        lastNode = self.head\n",
    "        while lastNode.next:\n",
    "            lastNode = lastNode.next\n",
    "        \n",
    "        lastNode.next = newNode\n",
    "    \n",
    "    def getSize(self):\n",
    "        cur = self.head\n",
    "        count = 0\n",
    "        while cur:\n",
    "            cur = cur.next\n",
    "            count += 1\n",
    "        return count\n",
    "        \n",
    "    def findMiddle_1(self):\n",
    "        size = self.getSize()\n",
    "        \n",
    "        assert(size > 0),\"Linked List doesn't have Node....\"\n",
    "        \n",
    "        middle = size//2\n",
    "        cur = self.head\n",
    "\n",
    "        while middle:\n",
    "            cur = cur.next\n",
    "            middle -= 1\n",
    "\n",
    "        return cur\n",
    "        \n",
    "    def findMiddle_2(self):\n",
    "        # ref1 will move by one step and ref2 will move by two steps\n",
    "        \n",
    "        assert(self.head),\"Linked List doesn't have Node....\" \n",
    "        \n",
    "        ref1, ref2 = self.head, self.head\n",
    "        \n",
    "        while ref2 and ref2.next:\n",
    "            ref1 = ref1.next\n",
    "            ref2 = ref2.next.next\n",
    "        \n",
    "        return ref1\n",
    "    \n",
    "    def findMiddle_3(self):\n",
    "        assert(self.head),\"Linked List doesn't have Node....\" \n",
    "        \n",
    "        count = 0\n",
    "        cur, mid = self.head, self.head\n",
    "        \n",
    "        while cur:\n",
    "            if count%2 != 0:\n",
    "                mid = mid.next\n",
    "            cur = cur.next\n",
    "            count += 1\n",
    "        \n",
    "        return mid\n",
    "\n",
    "    def printList(self):\n",
    "        temp = self.head\n",
    "        while temp:\n",
    "            print(temp.data, end=\" \")\n",
    "            temp = temp.next"
   ]
  },
  {
   "cell_type": "markdown",
   "metadata": {},
   "source": [
    "## Testing"
   ]
  },
  {
   "cell_type": "code",
   "execution_count": 3,
   "metadata": {},
   "outputs": [
    {
     "name": "stdout",
     "output_type": "stream",
     "text": [
      "10 11 13 21 33 \n",
      "Middle Element is : 13\n",
      "10 11 13 21 33 13 \n",
      "Middle Element is : 21\n"
     ]
    }
   ],
   "source": [
    "llist = LinkedList() \n",
    "llist.insertAtEnd(10)\n",
    "llist.insertAtEnd(11)\n",
    "llist.insertAtEnd(13)\n",
    "llist.insertAtEnd(21)\n",
    "llist.insertAtEnd(33)\n",
    "\n",
    "llist.printList()\n",
    "print (\"\\nMiddle Element is :\", llist.findMiddle_3().data) \n",
    "\n",
    "llist.insertAtEnd(13)\n",
    "\n",
    "llist.printList()\n",
    "print (\"\\nMiddle Element is :\", llist.findMiddle_3().data) "
   ]
  },
  {
   "cell_type": "code",
   "execution_count": null,
   "metadata": {},
   "outputs": [],
   "source": []
  },
  {
   "cell_type": "code",
   "execution_count": null,
   "metadata": {},
   "outputs": [],
   "source": []
  }
 ],
 "metadata": {
  "kernelspec": {
   "display_name": "Python 3",
   "language": "python",
   "name": "python3"
  },
  "language_info": {
   "codemirror_mode": {
    "name": "ipython",
    "version": 3
   },
   "file_extension": ".py",
   "mimetype": "text/x-python",
   "name": "python",
   "nbconvert_exporter": "python",
   "pygments_lexer": "ipython3",
   "version": "3.6.4"
  }
 },
 "nbformat": 4,
 "nbformat_minor": 2
}
