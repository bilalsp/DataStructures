{
 "cells": [
  {
   "cell_type": "markdown",
   "metadata": {},
   "source": [
    "# <HR> Compute the loop length in Cyclic Linked List <HR>\n",
    "    Create a linked list and design a methods to compute the loop length"
   ]
  },
  {
   "cell_type": "code",
   "execution_count": 1,
   "metadata": {},
   "outputs": [],
   "source": [
    "class Node:\n",
    "    \"\"\" To create the object as a new node for the linked list\n",
    "    \"\"\"\n",
    "    def __init__(self, data):\n",
    "        self.data = data\n",
    "        self.next = None"
   ]
  },
  {
   "cell_type": "code",
   "execution_count": 2,
   "metadata": {},
   "outputs": [],
   "source": [
    "class LinkedList:\n",
    "    \"\"\" To create the linked list object and methods to perform the operation on it\n",
    "    \"\"\"\n",
    "    def __init__(self):\n",
    "        self.head = None\n",
    "\n",
    "    def insertAtEnd(self, value):\n",
    "        newNode = Node(value)\n",
    "        \n",
    "        if self.head is None:\n",
    "            self.head = newNode\n",
    "            return \n",
    "        \n",
    "        lastNode = self.head\n",
    "        while lastNode.next:\n",
    "            lastNode = lastNode.next\n",
    "        \n",
    "        lastNode.next = newNode\n",
    "        \n",
    "    def createCycle(self, connectToIndex):\n",
    "        cur = self.head\n",
    "        temp = None\n",
    "        count = 0\n",
    "        while cur.next:\n",
    "            if count == connectToIndex:\n",
    "                temp = cur\n",
    "            count += 1\n",
    "            cur = cur.next\n",
    "        \n",
    "        cur.next = temp\n",
    "    \n",
    "    def detectCycle(self):\n",
    "        ref1, ref2 = self.head, self.head\n",
    "        while ref2 and ref2.next:\n",
    "            ref1 = ref1.next\n",
    "            ref2 = ref2.next.next\n",
    "            if ref1 == ref2:\n",
    "                return ref1\n",
    "        return -1\n",
    "    \n",
    "    def getLoopLength(self):\n",
    "        meetingNode = self.detectCycle()\n",
    "        if meetingNode == -1:\n",
    "            return 0\n",
    "\n",
    "        cur = meetingNode.next\n",
    "        count = 1\n",
    "        while cur != meetingNode:\n",
    "            cur = cur.next\n",
    "            count += 1\n",
    "\n",
    "        return count\n",
    "        \n",
    "    def printList(self):\n",
    "        temp = self.head\n",
    "        while temp:\n",
    "            print(temp.data, end=\" \")\n",
    "            temp = temp.next"
   ]
  },
  {
   "cell_type": "markdown",
   "metadata": {},
   "source": [
    "## Testing"
   ]
  },
  {
   "cell_type": "code",
   "execution_count": 3,
   "metadata": {},
   "outputs": [
    {
     "name": "stdout",
     "output_type": "stream",
     "text": [
      "10 11 13 21 33 Loop Length:  3\n",
      "\n",
      "10 11 13 29 99 Loop Length:  0\n"
     ]
    }
   ],
   "source": [
    "llist = LinkedList() \n",
    "llist.insertAtEnd(10)\n",
    "llist.insertAtEnd(11)\n",
    "llist.insertAtEnd(13)\n",
    "llist.insertAtEnd(21)\n",
    "llist.insertAtEnd(33)\n",
    "\n",
    "llist.printList()\n",
    "llist.createCycle(2)\n",
    "response = llist.getLoopLength()\n",
    "print(\"Loop Length: \",response)\n",
    "\n",
    "llist = LinkedList() \n",
    "llist.insertAtEnd(10)\n",
    "llist.insertAtEnd(11)\n",
    "llist.insertAtEnd(13)\n",
    "llist.insertAtEnd(29)\n",
    "llist.insertAtEnd(99)\n",
    "\n",
    "print()\n",
    "llist.printList()\n",
    "response = llist.getLoopLength()\n",
    "print(\"Loop Length: \",response)\n"
   ]
  },
  {
   "cell_type": "code",
   "execution_count": null,
   "metadata": {},
   "outputs": [],
   "source": []
  }
 ],
 "metadata": {
  "kernelspec": {
   "display_name": "Python 3",
   "language": "python",
   "name": "python3"
  },
  "language_info": {
   "codemirror_mode": {
    "name": "ipython",
    "version": 3
   },
   "file_extension": ".py",
   "mimetype": "text/x-python",
   "name": "python",
   "nbconvert_exporter": "python",
   "pygments_lexer": "ipython3",
   "version": "3.6.4"
  }
 },
 "nbformat": 4,
 "nbformat_minor": 2
}
