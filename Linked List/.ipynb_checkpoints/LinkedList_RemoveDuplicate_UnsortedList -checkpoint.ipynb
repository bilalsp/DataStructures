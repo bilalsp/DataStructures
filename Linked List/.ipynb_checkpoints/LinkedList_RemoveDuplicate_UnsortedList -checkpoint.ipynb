{
 "cells": [
  {
   "cell_type": "markdown",
   "metadata": {},
   "source": [
    "# <HR> Remove duplicate element from Unsorted Linked List  <HR>\n",
    "    Create a linked list and design a methods to remove duplicate element from it."
   ]
  },
  {
   "cell_type": "code",
   "execution_count": 1,
   "metadata": {},
   "outputs": [],
   "source": [
    "class Node:\n",
    "    \"\"\" To create the object as a new node for the linked list\n",
    "    \"\"\"\n",
    "    def __init__(self, data):\n",
    "        self.data = data\n",
    "        self.next = None"
   ]
  },
  {
   "cell_type": "code",
   "execution_count": 2,
   "metadata": {},
   "outputs": [],
   "source": [
    "class LinkedList:\n",
    "    \"\"\" To create the linked list object and methods to perform the operation on it\n",
    "    \"\"\"\n",
    "    def __init__(self):\n",
    "        self.head = None\n",
    "\n",
    "    def insertAtEnd(self, value):\n",
    "        newNode = Node(value)\n",
    "        \n",
    "        if self.head is None:\n",
    "            self.head = newNode\n",
    "            return \n",
    "        \n",
    "        lastNode = self.head\n",
    "        while lastNode.next:\n",
    "            lastNode = lastNode.next\n",
    "        \n",
    "        lastNode.next = newNode\n",
    "    \n",
    "    def removeDuplicates_1(self):\n",
    "        #Using Extra Space\n",
    "        _hash = set()\n",
    "        cur = self.head\n",
    "        prev = None\n",
    "        while cur:\n",
    "            if cur.data in _hash:\n",
    "                prev.next = cur.next\n",
    "            else:\n",
    "                _hash.add(cur.data)\n",
    "                prev = cur\n",
    "            cur = cur.next\n",
    "        \n",
    "    def printList(self):\n",
    "        temp = self.head\n",
    "        while temp:\n",
    "            print(temp.data, end=\" \")\n",
    "            temp = temp.next"
   ]
  },
  {
   "cell_type": "markdown",
   "metadata": {},
   "source": [
    "## Testing"
   ]
  },
  {
   "cell_type": "code",
   "execution_count": 3,
   "metadata": {},
   "outputs": [
    {
     "name": "stdout",
     "output_type": "stream",
     "text": [
      "19 20 21 20 21 25 20 \n",
      "19 20 21 25 "
     ]
    }
   ],
   "source": [
    "llist = LinkedList() \n",
    "llist.insertAtEnd(19)\n",
    "llist.insertAtEnd(20)\n",
    "llist.insertAtEnd(21)\n",
    "llist.insertAtEnd(20)\n",
    "llist.insertAtEnd(21)\n",
    "llist.insertAtEnd(25)\n",
    "llist.insertAtEnd(20)\n",
    "\n",
    "\n",
    "llist.printList()\n",
    "llist.removeDuplicates_1()\n",
    "print()\n",
    "llist.printList()"
   ]
  },
  {
   "cell_type": "code",
   "execution_count": null,
   "metadata": {},
   "outputs": [],
   "source": []
  }
 ],
 "metadata": {
  "kernelspec": {
   "display_name": "Python 3",
   "language": "python",
   "name": "python3"
  },
  "language_info": {
   "codemirror_mode": {
    "name": "ipython",
    "version": 3
   },
   "file_extension": ".py",
   "mimetype": "text/x-python",
   "name": "python",
   "nbconvert_exporter": "python",
   "pygments_lexer": "ipython3",
   "version": "3.6.4"
  }
 },
 "nbformat": 4,
 "nbformat_minor": 2
}
