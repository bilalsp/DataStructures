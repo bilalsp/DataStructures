{
 "cells": [
  {
   "cell_type": "markdown",
   "metadata": {},
   "source": [
    "# <HR> Intersection of two Sorted Linked Lists <HR>\n",
    "    Create a linked list and design a method to find the intersection of two sorted linked lists."
   ]
  },
  {
   "cell_type": "code",
   "execution_count": 1,
   "metadata": {},
   "outputs": [],
   "source": [
    "class Node:\n",
    "    \"\"\" To create the object as a new node for the linked list\n",
    "    \"\"\"\n",
    "    def __init__(self, data):\n",
    "        self.data = data\n",
    "        self.next = None"
   ]
  },
  {
   "cell_type": "code",
   "execution_count": 2,
   "metadata": {},
   "outputs": [],
   "source": [
    "class LinkedList:\n",
    "    \"\"\" To create the linked list object and methods to perform the operation on it\n",
    "    \"\"\"\n",
    "    def __init__(self):\n",
    "        self.head = None\n",
    "\n",
    "    def insertAtEnd(self, value):\n",
    "        newNode = Node(value)\n",
    "        \n",
    "        if self.head is None:\n",
    "            self.head = newNode\n",
    "            return \n",
    "        \n",
    "        lastNode = self.head\n",
    "        while lastNode.next:\n",
    "            lastNode = lastNode.next\n",
    "        \n",
    "        lastNode.next = newNode\n",
    "        \n",
    "    def printList(self):\n",
    "        temp = self.head\n",
    "        while temp:\n",
    "            print(temp.data, end=\" \")\n",
    "            temp = temp.next\n",
    "        print()\n",
    "        \n",
    "def intersection(head1, head2):\n",
    "    #Iterative Approach\n",
    "    newList = LinkedList()\n",
    "    while head1 and head2:\n",
    "        if head1.data < head2.data:\n",
    "            head1 = head1.next\n",
    "        elif head1.data > head2.data:\n",
    "            head2 = head2.next\n",
    "        else:\n",
    "            newList.insertAtEnd(head1.data)\n",
    "            head1 = head1.next\n",
    "            head2 = head2.next\n",
    "\n",
    "    return newList    \n",
    "\n",
    "def intersection_rec(newList, head1, head2):\n",
    "    #Recursive Approach\n",
    "    if head1 and head2:\n",
    "        if head1.data < head2.data:\n",
    "            intersection_rec(newList, head1.next, head2)\n",
    "        elif head1.data > head2.data:\n",
    "            intersection_rec(newList, head1, head2.next)\n",
    "        else:\n",
    "            newList.insertAtEnd(head1.data)\n",
    "            intersection_rec(newList, head1.next, head2.next)"
   ]
  },
  {
   "cell_type": "markdown",
   "metadata": {},
   "source": [
    "## Testing"
   ]
  },
  {
   "cell_type": "code",
   "execution_count": 3,
   "metadata": {},
   "outputs": [
    {
     "name": "stdout",
     "output_type": "stream",
     "text": [
      "19 20 21 25 90 97 99 \n",
      "10 19 22 90 92 96 98 \n",
      "Iterative Approach:\n",
      "19 90 \n",
      "Recursive Approach:\n",
      "19 90 \n"
     ]
    }
   ],
   "source": [
    "llist1 = LinkedList() \n",
    "llist1.insertAtEnd(19)\n",
    "llist1.insertAtEnd(20)\n",
    "llist1.insertAtEnd(21)\n",
    "llist1.insertAtEnd(25)\n",
    "llist1.insertAtEnd(90)\n",
    "llist1.insertAtEnd(97)\n",
    "llist1.insertAtEnd(99)\n",
    "llist1.printList()\n",
    "\n",
    "llist2 = LinkedList() \n",
    "llist2.insertAtEnd(10)\n",
    "llist2.insertAtEnd(19)\n",
    "llist2.insertAtEnd(22)\n",
    "llist2.insertAtEnd(90)\n",
    "llist2.insertAtEnd(92)\n",
    "llist2.insertAtEnd(96)\n",
    "llist2.insertAtEnd(98)\n",
    "llist2.printList()\n",
    "\n",
    "\n",
    "print(\"Iterative Approach:\")\n",
    "newList = intersection(llist1.head, llist2.head)\n",
    "newList.printList()\n",
    "\n",
    "print(\"Recursive Approach:\")\n",
    "newList = LinkedList()\n",
    "intersection_rec(newList, llist1.head, llist2.head)\n",
    "newList.printList()"
   ]
  },
  {
   "cell_type": "code",
   "execution_count": null,
   "metadata": {},
   "outputs": [],
   "source": []
  },
  {
   "cell_type": "code",
   "execution_count": null,
   "metadata": {},
   "outputs": [],
   "source": []
  }
 ],
 "metadata": {
  "kernelspec": {
   "display_name": "Python 3",
   "language": "python",
   "name": "python3"
  },
  "language_info": {
   "codemirror_mode": {
    "name": "ipython",
    "version": 3
   },
   "file_extension": ".py",
   "mimetype": "text/x-python",
   "name": "python",
   "nbconvert_exporter": "python",
   "pygments_lexer": "ipython3",
   "version": "3.6.4"
  }
 },
 "nbformat": 4,
 "nbformat_minor": 2
}
