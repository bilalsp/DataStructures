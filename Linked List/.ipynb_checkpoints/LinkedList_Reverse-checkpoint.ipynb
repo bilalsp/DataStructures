{
 "cells": [
  {
   "cell_type": "markdown",
   "metadata": {},
   "source": [
    "# <HR> Reverse a linked list  <HR>\n",
    "    Create a linked list and design a methods to reverse it"
   ]
  },
  {
   "cell_type": "code",
   "execution_count": 1,
   "metadata": {},
   "outputs": [],
   "source": [
    "class Node:\n",
    "    \"\"\" To create the object as a new node for the linked list\n",
    "    \"\"\"\n",
    "    def __init__(self, data):\n",
    "        self.data = data\n",
    "        self.next = None"
   ]
  },
  {
   "cell_type": "code",
   "execution_count": 2,
   "metadata": {},
   "outputs": [],
   "source": [
    "class LinkedList:\n",
    "    \"\"\" To create the linked list object and methods to perform the operation on it\n",
    "    \"\"\"\n",
    "    def __init__(self):\n",
    "        self.head = None\n",
    "\n",
    "    def insertAtEnd(self, value):\n",
    "        newNode = Node(value)\n",
    "        \n",
    "        if self.head is None:\n",
    "            self.head = newNode\n",
    "            return \n",
    "        \n",
    "        lastNode = self.head\n",
    "        while lastNode.next:\n",
    "            lastNode = lastNode.next\n",
    "        \n",
    "        lastNode.next = newNode\n",
    "        \n",
    "    def reverse(self):\n",
    "        #Iterative Approach\n",
    "        cur = self.head\n",
    "        prev = None\n",
    "        while cur:\n",
    "            temp = cur.next\n",
    "            cur.next = prev\n",
    "            prev = cur\n",
    "            cur = temp\n",
    "        self.head = prev\n",
    "        \n",
    "    def reverse_rec_1(self, head):\n",
    "        #Recursive Approach\n",
    "        if head is None or head.next is None:\n",
    "            self.head = head\n",
    "            return \n",
    "        \n",
    "        self.reverse_rec(head.next) #First Move till the end\n",
    "        head.next.next = head\n",
    "        head.next = None\n",
    "\n",
    "    \n",
    "    def reverse_rec_2(self, head, prev):\n",
    "        #Another Recursive Approach\n",
    "        if head is None or head.next is None:\n",
    "            self.head = head\n",
    "            if head:\n",
    "                head.next = prev\n",
    "            return\n",
    "        \n",
    "        temp = head.next\n",
    "        head.next = prev\n",
    "        self.reverse_rec_2(temp, head)\n",
    "\n",
    "    def printList(self):\n",
    "        temp = self.head\n",
    "        while temp:\n",
    "            print(temp.data, end=\" \")\n",
    "            temp = temp.next\n",
    "        print()"
   ]
  },
  {
   "cell_type": "markdown",
   "metadata": {},
   "source": [
    "## Testing"
   ]
  },
  {
   "cell_type": "code",
   "execution_count": 3,
   "metadata": {},
   "outputs": [
    {
     "name": "stdout",
     "output_type": "stream",
     "text": [
      "Orignal Linked List\n",
      "19 14 21 20 21 30 20 \n",
      "Reversed Linked List\n",
      "20 30 21 20 21 14 19 \n"
     ]
    }
   ],
   "source": [
    "llist = LinkedList() \n",
    "llist.insertAtEnd(19)\n",
    "llist.insertAtEnd(14)\n",
    "llist.insertAtEnd(21)\n",
    "llist.insertAtEnd(20)\n",
    "llist.insertAtEnd(21)\n",
    "llist.insertAtEnd(30)\n",
    "llist.insertAtEnd(20)\n",
    "\n",
    "print(\"Orignal Linked List\")\n",
    "llist.printList()\n",
    "llist.reverse_rec_2(llist.head, None)\n",
    "print(\"Reversed Linked List\")\n",
    "llist.printList()"
   ]
  },
  {
   "cell_type": "code",
   "execution_count": null,
   "metadata": {},
   "outputs": [],
   "source": []
  },
  {
   "cell_type": "code",
   "execution_count": null,
   "metadata": {},
   "outputs": [],
   "source": []
  }
 ],
 "metadata": {
  "kernelspec": {
   "display_name": "Python 3",
   "language": "python",
   "name": "python3"
  },
  "language_info": {
   "codemirror_mode": {
    "name": "ipython",
    "version": 3
   },
   "file_extension": ".py",
   "mimetype": "text/x-python",
   "name": "python",
   "nbconvert_exporter": "python",
   "pygments_lexer": "ipython3",
   "version": "3.6.4"
  }
 },
 "nbformat": 4,
 "nbformat_minor": 2
}
