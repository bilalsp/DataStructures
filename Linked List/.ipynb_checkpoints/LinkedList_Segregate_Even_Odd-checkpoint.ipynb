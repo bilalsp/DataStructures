{
 "cells": [
  {
   "cell_type": "markdown",
   "metadata": {},
   "source": [
    "# <HR> Segregate even and odd nodes in a Linked List  <HR>\n",
    "    Create a linked list and design a methods to Segregate even and odd nodes in it"
   ]
  },
  {
   "cell_type": "code",
   "execution_count": 1,
   "metadata": {},
   "outputs": [],
   "source": [
    "class Node:\n",
    "    \"\"\" To create the object as a new node for the linked list\n",
    "    \"\"\"\n",
    "    def __init__(self, data):\n",
    "        self.data = data\n",
    "        self.next = None"
   ]
  },
  {
   "cell_type": "code",
   "execution_count": 2,
   "metadata": {},
   "outputs": [],
   "source": [
    "class LinkedList:\n",
    "    \"\"\" To create the linked list object and methods to perform the operation on it\n",
    "    \"\"\"\n",
    "    def __init__(self):\n",
    "        self.head = None\n",
    "\n",
    "    def insertAtEnd(self, value):\n",
    "        newNode = Node(value)\n",
    "        \n",
    "        if self.head is None:\n",
    "            self.head = newNode\n",
    "            return \n",
    "        \n",
    "        lastNode = self.head\n",
    "        while lastNode.next:\n",
    "            lastNode = lastNode.next;\n",
    "        \n",
    "        lastNode.next = newNode\n",
    "        \n",
    "    def segregate(self):\n",
    "        \n",
    "        cur = self.head\n",
    "        while cur.next:\n",
    "            cur = cur.next\n",
    "        end_node = cur\n",
    "        \n",
    "        last = cur\n",
    "        cur = self.head\n",
    "        prev = None\n",
    "    \n",
    "        while cur != end_node:\n",
    "            temp = cur.next\n",
    "            if cur.data%2 != 0: \n",
    "                if prev:\n",
    "                    prev.next = cur.next\n",
    "                else:\n",
    "                    self.head = cur.next\n",
    "                last.next = cur\n",
    "                cur.next = None\n",
    "                last = cur\n",
    "            else:\n",
    "                prev = cur\n",
    "            cur = temp\n",
    "            \n",
    "        if end_node.data%2 !=0:\n",
    "            if prev:\n",
    "                prev.next = cur.next\n",
    "            else:\n",
    "                self.head = cur.next\n",
    "            last.next = cur\n",
    "            cur.next = None\n",
    "            if last == end_node:\n",
    "                prev.next = last\n",
    "                \n",
    "    def segregate_2(self):\n",
    "        even_head, even_tail, odd_head, odd_tail = None, None, None, None\n",
    "        cur = self.head\n",
    "        \n",
    "        while cur:\n",
    "            temp = cur.next\n",
    "            if cur.data%2 == 0:\n",
    "                if even_head is None:\n",
    "                    even_head, even_tail = cur, cur\n",
    "                else:\n",
    "                    even_tail.next, even_tail = cur, cur\n",
    "                even_tail.next = None\n",
    "            else:\n",
    "                if odd_head is None:\n",
    "                    odd_head, odd_tail = cur, cur\n",
    "                else:\n",
    "                    odd_tail.next, odd_tail = cur, cur\n",
    "                odd_tail.next = None\n",
    "            cur = temp\n",
    "            \n",
    "        even_tail.next = odd_head\n",
    "        self.head = even_head\n",
    "        \n",
    "    def segregate_rec(self, head, even, odd, odd_Head):\n",
    "        if head is None:\n",
    "            even.next = odd_Head.next\n",
    "            odd.next = None\n",
    "            return \n",
    "  \n",
    "        if head.data&1:\n",
    "            odd.next = head\n",
    "            self.segregate_rec(head.next, even, head, odd_Head)\n",
    "        else:\n",
    "            even.next = head\n",
    "            self.segregate_rec(head.next, head, odd, odd_Head)\n",
    "            \n",
    "    \n",
    "    def segregate_3(self, head):\n",
    "        #Recursive Approach\n",
    "        even = Node(0)\n",
    "        odd = Node(0)\n",
    "        self.segregate_rec(head, even, odd, odd)\n",
    "        self.head = even.next\n",
    "\n",
    "    def printList(self):\n",
    "        temp = self.head\n",
    "        while temp:\n",
    "            print(temp.data, end=\" \")\n",
    "            temp = temp.next\n",
    "        print()"
   ]
  },
  {
   "cell_type": "markdown",
   "metadata": {},
   "source": [
    "## Testing"
   ]
  },
  {
   "cell_type": "code",
   "execution_count": 3,
   "metadata": {},
   "outputs": [
    {
     "name": "stdout",
     "output_type": "stream",
     "text": [
      "Orignal Linked List\n",
      "19 14 20 20 23 30 20 \n",
      "Segregated Linked List\n",
      "14 20 20 30 20 19 23 \n"
     ]
    }
   ],
   "source": [
    "llist = LinkedList() \n",
    "llist.insertAtEnd(19)\n",
    "llist.insertAtEnd(14)\n",
    "llist.insertAtEnd(20)\n",
    "llist.insertAtEnd(20)\n",
    "llist.insertAtEnd(23)\n",
    "llist.insertAtEnd(30)\n",
    "llist.insertAtEnd(20)\n",
    "\n",
    "print(\"Orignal Linked List\")\n",
    "llist.printList()\n",
    "llist.segregate_3(llist.head)\n",
    "print(\"Segregated Linked List\")\n",
    "llist.printList()"
   ]
  },
  {
   "cell_type": "code",
   "execution_count": null,
   "metadata": {},
   "outputs": [],
   "source": []
  },
  {
   "cell_type": "code",
   "execution_count": null,
   "metadata": {},
   "outputs": [],
   "source": []
  }
 ],
 "metadata": {
  "kernelspec": {
   "display_name": "Python 3",
   "language": "python",
   "name": "python3"
  },
  "language_info": {
   "codemirror_mode": {
    "name": "ipython",
    "version": 3
   },
   "file_extension": ".py",
   "mimetype": "text/x-python",
   "name": "python",
   "nbconvert_exporter": "python",
   "pygments_lexer": "ipython3",
   "version": "3.6.4"
  }
 },
 "nbformat": 4,
 "nbformat_minor": 2
}
