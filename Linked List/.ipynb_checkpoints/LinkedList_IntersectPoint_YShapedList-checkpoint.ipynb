{
 "cells": [
  {
   "cell_type": "markdown",
   "metadata": {},
   "source": [
    "# <HR> Intersection Point in Y Shapped Linked Lists  <HR>\n",
    "    Create a linked list and design a method to find the intersection point in Y Shapped Linked Lists "
   ]
  },
  {
   "cell_type": "code",
   "execution_count": 1,
   "metadata": {},
   "outputs": [],
   "source": [
    "class Node:\n",
    "    \"\"\" To create the object as a new node for the linked list\n",
    "    \"\"\"\n",
    "    def __init__(self, data):\n",
    "        self.data = data\n",
    "        self.next = None"
   ]
  },
  {
   "cell_type": "code",
   "execution_count": 2,
   "metadata": {},
   "outputs": [],
   "source": [
    "class LinkedList:\n",
    "    \"\"\" To create the linked list object and methods to perform the operation on it\n",
    "    \"\"\"\n",
    "    def __init__(self):\n",
    "        self.head = None\n",
    "\n",
    "    def insertAtEnd(self, value):\n",
    "        newNode = Node(value)\n",
    "        \n",
    "        if self.head is None:\n",
    "            self.head = newNode\n",
    "            return \n",
    "        \n",
    "        lastNode = self.head\n",
    "        while lastNode.next:\n",
    "            lastNode = lastNode.next\n",
    "        \n",
    "        lastNode.next = newNode\n",
    "    \n",
    "    def getCount(self):\n",
    "        count = 0\n",
    "        cur = self.head\n",
    "        while cur:\n",
    "            count += 1\n",
    "            cur = cur.next\n",
    "        return count\n",
    "        \n",
    "    def printList(self):\n",
    "        temp = self.head\n",
    "        while temp:\n",
    "            print(temp.data, end=\" \")\n",
    "            temp = temp.next\n",
    "        print()\n",
    "\n",
    "\n",
    "def create_YShaped_LinkedList(head_x, head_y, head_z):\n",
    "    \n",
    "    tail_x, tail_y = None, None\n",
    "    \n",
    "    while head_x:\n",
    "        tail_x = head_x\n",
    "        head_x = head_x.next\n",
    "    \n",
    "    while head_y:\n",
    "        tail_y = head_y\n",
    "        head_y = head_y.next\n",
    "    \n",
    "    tail_x.next = head_z\n",
    "    tail_y.next = head_z\n",
    "\n",
    "def intersectPoint_1(llist_x, llist_y):\n",
    "    _hash = set()\n",
    "    head_x, head_y = llist_x.head, llist_y.head\n",
    "    \n",
    "    while head_x:\n",
    "        _hash.add(head_x)\n",
    "        head_x = head_x.next\n",
    "    \n",
    "    while head_y:\n",
    "        if head_y in _hash:\n",
    "            return head_y\n",
    "        head_y = head_y.next\n",
    "    \n",
    "    return -1\n",
    "\n",
    "def intersectPoint_2(llist_x, llist_y):\n",
    "    \n",
    "    n1, n2 = llist_x.getCount(), llist_y.getCount()\n",
    "    head_x, head_y = llist_x.head, llist_y.head\n",
    "    \n",
    "    diff = abs(n1 - n2)\n",
    "    while diff:\n",
    "        if n1 > n2:\n",
    "            head_x = head_x.next\n",
    "        else:\n",
    "            head_y = head_y.next\n",
    "        diff -= 1\n",
    "    \n",
    "    while head_x and head_y:\n",
    "        if head_x == head_y:\n",
    "            return head_x\n",
    "        head_x = head_x.next\n",
    "        head_y = head_y.next\n",
    "    \n",
    "    return -1"
   ]
  },
  {
   "cell_type": "markdown",
   "metadata": {},
   "source": [
    "## Testing"
   ]
  },
  {
   "cell_type": "code",
   "execution_count": 3,
   "metadata": {},
   "outputs": [
    {
     "name": "stdout",
     "output_type": "stream",
     "text": [
      "Linked List: X\n",
      "10 20 19 18 \n",
      "Linked List: Y\n",
      "10 20 19 18 \n",
      "Linked List: Z\n",
      "30 34 38 36 39 \n",
      "Y Shaped Linked List:\n",
      "10 20 19 18 30 34 38 36 39 \n",
      "21 25 26 22 30 34 38 36 39 \n",
      "Intersect Node:\n",
      "30\n"
     ]
    }
   ],
   "source": [
    "llist_x = LinkedList() \n",
    "llist_x.insertAtEnd(10)\n",
    "llist_x.insertAtEnd(20)\n",
    "llist_x.insertAtEnd(19)\n",
    "llist_x.insertAtEnd(18)\n",
    "print(\"Linked List: X\")\n",
    "llist_x.printList()\n",
    "\n",
    "llist_y = LinkedList() \n",
    "llist_y.insertAtEnd(21)\n",
    "llist_y.insertAtEnd(25)\n",
    "llist_y.insertAtEnd(26)\n",
    "llist_y.insertAtEnd(22)\n",
    "print(\"Linked List: Y\")\n",
    "llist_x.printList()\n",
    "\n",
    "llist_z = LinkedList() \n",
    "llist_z.insertAtEnd(30)\n",
    "llist_z.insertAtEnd(34)\n",
    "llist_z.insertAtEnd(38)\n",
    "llist_z.insertAtEnd(36)\n",
    "llist_z.insertAtEnd(39)\n",
    "print(\"Linked List: Z\")\n",
    "llist_z.printList()\n",
    "\n",
    "create_YShaped_LinkedList(llist_x.head, llist_y.head, llist_z.head)\n",
    "\n",
    "print(\"Y Shaped Linked List:\")\n",
    "llist_x.printList()\n",
    "llist_y.printList()\n",
    "\n",
    "intersect_node = intersectPoint_1(llist_x, llist_y)\n",
    "print(\"Intersect Node:\")\n",
    "print(intersect_node.data)"
   ]
  },
  {
   "cell_type": "code",
   "execution_count": null,
   "metadata": {},
   "outputs": [],
   "source": []
  },
  {
   "cell_type": "code",
   "execution_count": null,
   "metadata": {},
   "outputs": [],
   "source": []
  },
  {
   "cell_type": "code",
   "execution_count": null,
   "metadata": {},
   "outputs": [],
   "source": []
  }
 ],
 "metadata": {
  "kernelspec": {
   "display_name": "Python 3",
   "language": "python",
   "name": "python3"
  },
  "language_info": {
   "codemirror_mode": {
    "name": "ipython",
    "version": 3
   },
   "file_extension": ".py",
   "mimetype": "text/x-python",
   "name": "python",
   "nbconvert_exporter": "python",
   "pygments_lexer": "ipython3",
   "version": "3.6.4"
  }
 },
 "nbformat": 4,
 "nbformat_minor": 2
}
