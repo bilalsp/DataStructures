{
 "cells": [
  {
   "cell_type": "markdown",
   "metadata": {},
   "source": [
    "## <Center> <HR> <font color=\"blue\"> Minimum swaps required to bring all elements less than or equal to k together </font> <HR> </Center>\n",
    "   \n",
    "   Let S: $(a_1, a_2, ..., a_n)$ be the sequence of numbers and $k \\in Z$. Rearrange the sequence such that\n",
    "   $$ x <= k \\hspace{2mm} \\forall x \\in S_{1} \\text{ where } S_{1} \\subseteq S $$ \n",
    "   Compute minimum swaps required for the above rearrangement."
   ]
  },
  {
   "cell_type": "markdown",
   "metadata": {},
   "source": [
    "## 1. Naive Approach based on Subarray\n",
    "    Time complexity : O(n^2) || Auxiliary Space : O(1)"
   ]
  },
  {
   "cell_type": "code",
   "execution_count": 1,
   "metadata": {},
   "outputs": [],
   "source": [
    "def findMinimumSwaps_1(arr, n, k):\n",
    "    \n",
    "    size_S1 = 0\n",
    "    for i in range(n):\n",
    "        if arr[i] <= k:\n",
    "            size_S1 += 1\n",
    "            \n",
    "    max_number_of_element_lessThan_k = 0\n",
    "    for i in range(0, n - size_S1 + 1):  #Generate all SubArray of size_S1\n",
    "        count = 0\n",
    "        for j in range(i, i + size_S1):  \n",
    "            if arr[j] <= k:\n",
    "                count += 1\n",
    "        max_number_of_element_lessThan_k = max(max_number_of_element_lessThan_k, count)\n",
    "    \n",
    "    return size_S1 - max_number_of_element_lessThan_k"
   ]
  },
  {
   "cell_type": "markdown",
   "metadata": {},
   "source": [
    "## 2. Using Sliding Window Concept\n",
    "    Time complexity : O(n) || Auxiliary Space : O(1)"
   ]
  },
  {
   "cell_type": "code",
   "execution_count": 2,
   "metadata": {},
   "outputs": [],
   "source": [
    "def findMinimumSwaps_2(arr, n, k):\n",
    "    \n",
    "    size_S1 = 0\n",
    "    for i in range(n):  #Computer the size of window\n",
    "        if arr[i] <= k:\n",
    "            size_S1 += 1\n",
    "\n",
    "    max_number_of_element_lessThan_k = 0 \n",
    "    for i in range(size_S1):     #First Window \n",
    "        if arr[i] <= k:\n",
    "            max_number_of_element_lessThan_k += 1\n",
    "    \n",
    "    left, right = 1, size_S1   #Index of Second Window \n",
    "    cur_count = max_number_of_element_lessThan_k\n",
    "    while right < n:   #Proceed rest of the windows\n",
    "        if arr[left - 1] <=k:\n",
    "            cur_count -= 1\n",
    "        if arr[right] <=k:\n",
    "            cur_count += 1\n",
    "        max_number_of_element_lessThan_k = max(max_number_of_element_lessThan_k, cur_count)\n",
    "        \n",
    "        left += 1\n",
    "        right += 1\n",
    "        \n",
    "    return size_S1 - max_number_of_element_lessThan_k"
   ]
  },
  {
   "cell_type": "markdown",
   "metadata": {},
   "source": [
    "## Testing"
   ]
  },
  {
   "cell_type": "code",
   "execution_count": 60,
   "metadata": {},
   "outputs": [
    {
     "name": "stdout",
     "output_type": "stream",
     "text": [
      "7\n",
      "2 7 9 5 8 7 4\n",
      "5\n",
      "2\n"
     ]
    }
   ],
   "source": [
    "n = int(input())\n",
    "arr = list(map(int, input().strip().split()))\n",
    "k = int(input())\n",
    "count = findMinimumSwaps_2(arr, n, k)\n",
    "print(count)"
   ]
  },
  {
   "cell_type": "raw",
   "metadata": {},
   "source": [
    "Expected Input:\n",
    "    7\n",
    "    2 7 9 5 8 7 4\n",
    "    5\n",
    "Expected Output:\n",
    "    2"
   ]
  },
  {
   "cell_type": "markdown",
   "metadata": {},
   "source": [
    "## Comparison of Different Approaches"
   ]
  },
  {
   "cell_type": "code",
   "execution_count": 14,
   "metadata": {},
   "outputs": [
    {
     "data": {
      "image/png": "[encoded data removed]",
      "text/plain": [
       "<Figure size 432x288 with 1 Axes>"
      ]
     },
     "metadata": {},
     "output_type": "display_data"
    }
   ],
   "source": [
    "import numpy as np\n",
    "import random\n",
    "import time\n",
    "import matplotlib.pyplot as plt \n",
    "%matplotlib inline\n",
    "\n",
    "\n",
    "n_execution = 25\n",
    "k_list = np.random.randint(100, 1000, n_execution)\n",
    "arr_list = [np.concatenate([np.random.randint(k_list[i-1], 10000, 8000*i),[np.random.randint(0,k_list[i-1])]]) for i in range(1,n_execution+1)]\n",
    "\n",
    "for fun in [\"findMinimumSwaps_1\", \"findMinimumSwaps_2\"]:\n",
    "    \n",
    "    times, arr_size = [], []\n",
    "    for arr, k in zip(arr_list, k_list):\n",
    "        random.shuffle(arr)\n",
    "        n = len(arr)\n",
    "        \n",
    "        s = time.time()\n",
    "        eval(fun)(arr, n, k)\n",
    "        e = time.time()\n",
    "        \n",
    "        times.append(e-s)\n",
    "        arr_size.append(n)\n",
    "        \n",
    "    plt.plot(arr_size, times, label = fun) \n",
    "    \n",
    "plt.xlabel('Sequence Size') \n",
    "plt.ylabel('Run Time') \n",
    "plt.grid() \n",
    "plt.legend()\n",
    "plt.show() "
   ]
  },
  {
   "cell_type": "code",
   "execution_count": null,
   "metadata": {},
   "outputs": [],
   "source": []
  },
  {
   "cell_type": "code",
   "execution_count": null,
   "metadata": {},
   "outputs": [],
   "source": []
  }
 ],
 "metadata": {
  "kernelspec": {
   "display_name": "Python 3",
   "language": "python",
   "name": "python3"
  },
  "language_info": {
   "codemirror_mode": {
    "name": "ipython",
    "version": 3
   },
   "file_extension": ".py",
   "mimetype": "text/x-python",
   "name": "python",
   "nbconvert_exporter": "python",
   "pygments_lexer": "ipython3",
   "version": "3.6.4"
  }
 },
 "nbformat": 4,
 "nbformat_minor": 2
}
