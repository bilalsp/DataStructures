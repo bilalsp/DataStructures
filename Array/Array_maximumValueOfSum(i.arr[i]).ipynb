{
 "cells": [
  {
   "cell_type": "markdown",
   "metadata": {},
   "source": [
    "# <Center> <HR> <font color=\"blue\"> Maximum value of Sum(i*arr[i]) among all rotations of a given array </font> <HR> </Center>"
   ]
  },
  {
   "cell_type": "markdown",
   "metadata": {},
   "source": [
    "## 1. Using Naive approach\n",
    "    Time complexity : O(n^2) || Auxiliary Space : O(1)"
   ]
  },
  {
   "cell_type": "code",
   "execution_count": 1,
   "metadata": {},
   "outputs": [],
   "source": [
    "import sys\n",
    "def maxSum_1(arr, n):\n",
    "    max_sum = -sys.maxsize \n",
    "    for i in range(n):\n",
    "        arr_sum = 0\n",
    "        for j in range(n):\n",
    "            arr_sum += j*arr[(i+j)%n]\n",
    "        if max_sum < arr_sum:\n",
    "            max_sum = arr_sum\n",
    "    return max_sum"
   ]
  },
  {
   "cell_type": "markdown",
   "metadata": {},
   "source": [
    "# 2. Using Mathematical approach\n",
    "    Time complexity : O(n) || Auxiliary Space : O(1)"
   ]
  },
  {
   "cell_type": "code",
   "execution_count": 2,
   "metadata": {},
   "outputs": [],
   "source": [
    "def maxSum_2(arr, n):\n",
    "    prev_rotation_sum = 0\n",
    "    arr_sum = sum(arr)\n",
    "    for i in range(n):\n",
    "        prev_rotation_sum += i*arr[i]\n",
    "        \n",
    "    max_sum = prev_rotation_sum\n",
    "\n",
    "    for i in range(1,n):\n",
    "        cur_rotation_sum = prev_rotation_sum +arr_sum - n*arr[n-i]\n",
    "        max_sum = max(max_sum, cur_rotation_sum)\n",
    "        prev_rotation_sum = cur_rotation_sum\n",
    "    return max_sum"
   ]
  },
  {
   "cell_type": "markdown",
   "metadata": {},
   "source": [
    "## 3. Using pivot approach\n",
    "    Time complexity : O(n) || Auxiliary Space : O(1)"
   ]
  },
  {
   "cell_type": "code",
   "execution_count": 3,
   "metadata": {},
   "outputs": [],
   "source": [
    "# This approach can be used only when given array is sorted or sorted and rotated.\n",
    "def findPivot(arr, n):\n",
    "    if n==1:\n",
    "        return 0\n",
    "    for i in range(n):\n",
    "        if arr[i] > arr[(i+1)%n]:\n",
    "            return i\n",
    "    \n",
    "def maxSum_3(arr, n):\n",
    "    pivot = findPivot(arr, n)\n",
    "    max_sum = 0\n",
    "    for i in range(n):\n",
    "        max_sum += i*arr[(pivot+1+i)%n]\n",
    "    return max_sum"
   ]
  },
  {
   "cell_type": "code",
   "execution_count": 4,
   "metadata": {},
   "outputs": [
    {
     "name": "stdout",
     "output_type": "stream",
     "text": [
      "10\n",
      "10 1 2 3 4 5 6 7 8 9\n",
      "330\n"
     ]
    }
   ],
   "source": [
    "n = int(input().strip())\n",
    "arr = list(map(int, input().strip().split()))\n",
    "result = maxSum_3(arr, n)\n",
    "print(result)"
   ]
  },
  {
   "cell_type": "raw",
   "metadata": {},
   "source": [
    "Input: \n",
    "10\n",
    "10 1 2 3 4 5 6 7 8 9\n",
    "Output: 330"
   ]
  },
  {
   "cell_type": "code",
   "execution_count": null,
   "metadata": {},
   "outputs": [],
   "source": []
  }
 ],
 "metadata": {
  "kernelspec": {
   "display_name": "Python 3",
   "language": "python",
   "name": "python3"
  },
  "language_info": {
   "codemirror_mode": {
    "name": "ipython",
    "version": 3
   },
   "file_extension": ".py",
   "mimetype": "text/x-python",
   "name": "python",
   "nbconvert_exporter": "python",
   "pygments_lexer": "ipython3",
   "version": "3.6.4"
  }
 },
 "nbformat": 4,
 "nbformat_minor": 2
}
