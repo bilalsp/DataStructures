{
 "cells": [
  {
   "cell_type": "code",
   "execution_count": null,
   "metadata": {},
   "outputs": [],
   "source": []
  },
  {
   "cell_type": "code",
   "execution_count": null,
   "metadata": {},
   "outputs": [],
   "source": []
  },
  {
   "cell_type": "code",
   "execution_count": null,
   "metadata": {},
   "outputs": [],
   "source": [
    "#code\n",
    "\n",
    "\n",
    "def rearrange(arr, n):\n",
    "    \n",
    "    pos, neg = [], []\n",
    "    for i in range(n):\n",
    "        if arr[i] < 0:\n",
    "            neg.append(arr[i])\n",
    "        else:\n",
    "            pos.append(arr[i])\n",
    "    \n",
    "    print(pos,neg)\n",
    "    diff = abs(len(pos) - len(neg))\n",
    "    equal = len(pos) - diff if len(pos) >= len(neg) else len(neg) - diff\n",
    "    \n",
    "    s = 0\n",
    "    print(equal)\n",
    "    for i in range(equal):\n",
    "        arr[s], arr[s+1] = pos[i], neg[i]\n",
    "        s += 2\n",
    "        \n",
    "    if len(pos) > len(neg):\n",
    "        arr[2*equal:] = pos[len(neg):]\n",
    "    else:\n",
    "        arr[2*equal:] = neg[len(pos):]\n",
    "    \n",
    "\n",
    "\n",
    "for _ in range(int(input())):\n",
    "    \n",
    "    n = int(input())\n",
    "    arr = list(map(int, input().strip().split()))\n",
    "    \n",
    "    rearrange(arr, n)\n",
    "    \n",
    "    print(*arr)\n"
   ]
  }
 ],
 "metadata": {
  "kernelspec": {
   "display_name": "Python 3",
   "language": "python",
   "name": "python3"
  },
  "language_info": {
   "codemirror_mode": {
    "name": "ipython",
    "version": 3
   },
   "file_extension": ".py",
   "mimetype": "text/x-python",
   "name": "python",
   "nbconvert_exporter": "python",
   "pygments_lexer": "ipython3",
   "version": "3.6.4"
  }
 },
 "nbformat": 4,
 "nbformat_minor": 2
}
