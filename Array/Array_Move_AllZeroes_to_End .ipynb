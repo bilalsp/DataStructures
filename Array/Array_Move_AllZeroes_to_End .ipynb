{
 "cells": [
  {
   "cell_type": "markdown",
   "metadata": {},
   "source": [
    "# <Center> <HR> <font color=\"blue\"> Move all zeroes to end of array </font> <HR> </Center>\n",
    "   \n",
    "   Let S: $(a_1, a_2, ..., a_n)$ be the sequence of numbers. Rearrange the sequence such that\n",
    "   $$|\\text{ All zero elements in the sequence should be at the end }|$$ "
   ]
  },
  {
   "cell_type": "markdown",
   "metadata": {},
   "source": [
    "## 1. Naive approach\n",
    "    Time complexity : O(n^2) || Auxiliary Space : O(1)"
   ]
  },
  {
   "cell_type": "code",
   "execution_count": 31,
   "metadata": {},
   "outputs": [],
   "source": [
    "def move_1(arr, n):\n",
    "    for i in range(n):\n",
    "        if arr[i] == 0:\n",
    "            arr.pop(i)\n",
    "            arr.append(0)"
   ]
  },
  {
   "cell_type": "markdown",
   "metadata": {},
   "source": [
    "## 2. Using Extra Space\n",
    "    Time complexity : O(n) || Auxiliary Space : O(n)"
   ]
  },
  {
   "cell_type": "code",
   "execution_count": 32,
   "metadata": {},
   "outputs": [],
   "source": [
    "def move_2(arr, n):\n",
    "    \n",
    "    temp = arr[:]\n",
    "    \n",
    "    zero_count, j = 0, 0\n",
    "    for i in range(n):\n",
    "        if temp[i] != 0:\n",
    "            arr[j] = temp[i]\n",
    "            j += 1\n",
    "        else:\n",
    "            zero_count += 1\n",
    "        \n",
    "    arr[j:] = zero_count*[0]"
   ]
  },
  {
   "cell_type": "markdown",
   "metadata": {},
   "source": [
    "# 3. Using without Extra Space\n",
    "    Time complexity : O(n) || Auxiliary Space : O(1)"
   ]
  },
  {
   "cell_type": "code",
   "execution_count": 33,
   "metadata": {},
   "outputs": [],
   "source": [
    "def move_3(arr, n):\n",
    "    \n",
    "    nonZero_index = 0\n",
    "    for i in range(n):\n",
    "        if arr[i] != 0:\n",
    "            arr[nonZero_index] = arr[i]\n",
    "            nonZero_index += 1\n",
    "    \n",
    "    for i in range(nonZero_index, n):\n",
    "        arr[i] = 0"
   ]
  },
  {
   "cell_type": "markdown",
   "metadata": {},
   "source": [
    "## 4. Using single traverse\n",
    "    Time complexity : O(n) || Auxiliary Space : O(1)"
   ]
  },
  {
   "cell_type": "code",
   "execution_count": 34,
   "metadata": {},
   "outputs": [],
   "source": [
    "def move_4(arr, n):\n",
    "    \n",
    "    nonZero_index = 0\n",
    "    for i in range(n):\n",
    "        if arr[i] != 0:\n",
    "            arr[nonZero_index], arr[i] = arr[i], arr[nonZero_index] #Swap\n",
    "            nonZero_index += 1"
   ]
  },
  {
   "cell_type": "markdown",
   "metadata": {},
   "source": [
    "## Testing"
   ]
  },
  {
   "cell_type": "code",
   "execution_count": 14,
   "metadata": {},
   "outputs": [
    {
     "name": "stdout",
     "output_type": "stream",
     "text": [
      "7\n",
      "1 2 0 0 0 3 6\n",
      "1 2 3 6 0 0 0\n"
     ]
    }
   ],
   "source": [
    "n = int(input())\n",
    "arr = list(map(int, input().split()))\n",
    "move_3(arr, n)\n",
    "print(*arr)"
   ]
  },
  {
   "cell_type": "code",
   "execution_count": null,
   "metadata": {},
   "outputs": [],
   "source": [
    "Expected Input:\n",
    "    7\n",
    "    1 2 0 0 0 3 6\n",
    "Expected Ouput:\n",
    "    1 2 3 6 0 0 0"
   ]
  },
  {
   "cell_type": "markdown",
   "metadata": {},
   "source": [
    "## Comparison of Different Approaches"
   ]
  },
  {
   "cell_type": "code",
   "execution_count": 52,
   "metadata": {},
   "outputs": [
    {
     "data": {
      "image/png": "[encoded data removed]",
      "text/plain": [
       "<Figure size 432x288 with 1 Axes>"
      ]
     },
     "metadata": {},
     "output_type": "display_data"
    }
   ],
   "source": [
    "import numpy as np\n",
    "import random\n",
    "import time\n",
    "import matplotlib.pyplot as plt \n",
    "%matplotlib inline\n",
    "\n",
    "\n",
    "for fun in [\"move_1\", \"move_2\", \"move_3\", \"move_4\"]:\n",
    "    \n",
    "    times, arr_size = [], []\n",
    "    for n_execution in range(1,21):\n",
    "        \n",
    "        arr = list(range(0,1000*n_execution))\n",
    "        arr.extend(1000*n_execution*[0])\n",
    "        random.shuffle(arr)\n",
    "        n = len(arr)\n",
    "        \n",
    "        s = time.time()\n",
    "        eval(fun)(arr, n)\n",
    "        e = time.time()\n",
    "        \n",
    "        times.append(e-s)\n",
    "        arr_size.append(n)\n",
    "        \n",
    "    plt.plot(arr_size, times, label = fun) \n",
    "\n",
    "\n",
    "plt.xlabel('Sequence Size') \n",
    "plt.ylabel('Run Time') \n",
    "plt.grid() \n",
    "plt.legend()\n",
    "plt.show() "
   ]
  },
  {
   "cell_type": "code",
   "execution_count": null,
   "metadata": {},
   "outputs": [],
   "source": []
  },
  {
   "cell_type": "code",
   "execution_count": null,
   "metadata": {},
   "outputs": [],
   "source": []
  }
 ],
 "metadata": {
  "kernelspec": {
   "display_name": "Python 3",
   "language": "python",
   "name": "python3"
  },
  "language_info": {
   "codemirror_mode": {
    "name": "ipython",
    "version": 3
   },
   "file_extension": ".py",
   "mimetype": "text/x-python",
   "name": "python",
   "nbconvert_exporter": "python",
   "pygments_lexer": "ipython3",
   "version": "3.6.4"
  }
 },
 "nbformat": 4,
 "nbformat_minor": 2
}
