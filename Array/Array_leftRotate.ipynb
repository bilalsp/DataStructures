{
 "cells": [
  {
   "cell_type": "markdown",
   "metadata": {},
   "source": [
    "# <Center> <HR> <font color=\"blue\"> Rotate the Array to Left </font> <HR> </Center>"
   ]
  },
  {
   "cell_type": "markdown",
   "metadata": {},
   "source": [
    "## 1. Using Extra Space\n",
    "    Time complexity : O(n) || Auxiliary Space : O(n)"
   ]
  },
  {
   "cell_type": "code",
   "execution_count": 6,
   "metadata": {},
   "outputs": [],
   "source": [
    "def leftRotate_1(arr, d, n):\n",
    "    d = d % n\n",
    "    arr[:] = arr[d : n] + arr[0 : d]"
   ]
  },
  {
   "cell_type": "markdown",
   "metadata": {},
   "source": [
    "## 2. Rotate one by one\n",
    "    Time complexity : O(n*d) || Auxiliary Space : O(1)"
   ]
  },
  {
   "cell_type": "code",
   "execution_count": 7,
   "metadata": {},
   "outputs": [],
   "source": [
    "def leftRotate_2(arr, d, n):\n",
    "    d = d % n\n",
    "    for i in range(d):\n",
    "        temp = arr[0]\n",
    "        for j in range(0, n - 1):\n",
    "            arr[j] = arr[j + 1]\n",
    "        arr[-1] = temp"
   ]
  },
  {
   "cell_type": "markdown",
   "metadata": {},
   "source": [
    "## 3. A Juggling Algorithm\n",
    "    Time complexity : O(n) || Auxiliary Space : O(1)"
   ]
  },
  {
   "cell_type": "code",
   "execution_count": 8,
   "metadata": {},
   "outputs": [],
   "source": [
    "def gcd(x, y):\n",
    "    if y == 0:\n",
    "        return x\n",
    "    return gcd(y, x%y)\n",
    "\n",
    "def leftRotate_3(arr, d, n):\n",
    "    d = d % n\n",
    "    num_of_set = gcd(n,d)\n",
    "    \n",
    "    for i in range(num_of_set):\n",
    "        temp = arr[i]\n",
    "        j = i\n",
    "        for _ in range(n//num_of_set):  # n//num_of_set -> No. of elements in each set\n",
    "            k = (j + d) % n\n",
    "            arr[j] = temp if k==i else arr[k]\n",
    "            j = k  "
   ]
  },
  {
   "cell_type": "markdown",
   "metadata": {},
   "source": [
    "## 4. Reversal algorithm\n",
    "    Time complexity : O(n) || Auxiliary Space : O(1)"
   ]
  },
  {
   "cell_type": "code",
   "execution_count": 9,
   "metadata": {},
   "outputs": [],
   "source": [
    "def reverse(arr, i1, i2):\n",
    "    while i1 < i2:\n",
    "        arr[i1], arr[i2] = arr[i2], arr[i1]\n",
    "        i1 += 1\n",
    "        i2 -= 1\n",
    "        \n",
    "def leftRotate_4(arr, d, n):\n",
    "    d = d % n\n",
    "    reverse(arr, 0, n - 1) \n",
    "    reverse(arr, 0, n - d - 1)\n",
    "    reverse(arr, n - d, n - 1)"
   ]
  },
  {
   "cell_type": "markdown",
   "metadata": {},
   "source": [
    "## 5. Block swap algorithm\n",
    "    Time complexity : O(n) || Auxiliary Space : O(1)"
   ]
  },
  {
   "cell_type": "code",
   "execution_count": 43,
   "metadata": {},
   "outputs": [],
   "source": [
    "def swapBlock(arr, b1_start, b1_end, b2_start, b2_end):\n",
    "    for i in range(0, b1_end - b1_start + 1):\n",
    "        arr[b1_start + i], arr[b2_start + i] = arr[b2_start + i], arr[b1_start + i]\n",
    "        \n",
    "def leftRotate_rec(arr, b1_start, b1_end, b2_start, b2_end):\n",
    "    b1_size = b1_end - b1_start + 1\n",
    "    b2_size = b2_end - b2_start + 1\n",
    "    if b1_size == b2_size:\n",
    "        swapBlock(arr, b1_start, b1_end, b2_start, b2_end)\n",
    "        return\n",
    "    \n",
    "    if b1_size < b2_size:\n",
    "        swapBlock(arr, b1_start, b1_end, b2_end - b1_size + 1, b2_end)\n",
    "        leftRotate_rec(arr, b1_start, b1_end, b2_start, b2_end - b1_size)\n",
    "    else:\n",
    "        swapBlock(arr, b1_start, b1_start + b2_size - 1, b2_start, b2_end)\n",
    "        leftRotate_rec(arr, b1_start + b2_size, b1_end, b2_start, b2_end)\n",
    "\n",
    "def leftRotate_5(arr, d, n):\n",
    "    leftRotate_rec(arr, 0, d - 1, d, n - 1)"
   ]
  },
  {
   "cell_type": "code",
   "execution_count": 42,
   "metadata": {},
   "outputs": [
    {
     "name": "stdout",
     "output_type": "stream",
     "text": [
      "5 4 \n",
      "1 2 3 4 5\n",
      "5 1 2 3 4"
     ]
    }
   ],
   "source": [
    "n, d = map(int, input().strip().split())\n",
    "arr = list(map(int, input().strip().split()))\n",
    "leftRotate_5(arr, d, n)\n",
    "print(*arr, end=\"\")"
   ]
  },
  {
   "cell_type": "raw",
   "metadata": {},
   "source": [
    "Input:\n",
    "14 7\n",
    "98 67 35 1 74 79 7 26 54 63 24 17 32 81\n",
    "\n",
    "Output:\n",
    "26 54 63 24 17 32 81 98 67 35 1 74 79 7"
   ]
  },
  {
   "cell_type": "code",
   "execution_count": null,
   "metadata": {},
   "outputs": [],
   "source": []
  }
 ],
 "metadata": {
  "kernelspec": {
   "display_name": "Python 3",
   "language": "python",
   "name": "python3"
  },
  "language_info": {
   "codemirror_mode": {
    "name": "ipython",
    "version": 3
   },
   "file_extension": ".py",
   "mimetype": "text/x-python",
   "name": "python",
   "nbconvert_exporter": "python",
   "pygments_lexer": "ipython3",
   "version": "3.6.4"
  }
 },
 "nbformat": 4,
 "nbformat_minor": 2
}
