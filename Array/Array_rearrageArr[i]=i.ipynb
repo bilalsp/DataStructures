{
 "cells": [
  {
   "cell_type": "markdown",
   "metadata": {},
   "source": [
    "# <Center> <HR> <font color=\"blue\"> Rearrange an array such that arr[i] = i </font> <HR> </Center>\n",
    "    \n",
    "   Let $A: a_0, a_0, . . . a_n$ be the sequence of numbers where $a_n \\in Z^+ \\cup -1$. Rearrange the sequence such that\n",
    "\n",
    "   $$   a_{n} =\n",
    "    \\begin{cases}\n",
    "      n & \\text{if n exists in sequence, A}\\\\\n",
    "      -1 & \\text{otherwise} \n",
    "    \\end{cases}\n",
    "   $$"
   ]
  },
  {
   "cell_type": "markdown",
   "metadata": {},
   "source": [
    "## 1. Using Hashing approach\n",
    "    Time complexity : O(n) || Auxiliary Space : O(n)"
   ]
  },
  {
   "cell_type": "code",
   "execution_count": 4,
   "metadata": {},
   "outputs": [],
   "source": [
    "def rearrange_1(arr, n):\n",
    "    \n",
    "    hash_set = set(arr)\n",
    "    \n",
    "    for i in range(n):\n",
    "        if i in hash_set:\n",
    "            arr[i] = i\n",
    "        else:\n",
    "            arr[i] = -1"
   ]
  },
  {
   "cell_type": "markdown",
   "metadata": {},
   "source": [
    "## 2. Using Swapping Concept \n",
    "    Time complexity : O(n) || Auxiliary Space : O(1)"
   ]
  },
  {
   "cell_type": "code",
   "execution_count": 5,
   "metadata": {},
   "outputs": [],
   "source": [
    "def rearrange_2(arr, n):\n",
    "    for i in range(n):\n",
    "        while arr[i] != -1 and arr[i] != i:\n",
    "            temp = arr[i]\n",
    "            arr[i], arr[temp] = arr[arr[i]], temp"
   ]
  },
  {
   "cell_type": "markdown",
   "metadata": {},
   "source": [
    "## Testing"
   ]
  },
  {
   "cell_type": "code",
   "execution_count": 6,
   "metadata": {},
   "outputs": [
    {
     "name": "stdout",
     "output_type": "stream",
     "text": [
      "10\n",
      "-1 -1 6 1 9 3 2 -1 4 -1\n",
      "-1 1 2 3 4 -1 6 -1 -1 9\n"
     ]
    }
   ],
   "source": [
    "n = int(input())\n",
    "arr = list(map(int, input().split()))\n",
    "rearrange_2(arr, n)\n",
    "print(*arr)"
   ]
  },
  {
   "cell_type": "raw",
   "metadata": {},
   "source": [
    "Expected Input:\n",
    "    10\n",
    "    -1 -1 6 1 9 3 2 -1 4 -1\n",
    "Expected Output:\n",
    "    -1 1 2 3 4 -1 6 -1 -1 9"
   ]
  },
  {
   "cell_type": "markdown",
   "metadata": {},
   "source": [
    "## Comparison of Different Approaches"
   ]
  },
  {
   "cell_type": "code",
   "execution_count": 8,
   "metadata": {},
   "outputs": [
    {
     "data": {
      "image/png": "[encoded data removed]",
      "text/plain": [
       "<Figure size 432x288 with 1 Axes>"
      ]
     },
     "metadata": {},
     "output_type": "display_data"
    }
   ],
   "source": [
    "import numpy as np\n",
    "import random\n",
    "import time\n",
    "import matplotlib.pyplot as plt \n",
    "%matplotlib inline\n",
    "\n",
    "\n",
    "for fun in [\"rearrange_1\", \"rearrange_2\"]:\n",
    "    \n",
    "    times, arr_size = [], []\n",
    "    for n_execution in range(1,21):\n",
    "        \n",
    "        arr = list(range(0,10000*n_execution))\n",
    "        random.shuffle(arr)\n",
    "        n = len(arr)\n",
    "        \n",
    "        s = time.time()\n",
    "        eval(fun)(arr, n)\n",
    "        e = time.time()\n",
    "        \n",
    "        times.append(e-s)\n",
    "        arr_size.append(n)\n",
    "        \n",
    "    plt.plot(arr_size, times, label = fun) \n",
    "\n",
    "plt.xlabel('Sequence Size') \n",
    "plt.ylabel('Run Time') \n",
    "plt.grid() \n",
    "plt.legend() \n",
    "plt.show() "
   ]
  },
  {
   "cell_type": "code",
   "execution_count": null,
   "metadata": {},
   "outputs": [],
   "source": []
  },
  {
   "cell_type": "code",
   "execution_count": null,
   "metadata": {},
   "outputs": [],
   "source": []
  }
 ],
 "metadata": {
  "kernelspec": {
   "display_name": "Python 3",
   "language": "python",
   "name": "python3"
  },
  "language_info": {
   "codemirror_mode": {
    "name": "ipython",
    "version": 3
   },
   "file_extension": ".py",
   "mimetype": "text/x-python",
   "name": "python",
   "nbconvert_exporter": "python",
   "pygments_lexer": "ipython3",
   "version": "3.6.4"
  }
 },
 "nbformat": 4,
 "nbformat_minor": 2
}
