{
 "cells": [
  {
   "cell_type": "markdown",
   "metadata": {},
   "source": [
    "#Hello<Center> <HR> <font color=\"blue\"> Rearrange the Array </font> <HR> </Center>\n",
    "   \n",
    "   Let S: $(a_1, a_2, ..., a_n)$ be the sequence of numbers. Rearrange the sequence such that\n",
    "   $$ a_i = \n",
    "       \\begin{cases}\n",
    "       x & \\text{if i is even then $x >= a_j$, $\\forall j \\in [1,i)$}\\\\\n",
    "       y & \\text{if i is odd then $y <= a_j$, $\\forall j \\in [1,i)$}\n",
    "       \\end{cases}\n",
    "   $$"
   ]
  }, 
  {
   "cell_type": "markdown",
   "metadata": {},
   "source": [
    "## Approach-1\n",
    "\n",
    "If len(arr) is even then last element shall be highest element and second last element shall be smallest element in the output else it will be reversed.\n",
    "\n",
    "    Time complexity : O(nlog(n)) || Auxiliary Space : O(n)"
   ]
  },
  {
   "cell_type": "code",
   "execution_count": 35,
   "metadata": {},
   "outputs": [],
   "source": [
    "def rearrange_1(arr, n):\n",
    "    \n",
    "    temp = sorted(arr)\n",
    "    \n",
    "    arr_Even = False if n%2 else True\n",
    "    \n",
    "    i = n - 1\n",
    "    left, right = 0, n - 1\n",
    "    while left < right:\n",
    "        if arr_Even:\n",
    "            arr[i], arr[i-1] = temp[right], temp[left]\n",
    "        else:\n",
    "            arr[i], arr[i-1] = temp[left], temp[right]\n",
    "        \n",
    "        i -= 2\n",
    "        left +=1\n",
    "        right -= 1\n",
    "        \n",
    "    if not arr_Even:\n",
    "        arr[i] = temp[left]"
   ]
  },
  {
   "cell_type": "markdown",
   "metadata": {},
   "source": [
    "## Approach-2\n",
    "    Time complexity : O(nlog(n)) || Auxiliary Space : O(n)"
   ]
  },
  {
   "cell_type": "code",
   "execution_count": 21,
   "metadata": {},
   "outputs": [],
   "source": [
    "def rearrange_2(arr, n):\n",
    "    \n",
    "    temp = sorted(arr)\n",
    "\n",
    "    start = 0\n",
    "    mid = n // 2\n",
    "    \n",
    "    if n % 2 != 0:\n",
    "        arr[0] = temp[mid] \n",
    "        start = 1\n",
    "        mid += 1\n",
    "    \n",
    "    interChange = lambda a,b: (b, a) if n%2!=0 else (a, b) \n",
    "    \n",
    "    for i in range(mid, n): \n",
    "        arr[start], arr[start + 1] = interChange(temp[i - 1 - start], temp[i])\n",
    "        \n",
    "        #Another way to perfrom the same operation\n",
    "        #arr[start], arr[start + 1] = (temp[i], temp[i - 1 - start]) if n%2 != 0 else (temp[i - 1 - start], temp[i])\n",
    "        \n",
    "        start += 2"
   ]
  },
  {
   "cell_type": "markdown",
   "metadata": {},
   "source": [
    "## Approach-3\n",
    "    Time complexity : O(nlog(n)) || Auxiliary Space : O(n)"
   ]
  },
  {
   "cell_type": "code",
   "execution_count": 22,
   "metadata": {},
   "outputs": [],
   "source": [
    "def rearrange_3_1(arr, n):\n",
    "    \n",
    "    temp = sorted(arr)\n",
    "    \n",
    "    oddStart = n//2\n",
    "    evenStart = n//2\n",
    "    if n%2 == 0:\n",
    "        oddStart -= 1\n",
    "    else:\n",
    "        evenStart += 1\n",
    "\n",
    "    #Odd position\n",
    "    for i in range(0, n, 2):\n",
    "        arr[i] = temp[oddStart]\n",
    "        oddStart -= 1\n",
    "        \n",
    "    #Even position     \n",
    "    for i in range(1, n, 2):\n",
    "        arr[i] = temp[evenStart]\n",
    "        evenStart += 1\n",
    "        \n",
    "def rearrange_3_2(arr, n):\n",
    "    \n",
    "    temp = sorted(arr)\n",
    "    \n",
    "    oddPos_Count = n - n//2\n",
    "    oddStart, evenStart = (oddPos_Count - 1, oddPos_Count)\n",
    "    \n",
    "    #Odd position\n",
    "    for i in range(0, n, 2):\n",
    "        arr[i] = temp[oddStart]\n",
    "        oddStart -= 1\n",
    "        \n",
    "    #Even position     \n",
    "    for i in range(1, n, 2):\n",
    "        arr[i] = temp[evenStart]\n",
    "        evenStart += 1"
   ]
  },
  {
   "cell_type": "markdown",
   "metadata": {},
   "source": [
    "## Testing"
   ]
  },
  {
   "cell_type": "code",
   "execution_count": 25,
   "metadata": {},
   "outputs": [
    {
     "name": "stdout",
     "output_type": "stream",
     "text": [
      "8\n",
      "1 2 1 4 5 6 8 8\n",
      "4 5 2 6 1 8 1 8\n"
     ]
    }
   ],
   "source": [
    "n = int(input())\n",
    "arr = list(map(int, input().strip().split()))\n",
    "\n",
    "rearrange_1(arr, n)\n",
    "\n",
    "print(*arr)"
   ]
  },
  {
   "cell_type": "raw",
   "metadata": {},
   "source": [
    "Expected Input:\n",
    "    8\n",
    "    1 2 1 4 5 6 8 8\n",
    "Expected Output:\n",
    "    4 5 2 6 1 8 1 8"
   ]
  },
  {
   "cell_type": "markdown",
   "metadata": {},
   "source": [
    "## Comparison of Different Approaches"
   ]
  },
  {
   "cell_type": "code",
   "execution_count": 34,
   "metadata": {},
   "outputs": [
    {
     "data": {
      "image/png": "[encoded data removed]",
      "text/plain": [
       "<Figure size 432x288 with 1 Axes>"
      ]
     },
     "metadata": {},
     "output_type": "display_data"
    }
   ],
   "source": [
    "import numpy as np\n",
    "import random\n",
    "import time\n",
    "import matplotlib.pyplot as plt \n",
    "%matplotlib inline\n",
    "\n",
    "\n",
    "for fun in [\"rearrange_1\", \"rearrange_2\", \"rearrange_3_1\", \"rearrange_3_2\"]:\n",
    "    \n",
    "    times, arr_size = [], []\n",
    "    for n_execution in range(1,21):\n",
    "        \n",
    "        arr = list(range(0,4000*n_execution))\n",
    "        random.shuffle(arr)\n",
    "        n = len(arr)\n",
    "        \n",
    "        s = time.time()\n",
    "        eval(fun)(arr, n)\n",
    "        e = time.time()\n",
    "        \n",
    "        times.append(e-s)\n",
    "        arr_size.append(n)\n",
    "        \n",
    "    plt.plot(arr_size, times, label = fun) \n",
    "\n",
    "plt.xlabel('Sequence Size') \n",
    "plt.ylabel('Run Time') \n",
    "plt.grid() \n",
    "plt.legend() \n",
    "plt.show() "
   ]
  },
  {
   "cell_type": "code",
   "execution_count": null,
   "metadata": {},
   "outputs": [],
   "source": []
  },
  {
   "cell_type": "code",
   "execution_count": null,
   "metadata": {},
   "outputs": [],
   "source": []
  },
  {
   "cell_type": "code",
   "execution_count": null,
   "metadata": {},
   "outputs": [],
   "source": []
  },
  {
   "cell_type": "code",
   "execution_count": null,
   "metadata": {},
   "outputs": [],
   "source": []
  }
 ],
 "metadata": {
  "kernelspec": {
   "display_name": "Python 3",
   "language": "python",
   "name": "python3"
  },
  "language_info": {
   "codemirror_mode": {
    "name": "ipython",
    "version": 3
   },
   "file_extension": ".py",
   "mimetype": "text/x-python",
   "name": "python",
   "nbconvert_exporter": "python",
   "pygments_lexer": "ipython3",
   "version": "3.6.4"
  }
 },
 "nbformat": 4,
 "nbformat_minor": 2
}
