{
 "cells": [
  {
   "cell_type": "markdown",
   "metadata": {},
   "source": [
    "# <Center> <HR> <font color=\"blue\"> Sorted subsequence of size 3 </font> <HR> </Center> \n",
    "    \n",
    "    Given an array of n integers, find the 3 elements such that a[i] < a[j] < a[k] and i < j < k. If there are multiple such triplets, then print any one of them."
   ]
  },
  {
   "cell_type": "markdown",
   "metadata": {},
   "source": [
    "## 1. Using Min and Max\n",
    "    Time complexity : O(n^2) || Auxiliary Space : O(1)"
   ]
  },
  {
   "cell_type": "code",
   "execution_count": 29,
   "metadata": {},
   "outputs": [],
   "source": [
    "def getMin(arr, start, end, elm):\n",
    "    for i in range(start, end):\n",
    "        if arr[i] < elm:\n",
    "            return arr[i]\n",
    "    return -1\n",
    "    \n",
    "def getMax(arr, start, end, elm):\n",
    "    for i in range(start, end):\n",
    "        if arr[i] > elm:\n",
    "            return arr[i]\n",
    "    return -1\n",
    "\n",
    "def find3number_1(arr, n):\n",
    "    \n",
    "    for i in range(1, n-1):\n",
    "        min = getMin(arr,0,i,arr[i])\n",
    "        if min != -1:\n",
    "            max = getMax(arr,i+1,n,arr[i])\n",
    "            if max!=-1 and (min < arr[i] < max):\n",
    "                return [min, arr[i], max]\n",
    "    \n",
    "    return []"
   ]
  },
  {
   "cell_type": "markdown",
   "metadata": {},
   "source": [
    "# 2. Using Extra Space\n",
    "    Time complexity : O(n) || Auxiliary Space : O(n)"
   ]
  },
  {
   "cell_type": "code",
   "execution_count": 30,
   "metadata": {},
   "outputs": [],
   "source": [
    "def find3number_2(arr, n):\n",
    "    \n",
    "    smallest, largest = [], []\n",
    "    \n",
    "    smallest.append(-1)\n",
    "    for i in range(1, n):\n",
    "        if arr[i-1] < arr[i]:\n",
    "            smallest.append(i-1)\n",
    "        else:\n",
    "            smallest.append(smallest[i-1])\n",
    "            \n",
    "    largest.append(-1)\n",
    "    for i in range(n-2, -1, -1):\n",
    "        if arr[i] < arr[i+1]:\n",
    "            largest.append(i+1)\n",
    "        else:\n",
    "            largest.append(largest[n-i-2])\n",
    "\n",
    "    for i in range(n):\n",
    "        if smallest[i] !=-1 and largest[n-1-i] != -1:\n",
    "            return [arr[smallest[i]], arr[i], arr[largest[n-1-i]]]\n",
    "    \n",
    "    return []"
   ]
  },
  {
   "cell_type": "markdown",
   "metadata": {},
   "source": [
    "## Testing"
   ]
  },
  {
   "cell_type": "code",
   "execution_count": 33,
   "metadata": {},
   "outputs": [
    {
     "name": "stdout",
     "output_type": "stream",
     "text": [
      "4\n",
      "1 2 3 4\n",
      "[1, 2, 3]\n"
     ]
    }
   ],
   "source": [
    "n = int(input())\n",
    "arr = list(map(int, input().strip().split()))\n",
    "\n",
    "out = find3number_2(arr, n)\n",
    "\n",
    "print(out)"
   ]
  },
  {
   "cell_type": "raw",
   "metadata": {},
   "source": [
    "Expected Input:\n",
    "    4\n",
    "    1 2 3 4\n",
    "Expected Output:\n",
    "    1 2 3 OR 1 2 4 OR 2 3 4"
   ]
  },
  {
   "cell_type": "markdown",
   "metadata": {},
   "source": [
    "# Comparison of Different Approaches"
   ]
  },
  {
   "cell_type": "code",
   "execution_count": 50,
   "metadata": {},
   "outputs": [
    {
     "data": {
      "image/png": "[encoded data removed]",
      "text/plain": [
       "<Figure size 432x288 with 1 Axes>"
      ]
     },
     "metadata": {},
     "output_type": "display_data"
    }
   ],
   "source": [
    "import numpy as np\n",
    "import random\n",
    "import time\n",
    "import matplotlib.pyplot as plt \n",
    "%matplotlib inline\n",
    "\n",
    "\n",
    "n_execution = 25\n",
    "random_Size = lambda : np.random.randint(5,100)*1000\n",
    "arr_list = [np.concatenate([np.random.randint(200,500,random_Size()),np.random.randint(1,100,random_Size())]) for _ in range(n_execution)]\n",
    "\n",
    "for fun in [\"find3number_1\", \"find3number_2\"]:\n",
    "    \n",
    "    times, arr_size = [], []\n",
    "    for arr in arr_list:\n",
    "        random.shuffle(arr)\n",
    "        n = len(arr)\n",
    "        \n",
    "        s = time.time()\n",
    "        eval(fun)(arr, n)\n",
    "        e = time.time()\n",
    "        \n",
    "        times.append(e-s)\n",
    "        arr_size.append(n)\n",
    "        \n",
    "    plt.plot(arr_size, times, label = fun) \n",
    "    \n",
    "plt.xlabel('Sequence Size') \n",
    "plt.ylabel('Run Time') \n",
    "plt.grid() \n",
    "plt.legend()\n",
    "plt.show() "
   ]
  },
  {
   "cell_type": "code",
   "execution_count": null,
   "metadata": {},
   "outputs": [],
   "source": []
  },
  {
   "cell_type": "code",
   "execution_count": null,
   "metadata": {},
   "outputs": [],
   "source": []
  },
  {
   "cell_type": "code",
   "execution_count": null,
   "metadata": {},
   "outputs": [],
   "source": []
  }
 ],
 "metadata": {
  "kernelspec": {
   "display_name": "Python 3",
   "language": "python",
   "name": "python3"
  },
  "language_info": {
   "codemirror_mode": {
    "name": "ipython",
    "version": 3
   },
   "file_extension": ".py",
   "mimetype": "text/x-python",
   "name": "python",
   "nbconvert_exporter": "python",
   "pygments_lexer": "ipython3",
   "version": "3.6.4"
  }
 },
 "nbformat": 4,
 "nbformat_minor": 2
}
