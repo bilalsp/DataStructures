{
 "cells": [
  {
   "cell_type": "markdown",
   "metadata": {},
   "source": [
    "# <Center> <HR> <font color=\"blue\"> Reverse the string </font> <HR> </Center>"
   ]
  },
  {
   "cell_type": "markdown",
   "metadata": {},
   "source": [
    "## 1. Using Loop\n",
    "    Time complexity : O(n) || Auxiliary Space : O(n)"
   ]
  },
  {
   "cell_type": "code",
   "execution_count": 1,
   "metadata": {},
   "outputs": [],
   "source": [
    "def reverse_1(string):\n",
    "    string = list(string)\n",
    "    n = len(string)\n",
    "    \n",
    "    i, j = 0, n - 1\n",
    "    while i < j:\n",
    "        string[i], string[j] = string[j], string[i]\n",
    "        i += 1\n",
    "        j -= 1\n",
    "        \n",
    "    return \"\".join(string)"
   ]
  },
  {
   "cell_type": "markdown",
   "metadata": {},
   "source": [
    "## 2. Using Slicing\n",
    "    Time complexity : O(n) || Auxiliary Space : O(n)"
   ]
  },
  {
   "cell_type": "code",
   "execution_count": 2,
   "metadata": {},
   "outputs": [],
   "source": [
    "def reverse_2(string):\n",
    "    return string[::-1]"
   ]
  },
  {
   "cell_type": "markdown",
   "metadata": {},
   "source": [
    "## 3. Using reversed \n",
    "    Time complexity : O(n) || Auxiliary Space : O(n)"
   ]
  },
  {
   "cell_type": "code",
   "execution_count": 3,
   "metadata": {},
   "outputs": [],
   "source": [
    "def reverse_3(string):\n",
    "    return \"\".join(reversed(string))"
   ]
  },
  {
   "cell_type": "markdown",
   "metadata": {},
   "source": [
    "## 4. Using Stack\n",
    "    Time complexity : O(n) || Auxiliary Space : O(n)"
   ]
  },
  {
   "cell_type": "code",
   "execution_count": 4,
   "metadata": {},
   "outputs": [],
   "source": [
    "def reverse_4(string):\n",
    "    stack = []\n",
    "    \n",
    "    for ch in string:\n",
    "        stack.append(ch) #Push\n",
    "        \n",
    "    string = \"\"    \n",
    "    \n",
    "    stack_size = len(stack)\n",
    "    \n",
    "    for _ in range(stack_size):\n",
    "        string += stack.pop()   #Pop\n",
    "        \n",
    "    return string"
   ]
  },
  {
   "cell_type": "markdown",
   "metadata": {},
   "source": [
    "## 4. Using Recursion\n",
    "    Time complexity : O(n) || Auxiliary Space : O(n)"
   ]
  },
  {
   "cell_type": "code",
   "execution_count": 29,
   "metadata": {},
   "outputs": [],
   "source": [
    "def reverse_5(string):\n",
    "    if not string:\n",
    "        return string\n",
    "    return reverse_5(string[1:]) + string[0]"
   ]
  },
  {
   "cell_type": "markdown",
   "metadata": {},
   "source": [
    "## Testing"
   ]
  },
  {
   "cell_type": "code",
   "execution_count": 31,
   "metadata": {},
   "outputs": [
    {
     "name": "stdout",
     "output_type": "stream",
     "text": [
      "Hello World\n",
      "dlroW olleH\n"
     ]
    }
   ],
   "source": [
    "string_in = input()\n",
    "out = reverse_5(string_in)\n",
    "print(out)"
   ]
  },
  {
   "cell_type": "raw",
   "metadata": {},
   "source": [
    "Expected Input:\n",
    "    Hello World\n",
    "Expected Output:\n",
    "    dlroW olleH"
   ]
  },
  {
   "cell_type": "markdown",
   "metadata": {},
   "source": [
    "## Comparison of Different Approaches"
   ]
  },
  {
   "cell_type": "code",
   "execution_count": 67,
   "metadata": {},
   "outputs": [
    {
     "data": {
      "image/png": "[encoded data removed]",
      "text/plain": [
       "<Figure size 432x288 with 1 Axes>"
      ]
     },
     "metadata": {},
     "output_type": "display_data"
    }
   ],
   "source": [
    "import string\n",
    "import random\n",
    "import time\n",
    "import matplotlib.pyplot as plt \n",
    "%matplotlib inline\n",
    "\n",
    "\n",
    "for fun in [\"reverse_1\", \"reverse_2\", \"reverse_3\", \"reverse_4\"]: #, \"reverse_5\"]:\n",
    "    \n",
    "    times, arr_size = [], []\n",
    "    for n_execution in range(10000,15000,100):\n",
    "        string_in = ''.join(random.choices(string.ascii_letters + string.digits, k=n_execution))\n",
    "        n = len(string_in)\n",
    "        \n",
    "        s = time.time()\n",
    "        eval(fun)(string_in)\n",
    "        e = time.time()\n",
    "        \n",
    "        times.append(e-s)\n",
    "        arr_size.append(n)\n",
    "        \n",
    "    plt.plot(arr_size, times, label = fun) \n",
    "\n",
    "plt.xlabel('String Size') \n",
    "plt.ylabel('Time Complexity') \n",
    "plt.grid() \n",
    "plt.legend() \n",
    "plt.show() "
   ]
  },
  {
   "cell_type": "code",
   "execution_count": null,
   "metadata": {},
   "outputs": [],
   "source": []
  },
  {
   "cell_type": "code",
   "execution_count": null,
   "metadata": {},
   "outputs": [],
   "source": []
  }
 ],
 "metadata": {
  "kernelspec": {
   "display_name": "Python 3",
   "language": "python",
   "name": "python3"
  },
  "language_info": {
   "codemirror_mode": {
    "name": "ipython",
    "version": 3
   },
   "file_extension": ".py",
   "mimetype": "text/x-python",
   "name": "python",
   "nbconvert_exporter": "python",
   "pygments_lexer": "ipython3",
   "version": "3.6.4"
  }
 },
 "nbformat": 4,
 "nbformat_minor": 2
}
