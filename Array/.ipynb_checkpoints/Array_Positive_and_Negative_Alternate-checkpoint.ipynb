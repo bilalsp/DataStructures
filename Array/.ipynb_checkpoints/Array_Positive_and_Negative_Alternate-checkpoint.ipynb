{
 "cells": [
  {
   "cell_type": "markdown",
   "metadata": {},
   "source": [
    "# <Center> <HR> <font color=\"blue\"> Rearrange array in alternating positive & negative items</font> <HR> </Center> \n",
    "    \n",
    "    An array contains both positive and negative numbers in random order. Rearrange the array elements so that positive and negative numbers are placed alternatively. Number of positive and negative numbers need not be equal. If there are more positive numbers they appear at the end of the array. If there are more negative numbers, they too appear in the end of the array.\n",
    "    Note: No need to takecare about the order of the appearance of elements."
   ]
  },
  {
   "cell_type": "markdown",
   "metadata": {},
   "source": [
    "# 1. Using Partitioning approach\n",
    "    Time complexity : O(n) || Auxiliary Space : O(1)"
   ]
  },
  {
   "cell_type": "code",
   "execution_count": 1,
   "metadata": {},
   "outputs": [],
   "source": [
    "def rearrange(arr, n):\n",
    "    #Partition +ve and -ve\n",
    "    pivot = 0\n",
    "    for i in range(n):\n",
    "        if arr[i] >= 0:\n",
    "            arr[pivot], arr[i] = arr[i], arr[pivot]\n",
    "            pivot += 1\n",
    "     \n",
    "    #Alternate +ve and -ve\n",
    "    pos, neg = 1, pivot\n",
    "    for i in range(neg, n):\n",
    "        if pos < neg:\n",
    "            arr[pos], arr[neg] = arr[neg], arr[pos]\n",
    "            pos += 2\n",
    "            neg += 1"
   ]
  },
  {
   "cell_type": "markdown",
   "metadata": {},
   "source": [
    "## Testing"
   ]
  },
  {
   "cell_type": "code",
   "execution_count": 2,
   "metadata": {},
   "outputs": [
    {
     "name": "stdout",
     "output_type": "stream",
     "text": [
      "9\n",
      "-1 2 -3 -4 5 6 -7 8 9\n",
      "2 -3 6 -7 9 -4 8 -1 5\n"
     ]
    }
   ],
   "source": [
    "n = int(input())\n",
    "arr = list(map(int, input().strip().split()))\n",
    "\n",
    "rearrange(arr, n)\n",
    "\n",
    "print(*arr)"
   ]
  },
  {
   "cell_type": "raw",
   "metadata": {},
   "source": [
    "Expected Input:\n",
    "    9\n",
    "    -1 2 -3 -4 5 6 -7 8 9\n",
    "Expected Output:\n",
    "    2 -3 6 -7 9 -4 8 -1 5"
   ]
  },
  {
   "cell_type": "code",
   "execution_count": null,
   "metadata": {},
   "outputs": [],
   "source": []
  },
  {
   "cell_type": "code",
   "execution_count": null,
   "metadata": {},
   "outputs": [],
   "source": []
  }
 ],
 "metadata": {
  "kernelspec": {
   "display_name": "Python 3",
   "language": "python",
   "name": "python3"
  },
  "language_info": {
   "codemirror_mode": {
    "name": "ipython",
    "version": 3
   },
   "file_extension": ".py",
   "mimetype": "text/x-python",
   "name": "python",
   "nbconvert_exporter": "python",
   "pygments_lexer": "ipython3",
   "version": "3.6.4"
  }
 },
 "nbformat": 4,
 "nbformat_minor": 2
}
