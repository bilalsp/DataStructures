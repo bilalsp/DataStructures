{
 "cells": [
  {
   "cell_type": "markdown",
   "metadata": {},
   "source": [
    "## <Center> <HR> <font color=\"blue\"> Rearrange positive and negative numbers using inbuilt sort function </font> <HR> </Center>\n",
    "   \n",
    "   Let S: $(a_1, a_2, ..., a_n)$ be the sequence of numbers. Rearrange the sequence $S = (S_{-},S_{0},S_{+})$ such that\n",
    "   $$ x \\in Z^{-} \\hspace{1mm}, \\forall x \\in S_{-} $$ \n",
    "   $$ y = 0 \\hspace{1mm}, \\forall y \\in S_{0} $$\n",
    "   $$ z \\in Z^{+} \\hspace{1mm}, \\forall z \\in S_{+} $$\n",
    "   Note: The order of appearance should be maintained."
   ]
  },
  {
   "cell_type": "code",
   "execution_count": 9,
   "metadata": {},
   "outputs": [],
   "source": [
    "def rearrange(arr, n):\n",
    "    \n",
    "    arr.sort(key = lambda x: -1 if x < 0 else( 0 if x ==0 else 1))"
   ]
  },
  {
   "cell_type": "markdown",
   "metadata": {},
   "source": [
    "## Testing"
   ]
  },
  {
   "cell_type": "code",
   "execution_count": 11,
   "metadata": {},
   "outputs": [
    {
     "name": "stdout",
     "output_type": "stream",
     "text": [
      "9\n",
      "-12 11 0 -5 6 -7 5 -3 -6\n",
      "-12 -5 -7 -3 -6 0 11 6 5\n"
     ]
    }
   ],
   "source": [
    "n = int(input())\n",
    "arr = list(map(int, input().strip().split()))\n",
    "rearrange(arr, n)\n",
    "print(*arr)"
   ]
  },
  {
   "cell_type": "raw",
   "metadata": {},
   "source": [
    "Expected Input:\n",
    "    9\n",
    "    -12 11 0 -5 6 -7 5 -3 -6\n",
    "Expected Output:\n",
    "    -12 -5 -7 -3 -6 0 11 6 5"
   ]
  },
  {
   "cell_type": "code",
   "execution_count": null,
   "metadata": {},
   "outputs": [],
   "source": []
  },
  {
   "cell_type": "code",
   "execution_count": null,
   "metadata": {},
   "outputs": [],
   "source": []
  }
 ],
 "metadata": {
  "kernelspec": {
   "display_name": "Python 3",
   "language": "python",
   "name": "python3"
  },
  "language_info": {
   "codemirror_mode": {
    "name": "ipython",
    "version": 3
   },
   "file_extension": ".py",
   "mimetype": "text/x-python",
   "name": "python",
   "nbconvert_exporter": "python",
   "pygments_lexer": "ipython3",
   "version": "3.6.4"
  }
 },
 "nbformat": 4,
 "nbformat_minor": 2
}
