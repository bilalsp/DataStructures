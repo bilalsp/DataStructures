{
 "cells": [
  {
   "cell_type": "markdown",
   "metadata": {},
   "source": [
    "# <Center> <HR> <font color=\"blue\"> Multiple left rotations of an array </font> <HR> </Center>\n",
    "    Given an array of size n and multiple values around which we need to left rotate the array. How to quickly find multiple left rotations?"
   ]
  },
  {
   "cell_type": "markdown",
   "metadata": {},
   "source": [
    "## 1. Using Iterative approach\n",
    "    Time complexity : O(n*len(K)) || Auxiliary Space :  O(n*len(K))"
   ]
  },
  {
   "cell_type": "code",
   "execution_count": 22,
   "metadata": {},
   "outputs": [],
   "source": [
    "def multi_leftRotation(arr, n, K):\n",
    "    result = []\n",
    "    for i in range(len(K)):\n",
    "        k = K[i] % n\n",
    "        temp = []\n",
    "        for j in range(n):\n",
    "            temp.append(arr[(j+k)%n])\n",
    "        result.append(temp)\n",
    "    return result"
   ]
  },
  {
   "cell_type": "code",
   "execution_count": 23,
   "metadata": {},
   "outputs": [
    {
     "name": "stdout",
     "output_type": "stream",
     "text": [
      "5\n",
      "1 3 5 7 9\n",
      "1 3 4 6\n",
      "[3, 5, 7, 9, 1]\n",
      "[7, 9, 1, 3, 5]\n",
      "[9, 1, 3, 5, 7]\n",
      "[3, 5, 7, 9, 1]\n"
     ]
    }
   ],
   "source": [
    "n = int(input())\n",
    "arr = list(map(int, input().split()))\n",
    "K = list(map(int, input().split()))\n",
    "result = multi_leftRotation(arr, n, K)\n",
    "print(*result, sep = \"\\n\")"
   ]
  },
  {
   "cell_type": "raw",
   "metadata": {},
   "source": [
    "Input : arr[] = {1, 3, 5, 7, 9}\n",
    "        k1 = 1\n",
    "        k2 = 3\n",
    "        k3 = 4\n",
    "        k4 = 6\n",
    "Output : 3 5 7 9 1\n",
    "         7 9 1 3 5\n",
    "         9 1 3 5 7\n",
    "         3 5 7 9 1"
   ]
  },
  {
   "cell_type": "code",
   "execution_count": null,
   "metadata": {},
   "outputs": [],
   "source": []
  },
  {
   "cell_type": "code",
   "execution_count": null,
   "metadata": {},
   "outputs": [],
   "source": []
  }
 ],
 "metadata": {
  "kernelspec": {
   "display_name": "Python 3",
   "language": "python",
   "name": "python3"
  },
  "language_info": {
   "codemirror_mode": {
    "name": "ipython",
    "version": 3
   },
   "file_extension": ".py",
   "mimetype": "text/x-python",
   "name": "python",
   "nbconvert_exporter": "python",
   "pygments_lexer": "ipython3",
   "version": "3.6.4"
  }
 },
 "nbformat": 4,
 "nbformat_minor": 2
}
