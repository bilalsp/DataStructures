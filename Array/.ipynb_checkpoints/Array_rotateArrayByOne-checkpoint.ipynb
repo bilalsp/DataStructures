{
 "cells": [
  {
   "cell_type": "markdown",
   "metadata": {},
   "source": [
    "# <Center> <HR> <font color=\"blue\"> Cyclically rotate an array clockwise by one</font> <HR> </Center>"
   ]
  },
  {
   "cell_type": "markdown",
   "metadata": {},
   "source": [
    "## 1. Using iterative approach\n",
    "    Time complexity : O(n) || Auxiliary Space : O(1)"
   ]
  },
  {
   "cell_type": "code",
   "execution_count": 19,
   "metadata": {},
   "outputs": [],
   "source": [
    "def rotate_1(arr):\n",
    "    last_elem = arr[-1]\n",
    "    for i in range(len(arr)-1,0,-1):\n",
    "        arr[i] = arr[i-1]\n",
    "    arr[0] = last_elem"
   ]
  },
  {
   "cell_type": "code",
   "execution_count": 16,
   "metadata": {},
   "outputs": [
    {
     "name": "stdout",
     "output_type": "stream",
     "text": [
      "98 67 35 1 74 79 7 26 54 63 24 17 32 81\n",
      "81 98 67 35 1 74 79 7 26 54 63 24 17 32"
     ]
    }
   ],
   "source": [
    "arr = list(map(int, input().strip().split()))\n",
    "rotate_1(arr)\n",
    "print(*arr, end=\"\")"
   ]
  },
  {
   "cell_type": "raw",
   "metadata": {},
   "source": [
    "Input:\n",
    "98 67 35 1 74 79 7 26 54 63 24 17 32 81\n",
    "\n",
    "Output:\n",
    "81 98 67 35 1 74 79 7 26 54 63 24 17 32"
   ]
  },
  {
   "cell_type": "markdown",
   "metadata": {},
   "source": [
    "## 2. Using Deque\n",
    "    Time complexity : O(1) || Auxiliary Space : O(1)"
   ]
  },
  {
   "cell_type": "code",
   "execution_count": 17,
   "metadata": {},
   "outputs": [],
   "source": [
    "def rotate_2(arr):\n",
    "    last_elem = arr.pop()\n",
    "    arr.appendleft(last_elem)"
   ]
  },
  {
   "cell_type": "code",
   "execution_count": 18,
   "metadata": {},
   "outputs": [
    {
     "name": "stdout",
     "output_type": "stream",
     "text": [
      "98 67 35 1 74 79 7 26 54 63 24 17 32 81\n",
      "81 98 67 35 1 74 79 7 26 54 63 24 17 32"
     ]
    }
   ],
   "source": [
    "from collections import deque\n",
    "arr = deque(map(int, input().strip().split()))\n",
    "rotate_2(arr)\n",
    "print(*arr, end=\"\")"
   ]
  },
  {
   "cell_type": "code",
   "execution_count": null,
   "metadata": {},
   "outputs": [],
   "source": []
  },
  {
   "cell_type": "code",
   "execution_count": null,
   "metadata": {},
   "outputs": [],
   "source": []
  }
 ],
 "metadata": {
  "kernelspec": {
   "display_name": "Python 3",
   "language": "python",
   "name": "python3"
  },
  "language_info": {
   "codemirror_mode": {
    "name": "ipython",
    "version": 3
   },
   "file_extension": ".py",
   "mimetype": "text/x-python",
   "name": "python",
   "nbconvert_exporter": "python",
   "pygments_lexer": "ipython3",
   "version": "3.6.4"
  }
 },
 "nbformat": 4,
 "nbformat_minor": 2
}
