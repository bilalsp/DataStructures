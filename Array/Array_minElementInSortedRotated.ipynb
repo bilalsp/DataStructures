{
 "cells": [
  {
   "cell_type": "markdown",
   "metadata": {},
   "source": [
    "# <Center> <HR> <font color=\"blue\"> Minimum element in a sorted and rotated array </font> <HR> </Center>"
   ]
  },
  {
   "cell_type": "markdown",
   "metadata": {},
   "source": [
    "## Using non-recursive approach\n",
    "    Time complexity : O(log(n)) || Auxiliary Space :  O(1)"
   ]
  },
  {
   "cell_type": "code",
   "execution_count": 6,
   "metadata": {},
   "outputs": [],
   "source": [
    "def findMin_1(arr, n):\n",
    "    start, end = 0, n - 1\n",
    "    while start <= end:\n",
    "        if arr[start] <=  arr[end]:\n",
    "            return arr[start]\n",
    "            \n",
    "        mid = (start + end)//2\n",
    "        next = (mid + 1) % n\n",
    "        prev = (mid - 1 + n) % n\n",
    "        \n",
    "        if arr[mid] <= arr[next] and arr[mid] <= arr[prev]:\n",
    "            return arr[mid]\n",
    "            \n",
    "        if arr[mid] >= arr[start]:\n",
    "            start = mid + 1\n",
    "        else:\n",
    "            end = mid - 1"
   ]
  },
  {
   "cell_type": "markdown",
   "metadata": {},
   "source": [
    "## Using recursive approach\n",
    "    Time complexity : O(log(n)) || Auxiliary Space :  O(1)"
   ]
  },
  {
   "cell_type": "code",
   "execution_count": 7,
   "metadata": {},
   "outputs": [],
   "source": [
    "def findMin_rec(arr, start, end):\n",
    "    if start > end:\n",
    "        return arr[0]\n",
    "    if start == end:\n",
    "        return arr[start]\n",
    "        \n",
    "    mid = (start + end)//2\n",
    "    \n",
    "    if start < mid and arr[mid - 1] > arr[mid]:\n",
    "        return arr[mid]\n",
    "    \n",
    "    if mid < end and arr[mid] > arr[mid + 1]:\n",
    "        return arr[mid + 1]\n",
    "    \n",
    "    if arr[start] < arr[mid]:\n",
    "        return findMin_rec(arr, mid + 1, end)\n",
    "    return findMin_rec(arr, start, mid - 1)\n",
    "    \n",
    "def findMin_2(arr, n):\n",
    "    return findMin_rec(arr, 0, n - 1)"
   ]
  },
  {
   "cell_type": "code",
   "execution_count": 8,
   "metadata": {},
   "outputs": [
    {
     "name": "stdout",
     "output_type": "stream",
     "text": [
      "5\n",
      "5 6 1 2 3 4\n",
      "1\n"
     ]
    }
   ],
   "source": [
    "n = int(input())\n",
    "arr = list(map(int, input().split()))\n",
    "print(findMin_2(arr, n))"
   ]
  },
  {
   "cell_type": "raw",
   "metadata": {},
   "source": [
    "Input:\n",
    "    5\n",
    "    5 6 1 2 3 4\n",
    "Output:\n",
    "    1"
   ]
  },
  {
   "cell_type": "code",
   "execution_count": null,
   "metadata": {},
   "outputs": [],
   "source": []
  }
 ],
 "metadata": {
  "kernelspec": {
   "display_name": "Python 3",
   "language": "python",
   "name": "python3"
  },
  "language_info": {
   "codemirror_mode": {
    "name": "ipython",
    "version": 3
   },
   "file_extension": ".py",
   "mimetype": "text/x-python",
   "name": "python",
   "nbconvert_exporter": "python",
   "pygments_lexer": "ipython3",
   "version": "3.6.4"
  }
 },
 "nbformat": 4,
 "nbformat_minor": 2
}
