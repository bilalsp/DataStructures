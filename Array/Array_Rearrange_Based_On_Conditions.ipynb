{
 "cells": [
  {
   "cell_type": "markdown",
   "metadata": {},
   "source": [
    "## <Center> <HR> <font color=\"blue\"> Rearrange the Array </font> <HR> </Center>\n",
    "   \n",
    "   Let S: $(a_1, a_2, ..., a_n)$ be the sequence of numbers. Rearrange the sequence such that\n",
    "   $$ a_i >= a_{i-1} \\text{ where } i \\equiv 0 \\text{ mod } 2$$\n",
    "   $$ a_i <= a_{i-1} \\text{ where } i \\equiv 1 \\text{ mod } 2$$"
   ]
  },
  {
   "cell_type": "markdown",
   "metadata": {},
   "source": [
    "## 1. Using Sorting Concept\n",
    "    Time complexity : O(nlog(n)) || Auxiliary Space : O(n)"
   ]
  },
  {
   "cell_type": "code",
   "execution_count": 2,
   "metadata": {},
   "outputs": [],
   "source": [
    "def rearrange(arr, n):\n",
    "    \n",
    "    temp = sorted(arr)\n",
    "    i, left, right = 0, 0, n - 1\n",
    "    \n",
    "    while left < right:\n",
    "        arr[i], arr[i+1] = temp[left], temp[right]\n",
    "        i += 2\n",
    "        left +=1\n",
    "        right -= 1\n",
    "        \n",
    "    if left == right:\n",
    "        arr[n-1] = temp[left]"
   ]
  },
  {
   "cell_type": "markdown",
   "metadata": {},
   "source": [
    "## Testing"
   ]
  },
  {
   "cell_type": "code",
   "execution_count": 3,
   "metadata": {},
   "outputs": [
    {
     "name": "stdout",
     "output_type": "stream",
     "text": [
      "4\n",
      "1 2 2 1\n",
      "1 2 1 2\n"
     ]
    }
   ],
   "source": [
    "n = int(input())\n",
    "arr = list(map(int, input().strip().split()))\n",
    "rearrange(arr, n)\n",
    "print(*arr)"
   ]
  },
  {
   "cell_type": "raw",
   "metadata": {},
   "source": [
    "Expected Input:\n",
    "    4\n",
    "    1 2 2 1\n",
    "Expected Output:\n",
    "    1 2 1 2"
   ]
  },
  {
   "cell_type": "code",
   "execution_count": null,
   "metadata": {},
   "outputs": [],
   "source": []
  },
  {
   "cell_type": "code",
   "execution_count": null,
   "metadata": {},
   "outputs": [],
   "source": []
  },
  {
   "cell_type": "code",
   "execution_count": null,
   "metadata": {},
   "outputs": [],
   "source": []
  }
 ],
 "metadata": {
  "kernelspec": {
   "display_name": "Python 3",
   "language": "python",
   "name": "python3"
  },
  "language_info": {
   "codemirror_mode": {
    "name": "ipython",
    "version": 3
   },
   "file_extension": ".py",
   "mimetype": "text/x-python",
   "name": "python",
   "nbconvert_exporter": "python",
   "pygments_lexer": "ipython3",
   "version": "3.6.4"
  }
 },
 "nbformat": 4,
 "nbformat_minor": 2
}
