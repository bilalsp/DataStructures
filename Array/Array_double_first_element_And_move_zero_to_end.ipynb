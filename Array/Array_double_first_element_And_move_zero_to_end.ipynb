{
 "cells": [
  {
   "cell_type": "markdown",
   "metadata": {},
   "source": [
    "## <Center> <HR> <font color=\"blue\"> Double the first element and move zero to end  </font> <HR> </Center>\n",
    "   \n",
    "Given an array of integers of size n. Assume ‘0’ as invalid number and all other as valid number. Convert the array in such a way that if next number is a valid number and same as current number, double its value and replace the next number with 0. After the modification, rearrange the array such that all 0’s are shifted to the end.\n",
    "    "
   ]
  },
  {
   "cell_type": "markdown",
   "metadata": {},
   "source": [
    "## Approach-1\n",
    "    Time complexity : O(n) || Auxiliary Space : O(1)"
   ]
  },
  {
   "cell_type": "code",
   "execution_count": 9,
   "metadata": {},
   "outputs": [],
   "source": [
    "def convert(arr, n):\n",
    "    \n",
    "    for i in range(n-1):\n",
    "        if arr[i] == arr[i+1]:\n",
    "            arr[i] = 2*arr[i]\n",
    "            arr[i+1] = 0\n",
    "    \n",
    "    #Move zeros to the end\n",
    "    nonZero_index = 0\n",
    "    for i in range(n):\n",
    "        if arr[i] != 0:\n",
    "            arr[nonZero_index], arr[i] = arr[i], arr[nonZero_index]\n",
    "            nonZero_index += 1"
   ]
  },
  {
   "cell_type": "markdown",
   "metadata": {},
   "source": [
    "## Testing"
   ]
  },
  {
   "cell_type": "code",
   "execution_count": 8,
   "metadata": {},
   "outputs": [
    {
     "name": "stdout",
     "output_type": "stream",
     "text": [
      "10\n",
      "0 2 2 2 0 6 6 0 0 8\n",
      "4 2 12 8 0 0 0 0 0 0\n"
     ]
    }
   ],
   "source": [
    "n = int(input())\n",
    "arr = list(map(int, input().strip().split()))\n",
    "convert(arr, n)\n",
    "print(*arr)"
   ]
  },
  {
   "cell_type": "raw",
   "metadata": {},
   "source": [
    "Expected Input:\n",
    "    10\n",
    "    0 2 2 2 0 6 6 0 0 8\n",
    "Expected Output:\n",
    "    4 2 12 8 0 0 0 0 0 0"
   ]
  },
  {
   "cell_type": "code",
   "execution_count": null,
   "metadata": {},
   "outputs": [],
   "source": []
  }
 ],
 "metadata": {
  "kernelspec": {
   "display_name": "Python 3",
   "language": "python",
   "name": "python3"
  },
  "language_info": {
   "codemirror_mode": {
    "name": "ipython",
    "version": 3
   },
   "file_extension": ".py",
   "mimetype": "text/x-python",
   "name": "python",
   "nbconvert_exporter": "python",
   "pygments_lexer": "ipython3",
   "version": "3.6.4"
  }
 },
 "nbformat": 4,
 "nbformat_minor": 2
}
